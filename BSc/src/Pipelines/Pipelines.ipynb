{
 "cells": [
  {
   "cell_type": "markdown",
   "id": "e1716436-295f-4149-af37-790849343870",
   "metadata": {},
   "source": [
    "# Pipelines\n",
    "\n",
    "When we begin a data analysis, we want to create a standard methodlogical pipeline.\n",
    "The pipeline has the following stages:\n",
    "1. Data collection\n",
    "2. Data processing\n",
    "3. Fitting models\n",
    "4. Testing the quality of the fit.\n",
    "5. Drawing conclusions from the fit.\n",
    "\n",
    "If we pack together all of these steps into a single pipeline, then we ensure the reproducibility of our results.\n",
    "Below, I have a number of examples. Some of them are based on the standard /Pipeline/ offered by sklearn.\n"
   ]
  },
  {
   "cell_type": "markdown",
   "id": "48cc647b-ffcc-4385-866b-afc15c33e57d",
   "metadata": {},
   "source": [
    "## 1. Data collection\n",
    "\n",
    "Here the data is loaded and the most basic operations are performed. In this case, we can remove some columns that we /a priori/ know are useless. In a simulation setting, however, data collection is going to be done by sampling from a distribution.\n"
   ]
  },
  {
   "cell_type": "code",
   "execution_count": 1,
   "id": "b948a6e2-516c-44fd-848a-a1e570e2450e",
   "metadata": {},
   "outputs": [
    {
     "data": {
      "text/html": [
       "<div>\n",
       "<style scoped>\n",
       "    .dataframe tbody tr th:only-of-type {\n",
       "        vertical-align: middle;\n",
       "    }\n",
       "\n",
       "    .dataframe tbody tr th {\n",
       "        vertical-align: top;\n",
       "    }\n",
       "\n",
       "    .dataframe thead th {\n",
       "        text-align: right;\n",
       "    }\n",
       "</style>\n",
       "<table border=\"1\" class=\"dataframe\">\n",
       "  <thead>\n",
       "    <tr style=\"text-align: right;\">\n",
       "      <th></th>\n",
       "      <th>Height</th>\n",
       "      <th>Weight</th>\n",
       "      <th>Gender</th>\n",
       "      <th>Age</th>\n",
       "      <th>Sporthours/week</th>\n",
       "      <th>Location: (0 Village, 1: Town, 2: City, 3: Megacity)</th>\n",
       "    </tr>\n",
       "  </thead>\n",
       "  <tbody>\n",
       "    <tr>\n",
       "      <th>0</th>\n",
       "      <td>178.00</td>\n",
       "      <td>81</td>\n",
       "      <td>M</td>\n",
       "      <td>49</td>\n",
       "      <td>7</td>\n",
       "      <td>1</td>\n",
       "    </tr>\n",
       "    <tr>\n",
       "      <th>1</th>\n",
       "      <td>180.00</td>\n",
       "      <td>75</td>\n",
       "      <td>M</td>\n",
       "      <td>22</td>\n",
       "      <td>16</td>\n",
       "      <td>1</td>\n",
       "    </tr>\n",
       "    <tr>\n",
       "      <th>2</th>\n",
       "      <td>169.00</td>\n",
       "      <td>53</td>\n",
       "      <td>F</td>\n",
       "      <td>20</td>\n",
       "      <td>0</td>\n",
       "      <td>2</td>\n",
       "    </tr>\n",
       "    <tr>\n",
       "      <th>3</th>\n",
       "      <td>183.00</td>\n",
       "      <td>80</td>\n",
       "      <td>M</td>\n",
       "      <td>25</td>\n",
       "      <td>1</td>\n",
       "      <td>1</td>\n",
       "    </tr>\n",
       "    <tr>\n",
       "      <th>4</th>\n",
       "      <td>190.00</td>\n",
       "      <td>65</td>\n",
       "      <td>M</td>\n",
       "      <td>25</td>\n",
       "      <td>5</td>\n",
       "      <td>0</td>\n",
       "    </tr>\n",
       "    <tr>\n",
       "      <th>5</th>\n",
       "      <td>178.00</td>\n",
       "      <td>82</td>\n",
       "      <td>M</td>\n",
       "      <td>21</td>\n",
       "      <td>4</td>\n",
       "      <td>0</td>\n",
       "    </tr>\n",
       "    <tr>\n",
       "      <th>6</th>\n",
       "      <td>188.00</td>\n",
       "      <td>85</td>\n",
       "      <td>M</td>\n",
       "      <td>25</td>\n",
       "      <td>8</td>\n",
       "      <td>1</td>\n",
       "    </tr>\n",
       "    <tr>\n",
       "      <th>7</th>\n",
       "      <td>178.00</td>\n",
       "      <td>65</td>\n",
       "      <td>M</td>\n",
       "      <td>24</td>\n",
       "      <td>2</td>\n",
       "      <td>1</td>\n",
       "    </tr>\n",
       "    <tr>\n",
       "      <th>8</th>\n",
       "      <td>179.00</td>\n",
       "      <td>69</td>\n",
       "      <td>M</td>\n",
       "      <td>23</td>\n",
       "      <td>2</td>\n",
       "      <td>0</td>\n",
       "    </tr>\n",
       "    <tr>\n",
       "      <th>9</th>\n",
       "      <td>178.00</td>\n",
       "      <td>60</td>\n",
       "      <td>M</td>\n",
       "      <td>37</td>\n",
       "      <td>0</td>\n",
       "      <td>1</td>\n",
       "    </tr>\n",
       "    <tr>\n",
       "      <th>10</th>\n",
       "      <td>175.00</td>\n",
       "      <td>77</td>\n",
       "      <td>M</td>\n",
       "      <td>26</td>\n",
       "      <td>10</td>\n",
       "      <td>1</td>\n",
       "    </tr>\n",
       "    <tr>\n",
       "      <th>11</th>\n",
       "      <td>177.00</td>\n",
       "      <td>62</td>\n",
       "      <td>F</td>\n",
       "      <td>20</td>\n",
       "      <td>7</td>\n",
       "      <td>1</td>\n",
       "    </tr>\n",
       "    <tr>\n",
       "      <th>12</th>\n",
       "      <td>173.00</td>\n",
       "      <td>61</td>\n",
       "      <td>M</td>\n",
       "      <td>23</td>\n",
       "      <td>2</td>\n",
       "      <td>0</td>\n",
       "    </tr>\n",
       "    <tr>\n",
       "      <th>13</th>\n",
       "      <td>164.00</td>\n",
       "      <td>62</td>\n",
       "      <td>F</td>\n",
       "      <td>28</td>\n",
       "      <td>2</td>\n",
       "      <td>1</td>\n",
       "    </tr>\n",
       "    <tr>\n",
       "      <th>14</th>\n",
       "      <td>170.00</td>\n",
       "      <td>70</td>\n",
       "      <td>M</td>\n",
       "      <td>29</td>\n",
       "      <td>5</td>\n",
       "      <td>1</td>\n",
       "    </tr>\n",
       "    <tr>\n",
       "      <th>15</th>\n",
       "      <td>170.00</td>\n",
       "      <td>74</td>\n",
       "      <td>F</td>\n",
       "      <td>24</td>\n",
       "      <td>3</td>\n",
       "      <td>0</td>\n",
       "    </tr>\n",
       "    <tr>\n",
       "      <th>16</th>\n",
       "      <td>169.00</td>\n",
       "      <td>67</td>\n",
       "      <td>M</td>\n",
       "      <td>23</td>\n",
       "      <td>2</td>\n",
       "      <td>1</td>\n",
       "    </tr>\n",
       "    <tr>\n",
       "      <th>17</th>\n",
       "      <td>165.00</td>\n",
       "      <td>63</td>\n",
       "      <td>M</td>\n",
       "      <td>20</td>\n",
       "      <td>10</td>\n",
       "      <td>0</td>\n",
       "    </tr>\n",
       "    <tr>\n",
       "      <th>18</th>\n",
       "      <td>1.69</td>\n",
       "      <td>50</td>\n",
       "      <td>F</td>\n",
       "      <td>20</td>\n",
       "      <td>3</td>\n",
       "      <td>2</td>\n",
       "    </tr>\n",
       "  </tbody>\n",
       "</table>\n",
       "</div>"
      ],
      "text/plain": [
       "    Height  Weight Gender  Age  Sporthours/week  \\\n",
       "0   178.00      81      M   49                7   \n",
       "1   180.00      75      M   22               16   \n",
       "2   169.00      53      F   20                0   \n",
       "3   183.00      80      M   25                1   \n",
       "4   190.00      65      M   25                5   \n",
       "5   178.00      82      M   21                4   \n",
       "6   188.00      85      M   25                8   \n",
       "7   178.00      65      M   24                2   \n",
       "8   179.00      69      M   23                2   \n",
       "9   178.00      60      M   37                0   \n",
       "10  175.00      77      M   26               10   \n",
       "11  177.00      62      F   20                7   \n",
       "12  173.00      61      M   23                2   \n",
       "13  164.00      62      F   28                2   \n",
       "14  170.00      70      M   29                5   \n",
       "15  170.00      74      F   24                3   \n",
       "16  169.00      67      M   23                2   \n",
       "17  165.00      63      M   20               10   \n",
       "18    1.69      50      F   20                3   \n",
       "\n",
       "    Location: (0 Village, 1: Town, 2: City, 3: Megacity)  \n",
       "0                                                   1     \n",
       "1                                                   1     \n",
       "2                                                   2     \n",
       "3                                                   1     \n",
       "4                                                   0     \n",
       "5                                                   0     \n",
       "6                                                   1     \n",
       "7                                                   1     \n",
       "8                                                   0     \n",
       "9                                                   1     \n",
       "10                                                  1     \n",
       "11                                                  1     \n",
       "12                                                  0     \n",
       "13                                                  1     \n",
       "14                                                  1     \n",
       "15                                                  0     \n",
       "16                                                  1     \n",
       "17                                                  0     \n",
       "18                                                  2     "
      ]
     },
     "execution_count": 1,
     "metadata": {},
     "output_type": "execute_result"
    }
   ],
   "source": [
    "import pandas as pd\n",
    "data = pd.read_csv(\"Intro to ML Class.csv\")\n",
    "data = data.drop(['Pseudonym'], axis=1)\n",
    "data"
   ]
  },
  {
   "cell_type": "markdown",
   "id": "dc24524d-1444-4cfc-ba38-edf30ef7fdc7",
   "metadata": {},
   "source": [
    "## Step 2 and 3. Data preprocessing and fitting\n",
    "\n",
    "sklearn allows us to create a single pipeline for all the preprocessing we want to do. This is very useful if we already know what kind of processing we want to do."
   ]
  },
  {
   "cell_type": "code",
   "execution_count": 2,
   "id": "323ada8f",
   "metadata": {},
   "outputs": [],
   "source": [
    "# set up the pipeline\n",
    "from sklearn.pipeline import Pipeline\n",
    "from sklearn.linear_model import Perceptron\n",
    "from sklearn.preprocessing import StandardScaler\n",
    "from sklearn.preprocessing import OneHotEncoder\n",
    "classification_pipeline = Pipeline([('scaler', StandardScaler()), ('perceptron', Perceptron())])\n"
   ]
  },
  {
   "cell_type": "code",
   "execution_count": 8,
   "id": "dac018e1",
   "metadata": {},
   "outputs": [
    {
     "data": {
      "text/plain": [
       "array(['M', 'M', 'F', 'F', 'M', 'M', 'M', 'F', 'M', 'M', 'M', 'F', 'M',\n",
       "       'F', 'M', 'M', 'F', 'M', 'F'], dtype='<U1')"
      ]
     },
     "execution_count": 8,
     "metadata": {},
     "output_type": "execute_result"
    }
   ],
   "source": [
    "# fit data\n",
    "X = data.copy().drop(['Gender'], axis=1)\n",
    "y = data['Gender']\n",
    "classification_pipeline.fit(X, y)\n",
    "classification_pipeline.predict(X)"
   ]
  },
  {
   "cell_type": "code",
   "execution_count": 10,
   "id": "5d41a859-e271-4dbc-a8a9-6759c2d14275",
   "metadata": {},
   "outputs": [],
   "source": [
    "from sklearn.linear_model import LinearRegression\n",
    "from sklearn.preprocessing import OrdinalEncoder\n",
    "from sklearn.compose import ColumnTransformer\n"
   ]
  },
  {
   "cell_type": "code",
   "execution_count": 11,
   "id": "75c978ce-a15b-40ca-a223-38d0f5c20b08",
   "metadata": {},
   "outputs": [],
   "source": [
    "numeric_features = [ \"Height\", \"Age\", \"Sporthours/week\"]\n",
    "numeric_transformer = Pipeline(\n",
    "    steps=[(\"scaler\", StandardScaler())]\n",
    ")\n",
    "\n",
    "categorical_features = [\"Gender\"]\n",
    "categorical_transformer = Pipeline(\n",
    "    steps=[\n",
    "        (\"encoder\", OrdinalEncoder())\n",
    "    ]\n",
    ")\n",
    "preprocessor = ColumnTransformer(\n",
    "    transformers=[\n",
    "        (\"num\", numeric_transformer, numeric_features),\n",
    "        (\"cat\", categorical_transformer, categorical_features),\n",
    "    ]\n",
    ")"
   ]
  },
  {
   "cell_type": "code",
   "execution_count": 239,
   "id": "322a7ba1-9e64-4d6f-afb0-bc572f768df2",
   "metadata": {},
   "outputs": [
    {
     "name": "stdout",
     "output_type": "stream",
     "text": [
      "0     -2.883452\n",
      "1      3.226370\n",
      "2      7.131108\n",
      "3    -11.572562\n",
      "4      6.869569\n",
      "5    -12.791833\n",
      "6    -11.140065\n",
      "7      3.496266\n",
      "8     -0.663432\n",
      "9     10.196834\n",
      "10    -2.523317\n",
      "11     3.808253\n",
      "12     6.847272\n",
      "13     1.088980\n",
      "14     1.203570\n",
      "15   -10.668890\n",
      "16     0.521074\n",
      "17     9.213707\n",
      "18    -1.359452\n",
      "Name: Weight, dtype: float64\n"
     ]
    }
   ],
   "source": [
    "data = pd.read_csv(\"Intro to ML Class.csv\")\n",
    "data = data.drop(['Pseudonym'], axis=1)\n",
    "X = data.copy().drop([\"Weight\"], axis=1)\n",
    "y = data[\"Weight\"].copy()\n",
    "\n",
    "clf = Pipeline(\n",
    "    steps=[(\"preprocessor\", preprocessor), (\"regressor\", LinearRegression())]\n",
    ")\n",
    "clf.fit(X, y)\n",
    "print(clf.predict(X) - y) # show the prediction error\n"
   ]
  },
  {
   "cell_type": "markdown",
   "id": "c66187d4-579c-4a6f-ac29-ae099f3a1f72",
   "metadata": {},
   "source": [
    "# From simple pipelines to simulation\n"
   ]
  },
  {
   "cell_type": "code",
   "execution_count": 24,
   "id": "30e369e8-185b-440c-b4a2-f9d85f1c2745",
   "metadata": {},
   "outputs": [
    {
     "data": {
      "text/plain": [
       "'B'"
      ]
     },
     "execution_count": 24,
     "metadata": {},
     "output_type": "execute_result"
    }
   ],
   "source": [
    "np.random.choice(['A', 'B'])"
   ]
  },
  {
   "cell_type": "code",
   "execution_count": 298,
   "id": "b28511ae-1652-4dee-b65d-9177b4a33ab4",
   "metadata": {},
   "outputs": [],
   "source": [
    "import numpy as np\n",
    "# We can make a number of different simulations, one for each case\n",
    "def SimpleClassDataGenerator(n_samples, m_height=175, f_height=165, m_weight=0.4, f_weight=0.3):\n",
    "    features = [\"Height\", \"Weight\", \"Gender\", \"Age\", \"Sporthours/week\", \"Location\"]\n",
    "    n_features = len(features)\n",
    "    X = np.zeros([n_samples, n_features])\n",
    "    df = pd.DataFrame(X, columns=features)\n",
    "    for t in range(n_samples):\n",
    "        # Assume no relation between gender, age, location and sports\n",
    "        # However this assumption might be false\n",
    "        df.at[t, 'Gender']= np.random.choice(2)\n",
    "        age = 18+np.random.negative_binomial(5,0.3)\n",
    "        df.at[t, 'Age']= age\n",
    "        df.at[t, 'Location']= np.random.choice([0,1,2,3], p=[0.2, 0.3, 0.45, 0.05])\n",
    "        df.at[t, 'Sporthours/week'] = np.random.negative_binomial(4,0.5)\n",
    "        sport_weight =  age / (age  + df.at[t, 'Sporthours/week']) # older people lose weight less effectively?\n",
    "        if (df.at[t,'Gender']== 1):            \n",
    "            df.at[t,'Height'] = np.random.gamma(m_height,1)\n",
    "            df.at[t,'Weight'] = (df.at[t, 'Height'] + np.random.gamma(20,1))*m_weight*sport_weight\n",
    "            \n",
    "        else:\n",
    "            df.at[t,'Height'] = np.random.gamma(f_height,1)\n",
    "            df.at[t,'Weight'] = (df.at[t, 'Height'] + np.random.gamma(20,1))*f_weight*sport_weight\n",
    "    return df\n",
    "    "
   ]
  },
  {
   "cell_type": "code",
   "execution_count": null,
   "id": "e721a155-9e46-4644-8916-2310bcc66fa4",
   "metadata": {},
   "outputs": [],
   "source": []
  },
  {
   "cell_type": "code",
   "execution_count": 299,
   "id": "65947ebe-c9c9-416c-b27e-47f6ec6e33ab",
   "metadata": {},
   "outputs": [],
   "source": [
    "def my_pipeline(data):\n",
    "    # get data\n",
    "    X = data.copy().drop([\"Weight\"], axis=1)\n",
    "    y = data[\"Weight\"].copy()\n",
    "\n",
    "    X_train, X_test, y_train, y_test = train_test_split(X, y, test_size=0.33)\n",
    "\n",
    "    # construct data processing pipeline\n",
    "    clf = LinearRegression()\n",
    "    clf.fit(X_train, y_train)\n",
    "    y_pred = clf.predict(X_test)\n",
    "    mse = np.mean((y_pred - y_test)**2)\n",
    "    return mse, clf.coef_"
   ]
  },
  {
   "cell_type": "markdown",
   "id": "0d7c7556-79e0-47b2-914e-75a9e19a3f8f",
   "metadata": {},
   "source": [
    "# Experiment design\n",
    "\n",
    "We can perform multiple experiments to take into account the variability of the data.\n",
    "We can start by seing see how well we can predict the weight from measurements with different amounts of data.\n",
    "By altering the simulator parameters, we can see how well our model is able to capture the dependencies between different variables. This can inform our experiment design:\n",
    "- How much data do we need to collect?\n",
    "- When can we expect to have a reasonable result?"
   ]
  },
  {
   "cell_type": "code",
   "execution_count": 290,
   "id": "66f4c71e-da76-42be-88f2-3978ce6fbe05",
   "metadata": {},
   "outputs": [],
   "source": [
    "data_sizes = [10,20,50,100,200,500,1000,2000,5000,10000]\n",
    "n_experiments=10\n",
    "mse = np.zeros([n_experiments, len(data_sizes)])\n",
    "c_height = np.zeros([n_experiments, len(data_sizes)])\n",
    "c_gender = np.zeros([n_experiments, len(data_sizes)])\n",
    "\n",
    "for t in range(n_experiments):\n",
    "    k = 0\n",
    "    for n_data in data_sizes:\n",
    "        mse[t, k], coeffs   = my_pipeline(SimpleClassDataGenerator(n_data))\n",
    "        c_height[t, k] = coeffs[0]\n",
    "        c_gender[t, k] = coeffs[1]\n",
    "        k+=1\n",
    "\n"
   ]
  },
  {
   "cell_type": "code",
   "execution_count": 291,
   "id": "6821caff-598a-4ef1-b9bd-5799a063050a",
   "metadata": {},
   "outputs": [
    {
     "data": {
      "text/plain": [
       "[<matplotlib.lines.Line2D at 0x7f57f24fa6e0>]"
      ]
     },
     "execution_count": 291,
     "metadata": {},
     "output_type": "execute_result"
    },
    {
     "data": {
      "image/png": "[encoded data removed]",
      "text/plain": [
       "<Figure size 432x288 with 1 Axes>"
      ]
     },
     "metadata": {
      "needs_background": "light"
     },
     "output_type": "display_data"
    }
   ],
   "source": [
    "# As we can see from this plot, we need at least 100 measurements \n",
    "plt.loglog(data_sizes, mse.transpose(), '--')\n",
    "plt.loglog(data_sizes, np.mean(mse, axis=0))"
   ]
  },
  {
   "cell_type": "code",
   "execution_count": 295,
   "id": "a869ed9d-61b5-4632-9a14-927c4fab47b5",
   "metadata": {},
   "outputs": [
    {
     "data": {
      "text/plain": [
       "[<matplotlib.lines.Line2D at 0x7f57d7bd2770>]"
      ]
     },
     "execution_count": 295,
     "metadata": {},
     "output_type": "execute_result"
    },
    {
     "data": {
      "image/png": "[encoded data removed]",
      "text/plain": [
       "<Figure size 432x288 with 1 Axes>"
      ]
     },
     "metadata": {
      "needs_background": "light"
     },
     "output_type": "display_data"
    }
   ],
   "source": [
    "# As we can see from this plot, we need at least 100 measurements \n",
    "plt.loglog(data_sizes, c_height.transpose(), '--')\n",
    "plt.loglog(data_sizes, np.mean(c_height, axis=0))"
   ]
  },
  {
   "cell_type": "code",
   "execution_count": 288,
   "id": "86cc8cf0-eff4-408b-a50e-e3f33c2e302f",
   "metadata": {},
   "outputs": [
    {
     "data": {
      "text/plain": [
       "[<matplotlib.lines.Line2D at 0x7f57d99e39a0>]"
      ]
     },
     "execution_count": 288,
     "metadata": {},
     "output_type": "execute_result"
    },
    {
     "data": {
      "image/png": "[encoded data removed]",
      "text/plain": [
       "<Figure size 432x288 with 1 Axes>"
      ]
     },
     "metadata": {
      "needs_background": "light"
     },
     "output_type": "display_data"
    }
   ],
   "source": [
    "# As we can see from this plot, we need at least 100 measurements \n",
    "plt.plot(data_sizes, c_gender.transpose(), '--')\n",
    "plt.plot(data_sizes, np.mean(c_gender, axis=0))\n"
   ]
  },
  {
   "cell_type": "markdown",
   "id": "79841bbb-bac5-4366-b3b7-4a89156503bc",
   "metadata": {},
   "source": [
    "Let's now repeat the experiment for classification...\n"
   ]
  },
  {
   "cell_type": "code",
   "execution_count": null,
   "id": "80eb820e-6f9a-4c2f-84f6-afe2b29e56ea",
   "metadata": {},
   "outputs": [],
   "source": []
  }
 ],
 "metadata": {
  "kernelspec": {
   "display_name": "Python 3 (ipykernel)",
   "language": "python",
   "name": "python3"
  },
  "language_info": {
   "codemirror_mode": {
    "name": "ipython",
    "version": 3
   },
   "file_extension": ".py",
   "mimetype": "text/x-python",
   "name": "python",
   "nbconvert_exporter": "python",
   "pygments_lexer": "ipython3",
   "version": "3.10.12"
  }
 },
 "nbformat": 4,
 "nbformat_minor": 5
}
