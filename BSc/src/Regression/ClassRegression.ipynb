{
 "cells": [
  {
   "cell_type": "code",
   "execution_count": 32,
   "id": "5fce9829-52bb-4824-85ed-c299e697f6f2",
   "metadata": {},
   "outputs": [],
   "source": [
    "import pandas as pd\n",
    "import numpy as np"
   ]
  },
  {
   "cell_type": "code",
   "execution_count": 33,
   "id": "1271e883-b0b4-4748-985e-3c4e81d6cfc3",
   "metadata": {},
   "outputs": [],
   "source": [
    "data = pd.read_excel(\"../../data/class.xlsx\")"
   ]
  },
  {
   "cell_type": "code",
   "execution_count": 34,
   "id": "4b5884c6-2c9a-4a55-af66-1ba5bc5b1009",
   "metadata": {},
   "outputs": [
    {
     "data": {
      "text/html": [
       "<div>\n",
       "<style scoped>\n",
       "    .dataframe tbody tr th:only-of-type {\n",
       "        vertical-align: middle;\n",
       "    }\n",
       "\n",
       "    .dataframe tbody tr th {\n",
       "        vertical-align: top;\n",
       "    }\n",
       "\n",
       "    .dataframe thead th {\n",
       "        text-align: right;\n",
       "    }\n",
       "</style>\n",
       "<table border=\"1\" class=\"dataframe\">\n",
       "  <thead>\n",
       "    <tr style=\"text-align: right;\">\n",
       "      <th></th>\n",
       "      <th>First Name</th>\n",
       "      <th>Gender</th>\n",
       "      <th>Height</th>\n",
       "      <th>Weight</th>\n",
       "      <th>Age</th>\n",
       "      <th>Nationality</th>\n",
       "      <th>Smoking (cig/day)</th>\n",
       "      <th>Coffee (cups/day)</th>\n",
       "      <th>Drink (drinks/week)</th>\n",
       "      <th>Exercise (hours/week)</th>\n",
       "    </tr>\n",
       "  </thead>\n",
       "  <tbody>\n",
       "    <tr>\n",
       "      <th>0</th>\n",
       "      <td>A</td>\n",
       "      <td>M</td>\n",
       "      <td>150</td>\n",
       "      <td>70</td>\n",
       "      <td>30</td>\n",
       "      <td>Greek</td>\n",
       "      <td>0</td>\n",
       "      <td>2</td>\n",
       "      <td>2</td>\n",
       "      <td>7</td>\n",
       "    </tr>\n",
       "    <tr>\n",
       "      <th>1</th>\n",
       "      <td>B</td>\n",
       "      <td>M</td>\n",
       "      <td>170</td>\n",
       "      <td>80</td>\n",
       "      <td>50</td>\n",
       "      <td>Atlantian</td>\n",
       "      <td>0</td>\n",
       "      <td>0</td>\n",
       "      <td>10</td>\n",
       "      <td>0</td>\n",
       "    </tr>\n",
       "    <tr>\n",
       "      <th>2</th>\n",
       "      <td>C</td>\n",
       "      <td>F</td>\n",
       "      <td>210</td>\n",
       "      <td>90</td>\n",
       "      <td>18</td>\n",
       "      <td>USA</td>\n",
       "      <td>1</td>\n",
       "      <td>1</td>\n",
       "      <td>2</td>\n",
       "      <td>20</td>\n",
       "    </tr>\n",
       "    <tr>\n",
       "      <th>3</th>\n",
       "      <td>D</td>\n",
       "      <td>M</td>\n",
       "      <td>180</td>\n",
       "      <td>80</td>\n",
       "      <td>19</td>\n",
       "      <td>Greece</td>\n",
       "      <td>0</td>\n",
       "      <td>0</td>\n",
       "      <td>0</td>\n",
       "      <td>3</td>\n",
       "    </tr>\n",
       "    <tr>\n",
       "      <th>4</th>\n",
       "      <td>E</td>\n",
       "      <td>F</td>\n",
       "      <td>160</td>\n",
       "      <td>60</td>\n",
       "      <td>21</td>\n",
       "      <td>American</td>\n",
       "      <td>0</td>\n",
       "      <td>0</td>\n",
       "      <td>0</td>\n",
       "      <td>0</td>\n",
       "    </tr>\n",
       "  </tbody>\n",
       "</table>\n",
       "</div>"
      ],
      "text/plain": [
       "  First Name Gender  Height  Weight  Age Nationality  Smoking (cig/day)  \\\n",
       "0          A      M     150      70   30       Greek                  0   \n",
       "1          B      M     170      80   50   Atlantian                  0   \n",
       "2          C      F     210      90   18         USA                  1   \n",
       "3          D      M     180      80   19      Greece                  0   \n",
       "4          E      F     160      60   21    American                  0   \n",
       "\n",
       "   Coffee (cups/day)  Drink (drinks/week)  Exercise (hours/week)  \n",
       "0                  2                    2                      7  \n",
       "1                  0                   10                      0  \n",
       "2                  1                    2                     20  \n",
       "3                  0                    0                      3  \n",
       "4                  0                    0                      0  "
      ]
     },
     "execution_count": 34,
     "metadata": {},
     "output_type": "execute_result"
    }
   ],
   "source": [
    "data.head()"
   ]
  },
  {
   "cell_type": "code",
   "execution_count": 35,
   "id": "21e06ad0-eed6-4e99-8a91-f97c9407f480",
   "metadata": {},
   "outputs": [],
   "source": [
    "X = data[\"Height\"]\n",
    "Y = data[\"Weight\"]"
   ]
  },
  {
   "cell_type": "code",
   "execution_count": 36,
   "id": "1c5cef67-f4ee-492f-8c51-53d557b52e88",
   "metadata": {
    "scrolled": true
   },
   "outputs": [
    {
     "data": {
      "text/plain": [
       "<matplotlib.collections.PathCollection at 0x7f4ac0f207d0>"
      ]
     },
     "execution_count": 36,
     "metadata": {},
     "output_type": "execute_result"
    },
    {
     "data": {
      "image/png": "[encoded data removed]",
      "text/plain": [
       "<Figure size 640x480 with 1 Axes>"
      ]
     },
     "metadata": {},
     "output_type": "display_data"
    }
   ],
   "source": [
    "import matplotlib.pyplot as plt\n",
    "plt.scatter(X, Y)\n"
   ]
  },
  {
   "cell_type": "code",
   "execution_count": 37,
   "id": "52b7fe7a-d34d-4fad-96b8-fdd1409dd0cf",
   "metadata": {},
   "outputs": [],
   "source": [
    "def mse_loss(f, X, Y):\n",
    "    mse = 0\n",
    "    for t in range(len(Y)):\n",
    "        a = f.predict(X[t])\n",
    "        mse += (a - Y[t])**2\n",
    "        #print(X[t], Y[t], a)\n",
    "    return mse / len(Y)\n"
   ]
  },
  {
   "cell_type": "code",
   "execution_count": 38,
   "id": "bef553db-51a7-4b65-b0e6-c203649fc96a",
   "metadata": {},
   "outputs": [],
   "source": [
    "class LinearFunction:\n",
    "    def __init__(self, n):\n",
    "        self.params = np.zeros(n)\n",
    "        self.n_in = n\n",
    "    def predict(self, x):\n",
    "        return np.dot(self.params, x)"
   ]
  },
  {
   "cell_type": "markdown",
   "id": "f28ce854",
   "metadata": {},
   "source": [
    "# One-dimensional example\n",
    "\n",
    "Here we just look at single parameter prediction functions\n",
    "\n",
    "$$f_\\beta(x) = \\beta x,$$\n",
    "\n",
    "with $x, \\beta \\in \\mathbb{R}$. So there is only one input and one parameter. This allows us to visualise the MSE on the data for different values of $\\beta$:\n",
    "\n",
    "$$L(D, \\beta) = \\frac{1}{|D|}\\sum_{(x,y) \\in D} \\ell(f_\\beta(x), y),$$\n",
    "\n",
    "with $\\ell(a, y) = (a - y)^2$.\n",
    "\n"
   ]
  },
  {
   "cell_type": "code",
   "execution_count": 39,
   "id": "e799512f-a9ea-474e-82c6-c1c8f065063a",
   "metadata": {},
   "outputs": [],
   "source": [
    "\n",
    "a = 0\n",
    "n_samples = 100\n",
    "beta = np.arange(0, n_samples)/n_samples\n",
    "mse = np.zeros(n_samples)\n",
    "for k in range(n_samples):\n",
    "    fun = LinearFunction(1)\n",
    "    fun.params[0] = beta[k]\n",
    "    mse[k] = mse_loss(fun, X, Y)\n",
    "    \n"
   ]
  },
  {
   "cell_type": "code",
   "execution_count": 40,
   "id": "8ceb0bb6",
   "metadata": {},
   "outputs": [
    {
     "data": {
      "text/plain": [
       "Text(0.5, 1.0, 'MSE loss for $f_\\\\beta(x) = \\\\beta x$')"
      ]
     },
     "execution_count": 40,
     "metadata": {},
     "output_type": "execute_result"
    },
    {
     "data": {
      "image/png": "[encoded data removed]",
      "text/plain": [
       "<Figure size 640x480 with 1 Axes>"
      ]
     },
     "metadata": {},
     "output_type": "display_data"
    }
   ],
   "source": [
    "plt.plot(beta, mse)\n",
    "plt.xlabel(\"$\\\\beta$\")\n",
    "plt.ylabel(\"$L$\")\n",
    "plt.title(\"MSE loss for $f_\\\\beta(x) = \\\\beta x$\")"
   ]
  },
  {
   "cell_type": "code",
   "execution_count": null,
   "id": "1cf628e6",
   "metadata": {},
   "outputs": [],
   "source": []
  }
 ],
 "metadata": {
  "kernelspec": {
   "display_name": "Python 3 (ipykernel)",
   "language": "python",
   "name": "python3"
  },
  "language_info": {
   "codemirror_mode": {
    "name": "ipython",
    "version": 3
   },
   "file_extension": ".py",
   "mimetype": "text/x-python",
   "name": "python",
   "nbconvert_exporter": "python",
   "pygments_lexer": "ipython3",
   "version": "3.11.2"
  }
 },
 "nbformat": 4,
 "nbformat_minor": 5
}
