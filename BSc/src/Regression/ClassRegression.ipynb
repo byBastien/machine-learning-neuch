{
 "cells": [
  {
   "cell_type": "code",
   "execution_count": 3,
   "id": "5fce9829-52bb-4824-85ed-c299e697f6f2",
   "metadata": {},
   "outputs": [],
   "source": [
    "import pandas as pd\n"
   ]
  },
  {
   "cell_type": "code",
   "execution_count": 7,
   "id": "1271e883-b0b4-4748-985e-3c4e81d6cfc3",
   "metadata": {},
   "outputs": [],
   "source": [
    "data = pd.read_excel(\"~/class.xlsx\")"
   ]
  },
  {
   "cell_type": "code",
   "execution_count": 8,
   "id": "4b5884c6-2c9a-4a55-af66-1ba5bc5b1009",
   "metadata": {},
   "outputs": [
    {
     "data": {
      "text/html": [
       "<div>\n",
       "<style scoped>\n",
       "    .dataframe tbody tr th:only-of-type {\n",
       "        vertical-align: middle;\n",
       "    }\n",
       "\n",
       "    .dataframe tbody tr th {\n",
       "        vertical-align: top;\n",
       "    }\n",
       "\n",
       "    .dataframe thead th {\n",
       "        text-align: right;\n",
       "    }\n",
       "</style>\n",
       "<table border=\"1\" class=\"dataframe\">\n",
       "  <thead>\n",
       "    <tr style=\"text-align: right;\">\n",
       "      <th></th>\n",
       "      <th>The perceptron as a gradient algorithm</th>\n",
       "      <th>Height</th>\n",
       "      <th>Weight</th>\n",
       "      <th>Gender</th>\n",
       "      <th>Age</th>\n",
       "      <th>Sporthours/week</th>\n",
       "      <th>Location: (0 Village, 1: Town, 2: City, 3: Megacity)</th>\n",
       "    </tr>\n",
       "  </thead>\n",
       "  <tbody>\n",
       "    <tr>\n",
       "      <th>0</th>\n",
       "      <td>CD</td>\n",
       "      <td>178</td>\n",
       "      <td>81</td>\n",
       "      <td>M</td>\n",
       "      <td>49</td>\n",
       "      <td>7</td>\n",
       "      <td>1</td>\n",
       "    </tr>\n",
       "    <tr>\n",
       "      <th>1</th>\n",
       "      <td>TB</td>\n",
       "      <td>180</td>\n",
       "      <td>75</td>\n",
       "      <td>M</td>\n",
       "      <td>22</td>\n",
       "      <td>16</td>\n",
       "      <td>1</td>\n",
       "    </tr>\n",
       "    <tr>\n",
       "      <th>2</th>\n",
       "      <td>BL</td>\n",
       "      <td>169</td>\n",
       "      <td>53</td>\n",
       "      <td>F</td>\n",
       "      <td>20</td>\n",
       "      <td>0</td>\n",
       "      <td>2</td>\n",
       "    </tr>\n",
       "    <tr>\n",
       "      <th>3</th>\n",
       "      <td>KG</td>\n",
       "      <td>183</td>\n",
       "      <td>80</td>\n",
       "      <td>M</td>\n",
       "      <td>25</td>\n",
       "      <td>1</td>\n",
       "      <td>1</td>\n",
       "    </tr>\n",
       "    <tr>\n",
       "      <th>4</th>\n",
       "      <td>TR</td>\n",
       "      <td>190</td>\n",
       "      <td>65</td>\n",
       "      <td>M</td>\n",
       "      <td>25</td>\n",
       "      <td>5</td>\n",
       "      <td>0</td>\n",
       "    </tr>\n",
       "  </tbody>\n",
       "</table>\n",
       "</div>"
      ],
      "text/plain": [
       "  The perceptron as a gradient algorithm  Height  Weight Gender  Age  \\\n",
       "0                                     CD     178      81      M   49   \n",
       "1                                     TB     180      75      M   22   \n",
       "2                                     BL     169      53      F   20   \n",
       "3                                     KG     183      80      M   25   \n",
       "4                                     TR     190      65      M   25   \n",
       "\n",
       "   Sporthours/week  Location: (0 Village, 1: Town, 2: City, 3: Megacity)  \n",
       "0                7                                                  1     \n",
       "1               16                                                  1     \n",
       "2                0                                                  2     \n",
       "3                1                                                  1     \n",
       "4                5                                                  0     "
      ]
     },
     "execution_count": 8,
     "metadata": {},
     "output_type": "execute_result"
    }
   ],
   "source": [
    "data.head()"
   ]
  },
  {
   "cell_type": "code",
   "execution_count": 9,
   "id": "21e06ad0-eed6-4e99-8a91-f97c9407f480",
   "metadata": {},
   "outputs": [],
   "source": [
    "X = data[\"Height\"]\n",
    "Y = data[\"Weight\"]"
   ]
  },
  {
   "cell_type": "code",
   "execution_count": 11,
   "id": "1c5cef67-f4ee-492f-8c51-53d557b52e88",
   "metadata": {},
   "outputs": [
    {
     "data": {
      "text/plain": [
       "[<matplotlib.lines.Line2D at 0x7f7b4e16b760>]"
      ]
     },
     "execution_count": 11,
     "metadata": {},
     "output_type": "execute_result"
    },
    {
     "data": {
      "image/png": "[encoded data removed]",
      "text/plain": [
       "<Figure size 640x480 with 1 Axes>"
      ]
     },
     "metadata": {},
     "output_type": "display_data"
    }
   ],
   "source": [
    "import matplotlib.pyplot as plt\n",
    "plt.plot(X, Y, 'x')"
   ]
  },
  {
   "cell_type": "code",
   "execution_count": 12,
   "id": "52b7fe7a-d34d-4fad-96b8-fdd1409dd0cf",
   "metadata": {},
   "outputs": [],
   "source": [
    "def mse_loss(f, X, Y):\n",
    "    mse = 0\n",
    "    for t in range(len(Y)):\n",
    "        a = f.predict(X)\n",
    "        mse += (a - y)**2\n",
    "    return t / len(Y)\n"
   ]
  },
  {
   "cell_type": "code",
   "execution_count": 13,
   "id": "bef553db-51a7-4b65-b0e6-c203649fc96a",
   "metadata": {},
   "outputs": [],
   "source": [
    "class linear_function:\n",
    "    def __init__(self, n):\n",
    "        self.params = np.zeros(n)\n",
    "        self.n_in = n\n",
    "    def predict(x):\n",
    "        x.append(x)\n",
    "        return np.dot(self.params, x)"
   ]
  },
  {
   "cell_type": "code",
   "execution_count": null,
   "id": "e799512f-a9ea-474e-82c6-c1c8f065063a",
   "metadata": {},
   "outputs": [],
   "source": [
    "a = 0\n",
    "n_samples = 100\n",
    "beta = np.arange(0, n_samples)/n_samples\n",
    "for k in range(n_samples):\n",
    "    "
   ]
  }
 ],
 "metadata": {
  "kernelspec": {
   "display_name": "Python 3 (ipykernel)",
   "language": "python",
   "name": "python3"
  },
  "language_info": {
   "codemirror_mode": {
    "name": "ipython",
    "version": 3
   },
   "file_extension": ".py",
   "mimetype": "text/x-python",
   "name": "python",
   "nbconvert_exporter": "python",
   "pygments_lexer": "ipython3",
   "version": "3.8.10"
  }
 },
 "nbformat": 4,
 "nbformat_minor": 5
}
