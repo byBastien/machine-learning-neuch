{
 "cells": [
  {
   "cell_type": "code",
   "execution_count": 2,
   "id": "5fce9829-52bb-4824-85ed-c299e697f6f2",
   "metadata": {},
   "outputs": [],
   "source": [
    "import pandas as pd\n"
   ]
  },
  {
   "cell_type": "code",
   "execution_count": 6,
   "id": "1271e883-b0b4-4748-985e-3c4e81d6cfc3",
   "metadata": {},
   "outputs": [],
   "source": [
    "data = pd.read_excel(\"../../data/class.xlsx\")"
   ]
  },
  {
   "cell_type": "code",
   "execution_count": 10,
   "id": "4b5884c6-2c9a-4a55-af66-1ba5bc5b1009",
   "metadata": {},
   "outputs": [
    {
     "data": {
      "text/html": [
       "<div>\n",
       "<style scoped>\n",
       "    .dataframe tbody tr th:only-of-type {\n",
       "        vertical-align: middle;\n",
       "    }\n",
       "\n",
       "    .dataframe tbody tr th {\n",
       "        vertical-align: top;\n",
       "    }\n",
       "\n",
       "    .dataframe thead th {\n",
       "        text-align: right;\n",
       "    }\n",
       "</style>\n",
       "<table border=\"1\" class=\"dataframe\">\n",
       "  <thead>\n",
       "    <tr style=\"text-align: right;\">\n",
       "      <th></th>\n",
       "      <th>First Name</th>\n",
       "      <th>Gender</th>\n",
       "      <th>Height</th>\n",
       "      <th>Weight</th>\n",
       "      <th>Age</th>\n",
       "      <th>Nationality</th>\n",
       "      <th>Smoking (cig/day)</th>\n",
       "      <th>Coffee (cups/day)</th>\n",
       "      <th>Drink (drinks/week)</th>\n",
       "      <th>Exercise (hours/week)</th>\n",
       "    </tr>\n",
       "  </thead>\n",
       "  <tbody>\n",
       "    <tr>\n",
       "      <th>0</th>\n",
       "      <td>A</td>\n",
       "      <td>M</td>\n",
       "      <td>150</td>\n",
       "      <td>70</td>\n",
       "      <td>30</td>\n",
       "      <td>Greek</td>\n",
       "      <td>0</td>\n",
       "      <td>2</td>\n",
       "      <td>2</td>\n",
       "      <td>7</td>\n",
       "    </tr>\n",
       "    <tr>\n",
       "      <th>1</th>\n",
       "      <td>B</td>\n",
       "      <td>M</td>\n",
       "      <td>170</td>\n",
       "      <td>80</td>\n",
       "      <td>50</td>\n",
       "      <td>Atlantian</td>\n",
       "      <td>0</td>\n",
       "      <td>0</td>\n",
       "      <td>10</td>\n",
       "      <td>0</td>\n",
       "    </tr>\n",
       "    <tr>\n",
       "      <th>2</th>\n",
       "      <td>C</td>\n",
       "      <td>F</td>\n",
       "      <td>210</td>\n",
       "      <td>90</td>\n",
       "      <td>18</td>\n",
       "      <td>USA</td>\n",
       "      <td>1</td>\n",
       "      <td>1</td>\n",
       "      <td>2</td>\n",
       "      <td>20</td>\n",
       "    </tr>\n",
       "    <tr>\n",
       "      <th>3</th>\n",
       "      <td>D</td>\n",
       "      <td>M</td>\n",
       "      <td>180</td>\n",
       "      <td>80</td>\n",
       "      <td>19</td>\n",
       "      <td>Greece</td>\n",
       "      <td>0</td>\n",
       "      <td>0</td>\n",
       "      <td>0</td>\n",
       "      <td>3</td>\n",
       "    </tr>\n",
       "    <tr>\n",
       "      <th>4</th>\n",
       "      <td>E</td>\n",
       "      <td>F</td>\n",
       "      <td>160</td>\n",
       "      <td>60</td>\n",
       "      <td>21</td>\n",
       "      <td>American</td>\n",
       "      <td>0</td>\n",
       "      <td>0</td>\n",
       "      <td>0</td>\n",
       "      <td>0</td>\n",
       "    </tr>\n",
       "  </tbody>\n",
       "</table>\n",
       "</div>"
      ],
      "text/plain": [
       "  First Name Gender  Height  Weight  Age Nationality  Smoking (cig/day)  \\\n",
       "0          A      M     150      70   30       Greek                  0   \n",
       "1          B      M     170      80   50   Atlantian                  0   \n",
       "2          C      F     210      90   18         USA                  1   \n",
       "3          D      M     180      80   19      Greece                  0   \n",
       "4          E      F     160      60   21    American                  0   \n",
       "\n",
       "   Coffee (cups/day)  Drink (drinks/week)  Exercise (hours/week)  \n",
       "0                  2                    2                      7  \n",
       "1                  0                   10                      0  \n",
       "2                  1                    2                     20  \n",
       "3                  0                    0                      3  \n",
       "4                  0                    0                      0  "
      ]
     },
     "execution_count": 10,
     "metadata": {},
     "output_type": "execute_result"
    }
   ],
   "source": [
    "data.head()"
   ]
  },
  {
   "cell_type": "code",
   "execution_count": 9,
   "id": "21e06ad0-eed6-4e99-8a91-f97c9407f480",
   "metadata": {},
   "outputs": [],
   "source": [
    "X = data[\"Height\"]\n",
    "Y = data[\"Weight\"]"
   ]
  },
  {
   "cell_type": "code",
   "execution_count": 15,
   "id": "1c5cef67-f4ee-492f-8c51-53d557b52e88",
   "metadata": {},
   "outputs": [
    {
     "data": {
      "text/plain": [
       "[<matplotlib.lines.Line2D at 0x7f46869c5460>]"
      ]
     },
     "execution_count": 15,
     "metadata": {},
     "output_type": "execute_result"
    },
    {
     "data": {
      "image/png": "[encoded data removed]",
      "text/plain": [
       "<Figure size 640x480 with 1 Axes>"
      ]
     },
     "metadata": {},
     "output_type": "display_data"
    }
   ],
   "source": [
    "import matplotlib.pyplot as plt\n",
    "plt.plot(X, Y, 'x')\n",
    "plt.plot(173, 0, '*')"
   ]
  },
  {
   "cell_type": "code",
   "execution_count": null,
   "id": "52b7fe7a-d34d-4fad-96b8-fdd1409dd0cf",
   "metadata": {},
   "outputs": [],
   "source": []
  }
 ],
 "metadata": {
  "kernelspec": {
   "display_name": "Python 3 (ipykernel)",
   "language": "python",
   "name": "python3"
  },
  "language_info": {
   "codemirror_mode": {
    "name": "ipython",
    "version": 3
   },
   "file_extension": ".py",
   "mimetype": "text/x-python",
   "name": "python",
   "nbconvert_exporter": "python",
   "pygments_lexer": "ipython3",
   "version": "3.8.10"
  }
 },
 "nbformat": 4,
 "nbformat_minor": 5
}
