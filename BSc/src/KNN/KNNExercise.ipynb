{
 "cells": [
  {
   "cell_type": "markdown",
   "id": "83b66e55-cabb-4c12-a61c-898d8b573b9b",
   "metadata": {},
   "source": [
    "# Nearest neighbour classifier\n",
    "\n",
    "Here we have a nearest neighbour classifier.\n",
    "It obtains data points $(x_t, y_t)$, with $x_t \\in X$, $y_t \\in \\{0,1, \\ldots, m-1\\}$ and $t \\in \\{1, 2, \\ldots, T\\}$.\n",
    "\n",
    "Given a specific metric $d : X \\times X \\to \\mathbb{R}$, can calculate the distance $d(x_t, x)$ of each data point $x_t$ to a new point $x$.\n",
    "\n",
    "Note that a distance (aka metric) $d$ satisfies\n",
    "- Zero: $d(x, x) = 0$.\n",
    "- Positivity: $d(x, w) > 0, x \\neq w$.\n",
    "- Symmetry: $d(x, w) = d(w, x)$.\n",
    "- Triangle inequality: $d(x, z) \\leq d(x, w) + d(w z)$.\n",
    "\n",
    "If $t^* = \\arg\\min_t d(x_t, x)$ is the closest point to $x$, then the classifier returns its label, $y_{t^*}$\n"
   ]
  },
  {
   "cell_type": "code",
   "execution_count": 10,
   "id": "a55e46fa-4ddf-47d1-a0d9-b202f0d8cb04",
   "metadata": {},
   "outputs": [],
   "source": [
    "import numpy as np\n",
    "## The Nearest Neighbour Classifier\n",
    "## \n",
    "## This is the nearest neighbour classifier.\n",
    "## Given a set of data, and a specific metric,\n",
    "## it calculates all distances to a new point x.\n",
    "## It then uses the class of the closest point to x to predict the label of the new point.\n",
    "class NearestNeighbourClassifier:\n",
    "    ## Initialise the neighbours with a specific metric function and dataset\n",
    "    ## data: a numpy array with T rows and n columns\n",
    "    ## labels: a numy array with T elements\n",
    "    ## Assume labels are in {0, 1, ..., m - 1}\n",
    "    ## self.data[t] : is the t-th row of the data, i.e. the t-th example\n",
    "    ## self.labels[t] : is the t-th label\n",
    "    def __init__(self, data, labels, metric):\n",
    "        self.metric = metric\n",
    "        self.data = data\n",
    "        self.labels = labels\n",
    "        self.n_classes = len(np.unique(labels))  # Counts actual number of labels\n",
    "        self.n_points = data.shape[0]\n",
    "        self.n_features = data.shape[1]\n",
    "        print(\"Nearest Neighbour Set Up with classes: \", self.n_classes)\n",
    "        \n",
    "    \n",
    "    ## predict the most lik\n",
    "    def predict(self, x):\n",
    "        # calculate all distances using self.metric()\n",
    "        #for t in self.n_points:\n",
    "        #    distance[t] = self.metric(self.data[t], x)\n",
    "            \n",
    "        distance = np.array([self.metric(self.data[t], x) for t in range(self.n_points)])\n",
    "        # return the y value for the closest point using np.argmin()\n",
    "        t_star = np.argmin(distance)\n",
    "        return self.labels[t_star]"
   ]
  },
  {
   "cell_type": "markdown",
   "id": "8c0efd10-e486-471a-b5a7-fe0ee9e30e01",
   "metadata": {},
   "source": [
    "# Euclidean distance\n",
    "The most common metric is the Euclidean metric\n",
    "$$d(x, y) = \\|x - y\\|_2 = \\sqrt{\\sum_i |x_i - y_i|^2}$$"
   ]
  },
  {
   "cell_type": "code",
   "execution_count": 2,
   "id": "e00c724d-ee61-416a-a652-61571efa34a4",
   "metadata": {},
   "outputs": [],
   "source": [
    "## Return the euclidean distance between two points\n",
    "##\n",
    "def euclidean_metric(x, y):\n",
    "    ## hint: use np.linalg\n",
    "    return np.linalg.norm(x - y)\n",
    "    "
   ]
  },
  {
   "cell_type": "markdown",
   "id": "9a840592-c150-45af-9ff9-ed04e688230e",
   "metadata": {},
   "source": [
    "# k-nearest neighbour classifier\n",
    "\n",
    "Here we have a k-nearest neighbour classifier.\n",
    "It obtains data points $(x_t, y_t)$, with $x_t \\in X$, $y_t \\in  Y = \\{0,1, \\ldots, m-1\\}$ and $t \\in \\{1, 2, \\ldots, T\\}$.\n",
    "\n",
    "Given a $k> 0$ and a specific metric $d : X \\times X \\to \\mathbb{R}$, can calculate the distance $d(x_t, x)$ of each data point $x_t$ to a new point $x$. It first order the points according to their distance from $x$, i.e. so that\n",
    "$$d(x_t, x) \\leq d(x_{t+1}, x)$$, with point $1$ being the closest point.\n",
    "\n",
    "It then uses only the $k$ closest points to calculate the most likely label.\n",
    "\n",
    "    get_probabilities(x) \n",
    "\n",
    "This function returns the vector $p$ of probabilities for each label. In particular, we set the probability of the i-th label to be the proportion of examples with the label $i$ in the k-nearest neighbours:\n",
    "$$p_i = \\sum_{t=1}^k y_t / k$$\n",
    "\n",
    "    predict(x)\n",
    "\n",
    "Return the label with the highest probability\n",
    "\n",
    "    decide(U, x)\n",
    "\n",
    "We are given a utility function $U : A \\times Y \\to \\mathbb{R}$, which indicates the value of taking $U(a,y)$ of taking action $a$ when the true label is $y$. In simple classification problems, each action $a$ corresponds to a label, but it can also be entirely different. The problem is, of course, that we do not know the label $y$. For that reason, we must use\n",
    "get_probabilities() to estimate the probability of different labels, and then:\n",
    "1. Calculate the expected utility of each action $E[U | a, x] = \\sum_y U(a, y) P(y | x)$.\n",
    "2. Select the action with the highest expected utility $a^* = \\arg\\max_a \\E[U | a, x]$.\n"
   ]
  },
  {
   "cell_type": "code",
   "execution_count": 3,
   "id": "65fcf697-9923-4f17-8ecb-76fd9a9c8eb6",
   "metadata": {},
   "outputs": [],
   "source": [
    "## Skeleton code to be filled in\n",
    "##\n",
    "## First, fill in predict() for k = 1\n",
    "class KNearestNeighbourClassifier:\n",
    "    ## Initialise the neighbours with a specific metric function and dataset\n",
    "    ## Assume labels are in {1, ..., m}\n",
    "    def __init__(self, data, labels, metric, K):\n",
    "        self.metric = metric\n",
    "        self.data = data\n",
    "        self.labels = labels\n",
    "        self.n_classes = len(np.unique(labels))  # Counts actual number of labels\n",
    "        self.K = K\n",
    "        self.n_points = data.shape[0]\n",
    "        self.n_features = data.shape[1]\n",
    "        print(\"classes: \", self.n_classes)\n",
    "        pass\n",
    "    \n",
    "\n",
    "    ## return a vector of probabilities, one for each label\n",
    "    ## Each component of the vector corresponds to the ratio of that same label in the set of neighbours\n",
    "    def get_probabilities(self, x):\n",
    "        # calculate distances\n",
    "        # sort data using argsort\n",
    "        # get K closest neighbours\n",
    "        # get the proportion of each label\n",
    "        pass\n",
    "    ## predict the most likely label\n",
    "    def predict(self, x):\n",
    "        # calculate the probabilities of different clases\n",
    "        # return the y value for most likely label\n",
    "        pass\n",
    "\n",
    "    \n",
    "    # Gives a utility for every possible choice made by the algorithm\n",
    "    def decide(self, U, x):\n",
    "        \"\"\"\n",
    "        A method that return the action that maximise the expected utility.\n",
    "        :param U: is a 2 denominational array that indicated the utility of each action based on y.\n",
    "                    example: U = np.array([ [ 1 , -1000],\n",
    "                                            [ -1 ,    0]  ])\n",
    "                            so the U[1,0] indicated the utility of tanking the action a=1 based on y=0.\n",
    "        :param x: the test point.\n",
    "        :return: the action that maximises the expected utility max_a E[U|a,x].\n",
    "                 where E[U|a,x] = sum_y P(y|x) U(a,y).\n",
    "        \"\"\"\n",
    "        n_actions = U.shape[0]\n",
    "        n_labels = U.shape[1]\n",
    "        assert (n_labels == self.n_classes)\n",
    "        # HINT:\n",
    "        # Need to use the get_probabilities function to return the action with the highest\n",
    "        # expected utility\n",
    "        # i.e. maximising sum_y P(y|x) U(a,y)\n",
    "        pass\n",
    "        "
   ]
  },
  {
   "cell_type": "code",
   "execution_count": 4,
   "id": "98f72638-196c-4941-abff-1dc26ca16304",
   "metadata": {},
   "outputs": [],
   "source": [
    "import pandas as pd\n"
   ]
  },
  {
   "cell_type": "code",
   "execution_count": 5,
   "id": "69a54495-2e88-47b7-9488-aa7d39d3fb9a",
   "metadata": {},
   "outputs": [],
   "source": [
    "data = pd.read_excel(\"~/class.xlsx\")"
   ]
  },
  {
   "cell_type": "code",
   "execution_count": 6,
   "id": "f740f735-1674-45d9-aeea-a243760a2aa8",
   "metadata": {},
   "outputs": [],
   "source": [
    "# Make sure to convert the dataframe to a numpy array\n",
    "X = data[[\"Weight\", \"Height\"]].to_numpy()\n",
    "y = (data[\"Gender\"]==\"F\").to_numpy()*1 # from characters to True/False to 0/1"
   ]
  },
  {
   "cell_type": "code",
   "execution_count": 12,
   "id": "04dbd655-410f-4001-84a7-28afbe8aabb5",
   "metadata": {},
   "outputs": [
    {
     "name": "stdout",
     "output_type": "stream",
     "text": [
      "[50.    1.69] 1\n"
     ]
    }
   ],
   "source": [
    "x = [0, 0]\n",
    "distances = [euclidean_metric(X[t], x) for t in range(X.shape[0])]\n",
    "t_star = np.argmin(distances)\n",
    "print(X[t_star], y[t_star])"
   ]
  },
  {
   "cell_type": "code",
   "execution_count": 13,
   "id": "be908dd4-c261-44f0-8259-3a80d16a52ea",
   "metadata": {},
   "outputs": [
    {
     "name": "stdout",
     "output_type": "stream",
     "text": [
      "Nearest Neighbour Set Up with classes:  2\n"
     ]
    }
   ],
   "source": [
    "classifier = NearestNeighbourClassifier(X, y, euclidean_metric)"
   ]
  },
  {
   "cell_type": "code",
   "execution_count": 22,
   "id": "709b6b0f-7786-4c3e-89f0-bf3c77eb844c",
   "metadata": {},
   "outputs": [
    {
     "data": {
      "text/plain": [
       "1"
      ]
     },
     "execution_count": 22,
     "metadata": {},
     "output_type": "execute_result"
    }
   ],
   "source": [
    "x = [53, 169]\n",
    "classifier.predict(x)"
   ]
  },
  {
   "cell_type": "code",
   "execution_count": 21,
   "id": "c4d6e88f-97c3-4a5c-9c35-318aba6f1514",
   "metadata": {},
   "outputs": [
    {
     "data": {
      "text/plain": [
       "(array([ 53., 169.]), 1)"
      ]
     },
     "execution_count": 21,
     "metadata": {},
     "output_type": "execute_result"
    }
   ],
   "source": [
    "X[2], y[2]"
   ]
  },
  {
   "cell_type": "code",
   "execution_count": null,
   "id": "afd31e51-117f-40a3-ab31-ae5d7bbe9bbf",
   "metadata": {},
   "outputs": [],
   "source": []
  }
 ],
 "metadata": {
  "kernelspec": {
   "display_name": "Python 3 (ipykernel)",
   "language": "python",
   "name": "python3"
  },
  "language_info": {
   "codemirror_mode": {
    "name": "ipython",
    "version": 3
   },
   "file_extension": ".py",
   "mimetype": "text/x-python",
   "name": "python",
   "nbconvert_exporter": "python",
   "pygments_lexer": "ipython3",
   "version": "3.8.10"
  }
 },
 "nbformat": 4,
 "nbformat_minor": 5
}
