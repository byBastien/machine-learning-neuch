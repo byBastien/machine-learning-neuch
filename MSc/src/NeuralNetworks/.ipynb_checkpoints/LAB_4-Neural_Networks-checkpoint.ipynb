{
 "cells": [
  {
   "cell_type": "markdown",
   "metadata": {},
   "source": [
    "# Lab 4 - Neural Networks\n",
    "\n",
    "In this lab, we will explore Neural Networks, which can be trained using the Gradient Descent algorithm.\n",
    "\n",
    "Specifically, we will cover the following topics:\n",
    "\n",
    "1. A brief introduction to the PyTorch library for implementing Neural Networks.\n",
    "2. Implementation of a neural network using PyTorch.\n",
    "3. Discussion on overfitting.\n",
    "4. An example of a machine learning learning pipeline using the Adult dataset.\n",
    "\n",
    "### Materials for the Lab:\n",
    "1. Course slides on Neural Networks.\n",
    "2. PyTorch documentation: [PyTorch Documentation](https://pytorch.org/docs/stable/)\n",
    "3. PyTorch tutorials: [PyTorch Tutorials](https://pytorch.org/tutorials/beginner/basics/intro.html)"
   ]
  },
  {
   "cell_type": "markdown",
   "metadata": {},
   "source": [
    "# 1. Introduction to PyTorch\n",
    "\n",
    "PyTorch is one of the most widely used libraries for developing deep learning models.\n",
    "\n",
    "We will cover the basic concepts of PyTorch and provide further explanations as we progress through the tutorial.\n",
    "\n",
    "We will use PyTorch version: **2.1.0**."
   ]
  },
  {
   "cell_type": "code",
   "metadata": {
    "ExecuteTime": {
     "end_time": "2024-10-18T06:53:05.976860Z",
     "start_time": "2024-10-18T06:52:09.677808Z"
    }
   },
   "source": [
    "# you can install torch by using the following command\n",
    "!pip install torch==2.1.0"
   ],
   "outputs": [
    {
     "name": "stdout",
     "output_type": "stream",
     "text": [
      "Collecting torch==2.1.0\r\n",
      "  Downloading torch-2.1.0-cp311-none-macosx_11_0_arm64.whl.metadata (24 kB)\r\n",
      "Requirement already satisfied: filelock in /Users/bastienjossen/anaconda3/envs/pytorch_mps/lib/python3.11/site-packages (from torch==2.1.0) (3.13.1)\r\n",
      "Requirement already satisfied: typing-extensions in /Users/bastienjossen/anaconda3/envs/pytorch_mps/lib/python3.11/site-packages (from torch==2.1.0) (4.11.0)\r\n",
      "Requirement already satisfied: sympy in /Users/bastienjossen/anaconda3/envs/pytorch_mps/lib/python3.11/site-packages (from torch==2.1.0) (1.13.1)\r\n",
      "Requirement already satisfied: networkx in /Users/bastienjossen/anaconda3/envs/pytorch_mps/lib/python3.11/site-packages (from torch==2.1.0) (3.2.1)\r\n",
      "Requirement already satisfied: jinja2 in /Users/bastienjossen/anaconda3/envs/pytorch_mps/lib/python3.11/site-packages (from torch==2.1.0) (3.1.4)\r\n",
      "Requirement already satisfied: fsspec in /Users/bastienjossen/anaconda3/envs/pytorch_mps/lib/python3.11/site-packages (from torch==2.1.0) (2024.6.1)\r\n",
      "Requirement already satisfied: MarkupSafe>=2.0 in /Users/bastienjossen/anaconda3/envs/pytorch_mps/lib/python3.11/site-packages (from jinja2->torch==2.1.0) (2.1.3)\r\n",
      "Requirement already satisfied: mpmath<1.4,>=1.1.0 in /Users/bastienjossen/anaconda3/envs/pytorch_mps/lib/python3.11/site-packages (from sympy->torch==2.1.0) (1.3.0)\r\n",
      "Downloading torch-2.1.0-cp311-none-macosx_11_0_arm64.whl (59.6 MB)\r\n",
      "\u001B[2K   \u001B[90m━━━━━━━━━━━━━━━━━━━━━━━━━━━━━━━━━━━━━━━━\u001B[0m \u001B[32m59.6/59.6 MB\u001B[0m \u001B[31m1.4 MB/s\u001B[0m eta \u001B[36m0:00:00\u001B[0m00:01\u001B[0m00:02\u001B[0m0m\r\n",
      "\u001B[?25hInstalling collected packages: torch\r\n",
      "  Attempting uninstall: torch\r\n",
      "    Found existing installation: torch 2.6.0.dev20240927\r\n",
      "    Uninstalling torch-2.6.0.dev20240927:\r\n",
      "      Successfully uninstalled torch-2.6.0.dev20240927\r\n",
      "Successfully installed torch-2.1.0\r\n"
     ]
    }
   ],
   "execution_count": 1
  },
  {
   "cell_type": "code",
   "metadata": {
    "ExecuteTime": {
     "end_time": "2024-10-18T06:53:09.124113Z",
     "start_time": "2024-10-18T06:53:08.330047Z"
    }
   },
   "source": [
    "# you can install torchsummary by using the following command\n",
    "!pip install torchsummary"
   ],
   "outputs": [
    {
     "name": "stdout",
     "output_type": "stream",
     "text": [
      "Collecting torchsummary\r\n",
      "  Downloading torchsummary-1.5.1-py3-none-any.whl.metadata (296 bytes)\r\n",
      "Downloading torchsummary-1.5.1-py3-none-any.whl (2.8 kB)\r\n",
      "Installing collected packages: torchsummary\r\n",
      "Successfully installed torchsummary-1.5.1\r\n"
     ]
    }
   ],
   "execution_count": 2
  },
  {
   "cell_type": "code",
   "metadata": {
    "ExecuteTime": {
     "end_time": "2024-10-18T06:53:14.666121Z",
     "start_time": "2024-10-18T06:53:11.260828Z"
    }
   },
   "source": [
    "import torch\n",
    "import numpy as np\n",
    "import matplotlib.pyplot as plt"
   ],
   "outputs": [],
   "execution_count": 3
  },
  {
   "cell_type": "code",
   "metadata": {
    "ExecuteTime": {
     "end_time": "2024-10-18T06:53:14.670009Z",
     "start_time": "2024-10-18T06:53:14.667028Z"
    }
   },
   "source": [
    "torch.__version__"
   ],
   "outputs": [
    {
     "data": {
      "text/plain": [
       "'2.1.0'"
      ]
     },
     "execution_count": 4,
     "metadata": {},
     "output_type": "execute_result"
    }
   ],
   "execution_count": 4
  },
  {
   "cell_type": "markdown",
   "metadata": {},
   "source": [
    "# Tensors\n",
    "\n",
    "Tensors are one of the fundamental components of PyTorch.  \n",
    "You can think of tensors as similar to NumPy arrays.\n",
    "\n",
    "Using tensors, PyTorch can create computational graphs and calculate gradients.\n",
    "\n",
    "Tensors support various operations, which are listed in the following [link](https://pytorch.org/docs/stable/torch.html#pointwise-ops).  \n",
    "In addition to the PyTorch operations, we can also apply standard Python operators between tensors."
   ]
  },
  {
   "cell_type": "code",
   "metadata": {
    "ExecuteTime": {
     "end_time": "2024-10-18T06:53:16.549372Z",
     "start_time": "2024-10-18T06:53:16.547228Z"
    }
   },
   "source": [
    "tensor_1 = torch.tensor([[1., 2.], \n",
    "                         [3., 3.]])\n",
    "\n",
    "tensor_2 = torch.tensor([[1., 0], \n",
    "                         [-1., 0]])"
   ],
   "outputs": [],
   "execution_count": 5
  },
  {
   "cell_type": "code",
   "metadata": {
    "ExecuteTime": {
     "end_time": "2024-10-18T06:53:17.420050Z",
     "start_time": "2024-10-18T06:53:17.417886Z"
    }
   },
   "source": [
    "print(\"tensor_1 shape: \", tensor_1.shape)\n",
    "print(\"tensor_2 shape: \", tensor_2.shape)"
   ],
   "outputs": [
    {
     "name": "stdout",
     "output_type": "stream",
     "text": [
      "tensor_1 shape:  torch.Size([2, 2])\n",
      "tensor_2 shape:  torch.Size([2, 2])\n"
     ]
    }
   ],
   "execution_count": 6
  },
  {
   "cell_type": "code",
   "metadata": {
    "ExecuteTime": {
     "end_time": "2024-10-18T06:53:19.547629Z",
     "start_time": "2024-10-18T06:53:19.544216Z"
    }
   },
   "source": [
    "elem_mul = tensor_1 * tensor_2\n",
    "print(\"Element wise multiplication\")\n",
    "print(\"Result shape: \", elem_mul.size())\n",
    "elem_mul"
   ],
   "outputs": [
    {
     "name": "stdout",
     "output_type": "stream",
     "text": [
      "Element wise multiplication\n",
      "Result shape:  torch.Size([2, 2])\n"
     ]
    },
    {
     "data": {
      "text/plain": [
       "tensor([[ 1.,  0.],\n",
       "        [-3.,  0.]])"
      ]
     },
     "execution_count": 7,
     "metadata": {},
     "output_type": "execute_result"
    }
   ],
   "execution_count": 7
  },
  {
   "cell_type": "code",
   "execution_count": 8,
   "metadata": {
    "ExecuteTime": {
     "end_time": "2024-09-25T14:25:39.250717Z",
     "start_time": "2024-09-25T14:25:39.243491Z"
    }
   },
   "outputs": [
    {
     "name": "stdout",
     "output_type": "stream",
     "text": [
      "Matrix multiplication\n",
      "Result shape:  torch.Size([2, 2])\n"
     ]
    },
    {
     "data": {
      "text/plain": [
       "tensor([[-1.,  0.],\n",
       "        [ 0.,  0.]])"
      ]
     },
     "execution_count": 8,
     "metadata": {},
     "output_type": "execute_result"
    }
   ],
   "source": [
    "matrix_mul = torch.matmul(tensor_1,tensor_2)\n",
    "print(\"Matrix multiplication\")\n",
    "print(\"Result shape: \", matrix_mul.size())\n",
    "torch.matmul(tensor_1,tensor_2)"
   ]
  },
  {
   "cell_type": "code",
   "execution_count": 9,
   "metadata": {
    "ExecuteTime": {
     "end_time": "2024-09-25T14:25:39.456731Z",
     "start_time": "2024-09-25T14:25:39.453460Z"
    }
   },
   "outputs": [
    {
     "data": {
      "text/plain": [
       "array([[1., 2.],\n",
       "       [3., 3.]], dtype=float32)"
      ]
     },
     "execution_count": 9,
     "metadata": {},
     "output_type": "execute_result"
    }
   ],
   "source": [
    "# get tensor as numpy array\n",
    "tensor_1.data.numpy()"
   ]
  },
  {
   "cell_type": "markdown",
   "metadata": {},
   "source": [
    "To begin lets define a simple polynomial function."
   ]
  },
  {
   "cell_type": "code",
   "metadata": {
    "ExecuteTime": {
     "end_time": "2024-10-18T07:00:31.539142Z",
     "start_time": "2024-10-18T07:00:31.535794Z"
    }
   },
   "source": [
    "def f(x):\n",
    "    \"\"\"\n",
    "    A convex function\n",
    "    f(x) = (x-5)^2\n",
    "    \"\"\"\n",
    "    y = (x-5)**2\n",
    "    return y"
   ],
   "outputs": [],
   "execution_count": 8
  },
  {
   "cell_type": "code",
   "metadata": {
    "ExecuteTime": {
     "end_time": "2024-10-18T07:01:48.884838Z",
     "start_time": "2024-10-18T07:01:48.818237Z"
    }
   },
   "source": [
    "x = torch.linspace(-5, 15,100)\n",
    "\n",
    "plt.figure()\n",
    "plt.plot(x, f(x), label = \"(x-5)^2\")\n",
    "plt.legend()\n",
    "plt.title(\"Convex function \\n  f(x) = (x-5)^2\")\n",
    "plt.ylabel(\"y\")\n",
    "plt.xlabel(\"x\")\n",
    "plt.show()\n",
    "plt.close()"
   ],
   "outputs": [
    {
     "data": {
      "text/plain": [
       "<Figure size 640x480 with 1 Axes>"
      ],
      "image/png": "[encoded data removed]"
     },
     "metadata": {},
     "output_type": "display_data"
    }
   ],
   "execution_count": 12
  },
  {
   "cell_type": "markdown",
   "metadata": {},
   "source": [
    "# Gradient Decent\n",
    "\n",
    "**Gradient Descent (GD)** is a iterative method to find a minimum of a **convex function**.\n",
    "\n",
    "**Gradient descent** is one of the most popular algorithms to perform optimization and by far the most common way to optimize neural networks.\n",
    "\n",
    "In machine learning, Gradient descent is a way to minimize an objective function whit respect to model’s parameters by updating the parameters in the opposite direction of the gradient of the objective function w.r.t. to the parameters.\n",
    "\n",
    "<figure>\n",
    "  <img style=\"float: left;\" src=\"./figures/Gradiend_descent.png\" width=\"1500\"/>\n",
    "</figure>"
   ]
  },
  {
   "cell_type": "markdown",
   "metadata": {},
   "source": [
    "\n",
    "\n",
    "The above function has the following computational graph\n",
    "\n",
    "<p align=\"center\">\n",
    "  <img style=\"float: left;\" src=\"./figures/Computational_Graph.png\" width=\"800\"/>\n",
    "</p>"
   ]
  },
  {
   "cell_type": "markdown",
   "metadata": {},
   "source": [
    "The libraries that implement automatic differentiation keep track of the different operation between variables to construct the computational graph.\n",
    "\n",
    "Having this graph allows us to compute the gradients of complex function.\n",
    "\n",
    "\n",
    "Having a computational graph we have two main operation:\n",
    "1. **Forward pass**: calculate the output of the computational graph. In our example the value of f(x)\n",
    "2. **Backward pass**: calculate the gradients of each node in the computational graph.\n",
    "   Having the gradients of each node allows us to calculate the final gradient of each node using the chain rule of differentiation.In our example the df/dx.\n",
    "\n",
    "\n",
    "<p align=\"left\">\n",
    "  <img style=\"float: left;\" src=\"./figures/Auto_diff_Computational_Graph.png\" width=\"2000\"/>\n",
    "</p>"
   ]
  },
  {
   "cell_type": "code",
   "metadata": {
    "ExecuteTime": {
     "end_time": "2024-10-18T07:10:46.523358Z",
     "start_time": "2024-10-18T07:10:46.519859Z"
    }
   },
   "source": [
    "# create tensors with requires_grad = true in order to indicate pytorch to track the gradients of the tensor.\n",
    "x = torch.tensor(3.0, requires_grad = True)\n",
    "\n",
    "# get the output of a function\n",
    "y = f(x) # forward pass\n",
    "\n",
    "# Compute gradients using backward function for y\n",
    "y.backward()\n",
    "\n",
    "# Access the gradients using x.grad\n",
    "gradient = x.grad\n",
    "print(\"gradient df(x)/dx|(x=5) :\", gradient.data.numpy())"
   ],
   "outputs": [
    {
     "name": "stdout",
     "output_type": "stream",
     "text": [
      "gradient df(x)/dx|(x=5) : -4.0\n"
     ]
    }
   ],
   "execution_count": 14
  },
  {
   "cell_type": "markdown",
   "metadata": {},
   "source": [
    "### Implement Gradient Descent\n",
    "in the following example we will find the minimum of a function using gradient decent.\n",
    "\n",
    "\n",
    "<figure>\n",
    "  <img style=\"float: left;\" src=\"./figures/sgd.png\" width=\"1000\"/>\n",
    "</figure>|"
   ]
  },
  {
   "cell_type": "code",
   "execution_count": 13,
   "metadata": {
    "ExecuteTime": {
     "end_time": "2024-09-25T14:25:42.987060Z",
     "start_time": "2024-09-25T14:25:42.983252Z"
    }
   },
   "outputs": [],
   "source": [
    "x_init= -13.0\n",
    "thr = 0.0001\n",
    "step_max = 500\n",
    "lr = 0.1\n",
    "min_value = 0\n",
    "\n",
    "function = f\n",
    "\n",
    "def gradient_decent(function, x_init, min_value, lr, step_max, thr):\n",
    "    x = torch.tensor(x_init, requires_grad = True)\n",
    "    \n",
    "    x_history = [x.data]\n",
    "    step = 0 \n",
    "    while step < step_max:\n",
    "        # step 1. Forward pass to get the output\n",
    "        y = function(x)\n",
    "\n",
    "        # step 2. Backward pass to calculate the gradient\n",
    "        y.backward()\n",
    "\n",
    "        # step 3. Update x to find minimum\n",
    "        gradient = x.grad.data\n",
    "        x.data = x.data - lr * gradient\n",
    "        x.grad.data.zero_() # tenchical steps, otherwise accumulate the gradients\n",
    "\n",
    "        # just keep the values of x\n",
    "        x_history += [x.data]\n",
    "        step = step +1\n",
    "        \n",
    "        # stoping critiria\n",
    "        if abs(x.data - x_history[-2]) < thr:\n",
    "            break\n",
    "    x_history = np.array(x_history)\n",
    "    return x.data, step, x_history "
   ]
  },
  {
   "cell_type": "code",
   "execution_count": 14,
   "metadata": {
    "ExecuteTime": {
     "end_time": "2024-09-25T14:25:43.242486Z",
     "start_time": "2024-09-25T14:25:43.237165Z"
    }
   },
   "outputs": [],
   "source": [
    "x_min, total_steps, x_history = gradient_decent(function = f, \n",
    "                                                x_init = -3.0 ,\n",
    "                                                min_value=0,\n",
    "                                                lr = 0.1,\n",
    "                                                step_max = 100,\n",
    "                                                thr = 0.001)"
   ]
  },
  {
   "cell_type": "code",
   "execution_count": 15,
   "metadata": {
    "ExecuteTime": {
     "end_time": "2024-09-25T14:25:43.486078Z",
     "start_time": "2024-09-25T14:25:43.483972Z"
    }
   },
   "outputs": [
    {
     "name": "stdout",
     "output_type": "stream",
     "text": [
      "Total steps to achive minimum: 35\n",
      "Minimum: 4.9967546\n"
     ]
    }
   ],
   "source": [
    "print(\"Total steps to achive minimum:\" , total_steps)\n",
    "print(\"Minimum:\" , x_min.data.numpy())"
   ]
  },
  {
   "cell_type": "code",
   "execution_count": 16,
   "metadata": {
    "ExecuteTime": {
     "end_time": "2024-09-25T14:25:43.695268Z",
     "start_time": "2024-09-25T14:25:43.693432Z"
    }
   },
   "outputs": [],
   "source": [
    "x_history = np.array(x_history)"
   ]
  },
  {
   "cell_type": "code",
   "execution_count": 17,
   "metadata": {
    "ExecuteTime": {
     "end_time": "2024-09-25T14:25:44.042616Z",
     "start_time": "2024-09-25T14:25:43.922702Z"
    }
   },
   "outputs": [
    {
     "data": {
      "image/png": "[encoded data removed]",
      "text/plain": [
       "<Figure size 640x480 with 1 Axes>"
      ]
     },
     "metadata": {},
     "output_type": "display_data"
    }
   ],
   "source": [
    "x = np.linspace(-13, 23,100)\n",
    "# x_history = np.array()\n",
    "plt.figure()\n",
    "plt.plot(x, f(x), label = \"(x-5)^2\")\n",
    "plt.plot(x_history, f(x_history),marker = \"o\", color=\"r\")\n",
    "plt.legend()\n",
    "plt.title(\"Convex function\")\n",
    "plt.ylabel(\"y\")\n",
    "plt.xlabel(\"x\")\n",
    "plt.show()\n",
    "plt.close()"
   ]
  },
  {
   "cell_type": "markdown",
   "metadata": {},
   "source": [
    "# Loading the Adult Dataset\n",
    "\n",
    "The [Adult dataset](https://archive.ics.uci.edu/dataset/2/adult) is used for a binary classification task.   \n",
    "The objective is to predict whether an individual's income exceeds $50,000 based on various socio-economic features."
   ]
  },
  {
   "cell_type": "code",
   "metadata": {
    "ExecuteTime": {
     "end_time": "2024-10-18T07:20:32.296143Z",
     "start_time": "2024-10-18T07:20:32.289446Z"
    }
   },
   "source": [
    "from collections import OrderedDict\n",
    "\n",
    "data_types = OrderedDict([\n",
    "    (\"age\", \"int\"),\n",
    "    (\"workclass\", \"category\"),\n",
    "    (\"final_weight\", \"int\"),  # originally it was called fnlwgt\n",
    "    (\"education\", \"category\"),\n",
    "    (\"education_num\", \"int\"),\n",
    "    (\"marital_status\", \"category\"),\n",
    "    (\"occupation\", \"category\"),\n",
    "    (\"relationship\", \"category\"),\n",
    "    (\"race\", \"category\"),\n",
    "    (\"sex\", \"category\"),\n",
    "    (\"capital_gain\", \"float\"),  # required because of NaN values\n",
    "    (\"capital_loss\", \"int\"),\n",
    "    (\"hours_per_week\", \"int\"),\n",
    "    (\"native_country\", \"category\"),\n",
    "    (\"income_class\", \"category\"),\n",
    "])\n",
    "target_column = \"income_class\""
   ],
   "outputs": [],
   "execution_count": 15
  },
  {
   "cell_type": "code",
   "metadata": {
    "ExecuteTime": {
     "end_time": "2024-10-18T07:20:33.671775Z",
     "start_time": "2024-10-18T07:20:33.668392Z"
    }
   },
   "source": [
    "def read_dataset(path):\n",
    "    return pd.read_csv(\n",
    "        path,\n",
    "        names=data_types,\n",
    "        index_col=None,\n",
    "\n",
    "        comment='|',  # test dataset has comment in it\n",
    "        skipinitialspace=True,  # Skip spaces after delimiter\n",
    "        na_values={\n",
    "            'capital_gain': 99999,\n",
    "            'workclass': '?',\n",
    "            'native_country': '?',\n",
    "            'occupation': '?',\n",
    "        },\n",
    "        dtype=data_types,\n",
    "    )\n",
    "\n",
    "def clean_dataset(data):\n",
    "    # Test dataset has dot at the end, we remove it in order\n",
    "    # to unify names between training and test datasets.\n",
    "    data['income_class'] = data.income_class.str.rstrip('.').astype('category')\n",
    "\n",
    "    # Remove final weight column since there is no use\n",
    "    # for it during the classification.\n",
    "    data = data.drop('final_weight', axis=1)\n",
    "\n",
    "    # Duplicates might create biases during the analysis and\n",
    "    # during prediction stage they might give over-optimistic\n",
    "    # (or pessimistic) results.\n",
    "    data = data.drop_duplicates()\n",
    "\n",
    "    # Binary target variable (>50K == 1 and <=50K == 0)\n",
    "    data[target_column] = (data[target_column] == '>50K').astype(int)\n",
    "\n",
    "    # Categorical dataset\n",
    "    categorical_features = data.select_dtypes('category').columns\n",
    "    data[categorical_features] = data.select_dtypes('category').apply(lambda x: x.cat.codes)\n",
    "    return data"
   ],
   "outputs": [],
   "execution_count": 16
  },
  {
   "cell_type": "code",
   "execution_count": 24,
   "metadata": {
    "ExecuteTime": {
     "end_time": "2024-09-25T14:25:48.871302Z",
     "start_time": "2024-09-25T14:25:47.316250Z"
    }
   },
   "outputs": [],
   "source": [
    "# !pip install --upgrade certifi"
   ]
  },
  {
   "cell_type": "code",
   "metadata": {
    "ExecuteTime": {
     "end_time": "2024-10-18T07:21:08.021462Z",
     "start_time": "2024-10-18T07:21:07.941192Z"
    }
   },
   "source": [
    "import pandas as pd\n",
    "# get and clean train dataset\n",
    "TRAIN_DATA_FILE = 'data/adult/adult.data'# 'adult/adult.data'\n",
    "train_data = clean_dataset(read_dataset(TRAIN_DATA_FILE))\n",
    "train_data = train_data.dropna()\n",
    "print(\"Train dataset shape:\", train_data.shape)\n",
    "\n",
    "# get and clean test dataset\n",
    "TEST_DATA_FILE = 'data/adult/adult.test' #'adult/adult.test'\n",
    "test_data = clean_dataset(read_dataset(TEST_DATA_FILE))\n",
    "test_data = test_data.dropna()\n",
    "print(\"Test dataset shape:\", test_data.shape)"
   ],
   "outputs": [
    {
     "name": "stdout",
     "output_type": "stream",
     "text": [
      "Train dataset shape: (28938, 14)\n",
      "Test dataset shape: (15175, 14)\n"
     ]
    }
   ],
   "execution_count": 17
  },
  {
   "cell_type": "code",
   "metadata": {
    "ExecuteTime": {
     "end_time": "2024-10-18T07:21:09.584542Z",
     "start_time": "2024-10-18T07:21:09.582294Z"
    }
   },
   "source": [
    "target_column = \"income_class\"\n",
    "features = train_data.columns.difference([target_column])"
   ],
   "outputs": [],
   "execution_count": 18
  },
  {
   "cell_type": "code",
   "execution_count": 27,
   "metadata": {},
   "outputs": [
    {
     "data": {
      "text/html": [
       "<div>\n",
       "<style scoped>\n",
       "    .dataframe tbody tr th:only-of-type {\n",
       "        vertical-align: middle;\n",
       "    }\n",
       "\n",
       "    .dataframe tbody tr th {\n",
       "        vertical-align: top;\n",
       "    }\n",
       "\n",
       "    .dataframe thead th {\n",
       "        text-align: right;\n",
       "    }\n",
       "</style>\n",
       "<table border=\"1\" class=\"dataframe\">\n",
       "  <thead>\n",
       "    <tr style=\"text-align: right;\">\n",
       "      <th></th>\n",
       "      <th>age</th>\n",
       "      <th>workclass</th>\n",
       "      <th>education</th>\n",
       "      <th>education_num</th>\n",
       "      <th>marital_status</th>\n",
       "      <th>occupation</th>\n",
       "      <th>relationship</th>\n",
       "      <th>race</th>\n",
       "      <th>sex</th>\n",
       "      <th>capital_gain</th>\n",
       "      <th>capital_loss</th>\n",
       "      <th>hours_per_week</th>\n",
       "      <th>native_country</th>\n",
       "      <th>income_class</th>\n",
       "    </tr>\n",
       "  </thead>\n",
       "  <tbody>\n",
       "    <tr>\n",
       "      <th>0</th>\n",
       "      <td>39</td>\n",
       "      <td>6</td>\n",
       "      <td>9</td>\n",
       "      <td>13</td>\n",
       "      <td>4</td>\n",
       "      <td>0</td>\n",
       "      <td>1</td>\n",
       "      <td>4</td>\n",
       "      <td>1</td>\n",
       "      <td>2174.0</td>\n",
       "      <td>0</td>\n",
       "      <td>40</td>\n",
       "      <td>38</td>\n",
       "      <td>0</td>\n",
       "    </tr>\n",
       "    <tr>\n",
       "      <th>1</th>\n",
       "      <td>50</td>\n",
       "      <td>5</td>\n",
       "      <td>9</td>\n",
       "      <td>13</td>\n",
       "      <td>2</td>\n",
       "      <td>3</td>\n",
       "      <td>0</td>\n",
       "      <td>4</td>\n",
       "      <td>1</td>\n",
       "      <td>0.0</td>\n",
       "      <td>0</td>\n",
       "      <td>13</td>\n",
       "      <td>38</td>\n",
       "      <td>0</td>\n",
       "    </tr>\n",
       "    <tr>\n",
       "      <th>2</th>\n",
       "      <td>38</td>\n",
       "      <td>3</td>\n",
       "      <td>11</td>\n",
       "      <td>9</td>\n",
       "      <td>0</td>\n",
       "      <td>5</td>\n",
       "      <td>1</td>\n",
       "      <td>4</td>\n",
       "      <td>1</td>\n",
       "      <td>0.0</td>\n",
       "      <td>0</td>\n",
       "      <td>40</td>\n",
       "      <td>38</td>\n",
       "      <td>0</td>\n",
       "    </tr>\n",
       "    <tr>\n",
       "      <th>3</th>\n",
       "      <td>53</td>\n",
       "      <td>3</td>\n",
       "      <td>1</td>\n",
       "      <td>7</td>\n",
       "      <td>2</td>\n",
       "      <td>5</td>\n",
       "      <td>0</td>\n",
       "      <td>2</td>\n",
       "      <td>1</td>\n",
       "      <td>0.0</td>\n",
       "      <td>0</td>\n",
       "      <td>40</td>\n",
       "      <td>38</td>\n",
       "      <td>0</td>\n",
       "    </tr>\n",
       "    <tr>\n",
       "      <th>4</th>\n",
       "      <td>28</td>\n",
       "      <td>3</td>\n",
       "      <td>9</td>\n",
       "      <td>13</td>\n",
       "      <td>2</td>\n",
       "      <td>9</td>\n",
       "      <td>5</td>\n",
       "      <td>2</td>\n",
       "      <td>0</td>\n",
       "      <td>0.0</td>\n",
       "      <td>0</td>\n",
       "      <td>40</td>\n",
       "      <td>4</td>\n",
       "      <td>0</td>\n",
       "    </tr>\n",
       "    <tr>\n",
       "      <th>...</th>\n",
       "      <td>...</td>\n",
       "      <td>...</td>\n",
       "      <td>...</td>\n",
       "      <td>...</td>\n",
       "      <td>...</td>\n",
       "      <td>...</td>\n",
       "      <td>...</td>\n",
       "      <td>...</td>\n",
       "      <td>...</td>\n",
       "      <td>...</td>\n",
       "      <td>...</td>\n",
       "      <td>...</td>\n",
       "      <td>...</td>\n",
       "      <td>...</td>\n",
       "    </tr>\n",
       "    <tr>\n",
       "      <th>32554</th>\n",
       "      <td>53</td>\n",
       "      <td>3</td>\n",
       "      <td>12</td>\n",
       "      <td>14</td>\n",
       "      <td>2</td>\n",
       "      <td>3</td>\n",
       "      <td>0</td>\n",
       "      <td>4</td>\n",
       "      <td>1</td>\n",
       "      <td>0.0</td>\n",
       "      <td>0</td>\n",
       "      <td>40</td>\n",
       "      <td>38</td>\n",
       "      <td>1</td>\n",
       "    </tr>\n",
       "    <tr>\n",
       "      <th>32555</th>\n",
       "      <td>22</td>\n",
       "      <td>3</td>\n",
       "      <td>15</td>\n",
       "      <td>10</td>\n",
       "      <td>4</td>\n",
       "      <td>10</td>\n",
       "      <td>1</td>\n",
       "      <td>4</td>\n",
       "      <td>1</td>\n",
       "      <td>0.0</td>\n",
       "      <td>0</td>\n",
       "      <td>40</td>\n",
       "      <td>38</td>\n",
       "      <td>0</td>\n",
       "    </tr>\n",
       "    <tr>\n",
       "      <th>32556</th>\n",
       "      <td>27</td>\n",
       "      <td>3</td>\n",
       "      <td>7</td>\n",
       "      <td>12</td>\n",
       "      <td>2</td>\n",
       "      <td>12</td>\n",
       "      <td>5</td>\n",
       "      <td>4</td>\n",
       "      <td>0</td>\n",
       "      <td>0.0</td>\n",
       "      <td>0</td>\n",
       "      <td>38</td>\n",
       "      <td>38</td>\n",
       "      <td>0</td>\n",
       "    </tr>\n",
       "    <tr>\n",
       "      <th>32558</th>\n",
       "      <td>58</td>\n",
       "      <td>3</td>\n",
       "      <td>11</td>\n",
       "      <td>9</td>\n",
       "      <td>6</td>\n",
       "      <td>0</td>\n",
       "      <td>4</td>\n",
       "      <td>4</td>\n",
       "      <td>0</td>\n",
       "      <td>0.0</td>\n",
       "      <td>0</td>\n",
       "      <td>40</td>\n",
       "      <td>38</td>\n",
       "      <td>0</td>\n",
       "    </tr>\n",
       "    <tr>\n",
       "      <th>32560</th>\n",
       "      <td>52</td>\n",
       "      <td>4</td>\n",
       "      <td>11</td>\n",
       "      <td>9</td>\n",
       "      <td>2</td>\n",
       "      <td>3</td>\n",
       "      <td>5</td>\n",
       "      <td>4</td>\n",
       "      <td>0</td>\n",
       "      <td>15024.0</td>\n",
       "      <td>0</td>\n",
       "      <td>40</td>\n",
       "      <td>38</td>\n",
       "      <td>1</td>\n",
       "    </tr>\n",
       "  </tbody>\n",
       "</table>\n",
       "<p>28938 rows × 14 columns</p>\n",
       "</div>"
      ],
      "text/plain": [
       "       age  workclass  education  education_num  marital_status  occupation  \\\n",
       "0       39          6          9             13               4           0   \n",
       "1       50          5          9             13               2           3   \n",
       "2       38          3         11              9               0           5   \n",
       "3       53          3          1              7               2           5   \n",
       "4       28          3          9             13               2           9   \n",
       "...    ...        ...        ...            ...             ...         ...   \n",
       "32554   53          3         12             14               2           3   \n",
       "32555   22          3         15             10               4          10   \n",
       "32556   27          3          7             12               2          12   \n",
       "32558   58          3         11              9               6           0   \n",
       "32560   52          4         11              9               2           3   \n",
       "\n",
       "       relationship  race  sex  capital_gain  capital_loss  hours_per_week  \\\n",
       "0                 1     4    1        2174.0             0              40   \n",
       "1                 0     4    1           0.0             0              13   \n",
       "2                 1     4    1           0.0             0              40   \n",
       "3                 0     2    1           0.0             0              40   \n",
       "4                 5     2    0           0.0             0              40   \n",
       "...             ...   ...  ...           ...           ...             ...   \n",
       "32554             0     4    1           0.0             0              40   \n",
       "32555             1     4    1           0.0             0              40   \n",
       "32556             5     4    0           0.0             0              38   \n",
       "32558             4     4    0           0.0             0              40   \n",
       "32560             5     4    0       15024.0             0              40   \n",
       "\n",
       "       native_country  income_class  \n",
       "0                  38             0  \n",
       "1                  38             0  \n",
       "2                  38             0  \n",
       "3                  38             0  \n",
       "4                   4             0  \n",
       "...               ...           ...  \n",
       "32554              38             1  \n",
       "32555              38             0  \n",
       "32556              38             0  \n",
       "32558              38             0  \n",
       "32560              38             1  \n",
       "\n",
       "[28938 rows x 14 columns]"
      ]
     },
     "execution_count": 27,
     "metadata": {},
     "output_type": "execute_result"
    }
   ],
   "source": [
    "train_data"
   ]
  },
  {
   "cell_type": "markdown",
   "metadata": {},
   "source": [
    "### Get train/val/test set"
   ]
  },
  {
   "cell_type": "code",
   "metadata": {
    "ExecuteTime": {
     "end_time": "2024-10-18T07:23:25.240412Z",
     "start_time": "2024-10-18T07:23:24.895014Z"
    }
   },
   "source": [
    "from sklearn.model_selection import train_test_split\n",
    "X_train, X_val, y_train, y_val = train_test_split(train_data[features], train_data[[target_column]], test_size=0.1)\n",
    "X_test, y_test = test_data[features], test_data[[target_column]]"
   ],
   "outputs": [],
   "execution_count": 19
  },
  {
   "cell_type": "markdown",
   "metadata": {},
   "source": [
    "### Data Scalling"
   ]
  },
  {
   "cell_type": "code",
   "metadata": {
    "ExecuteTime": {
     "end_time": "2024-10-18T07:23:26.958603Z",
     "start_time": "2024-10-18T07:23:26.950408Z"
    }
   },
   "source": [
    "from sklearn.preprocessing import StandardScaler\n",
    "\n",
    "scaler = StandardScaler()\n",
    "\n",
    "X_train = pd.DataFrame(scaler.fit_transform(X_train),columns = features)\n",
    "\n",
    "X_val = pd.DataFrame(scaler.transform(X_val),columns = features) # note that here we just use the transform method!\n",
    "X_test = pd.DataFrame(scaler.transform(X_test),columns = features) # note that here we just use the transform method!"
   ],
   "outputs": [],
   "execution_count": 20
  },
  {
   "cell_type": "code",
   "metadata": {
    "ExecuteTime": {
     "end_time": "2024-10-18T07:23:27.654667Z",
     "start_time": "2024-10-18T07:23:27.651513Z"
    }
   },
   "source": [
    "X_train.shape, X_val.shape, X_test.shape"
   ],
   "outputs": [
    {
     "data": {
      "text/plain": [
       "((26044, 13), (2894, 13), (15175, 13))"
      ]
     },
     "execution_count": 21,
     "metadata": {},
     "output_type": "execute_result"
    }
   ],
   "execution_count": 21
  },
  {
   "cell_type": "markdown",
   "metadata": {},
   "source": [
    "# Neural Networks\n",
    "\n",
    "Neural Networks are powerful function approximator that archives state-of-the-art performance on a lot of application the last decade on machine learning.\n",
    "\n",
    "The performance of the Deep Neural Network's is due to their high number of parameters and the efficient learning methods used to train those networks.\n",
    "For example the gtp-3 languages model was about by 175 billion parameters.\n",
    "\n",
    "Neural Networks, adjust their **parameters** (training), using the gradient descent method to **minimise a loss function** $L$."
   ]
  },
  {
   "cell_type": "markdown",
   "metadata": {},
   "source": "![Neural Network](./figures/neural_net_new.png)"
  },
  {
   "cell_type": "markdown",
   "metadata": {},
   "source": [
    "### Operation of each node"
   ]
  },
  {
   "cell_type": "markdown",
   "metadata": {},
   "source": "![Neuron](./figures/neuron_2.png)"
  },
  {
   "cell_type": "markdown",
   "metadata": {},
   "source": [
    "# Activation Functions\n",
    "\n",
    "Activation functions play an integral role in neural networks by introducing non-linearity.\n",
    "This non-linearity allows neural networks to develop complex representations and functions based on the inputs that would not be possible with a simple linear layers.\n",
    "\n",
    "Bellow we illustrate some of the most famous activation functions"
   ]
  },
  {
   "cell_type": "markdown",
   "metadata": {},
   "source": "![Activation Functions](./figures/acitvation_fun.png)"
  },
  {
   "cell_type": "markdown",
   "metadata": {},
   "source": [
    "# Binary Classification problem\n",
    "\n",
    "In classification problem the output of the neural network can be probability of each class p(y|x).\n",
    "\n",
    "So for binary classification we can do that using a single output to indicate the p(y=1|x).  \n",
    "This has to be bounded between [0,1] in order to be a probability.\n",
    "To do so we can use the sigmoid function that we can illustrate bellow.\n",
    "\n",
    "<figure>\n",
    "  <img style=\"float: left;\" src=\"./figures/sigmoid.png\" width=\"1000\"/>\n",
    "</figure>"
   ]
  },
  {
   "cell_type": "markdown",
   "metadata": {},
   "source": [
    "# Define Neural Network with pytorch\n",
    "\n",
    "We will implement a simple neural network for classification problem with pytorch.  \n",
    "The following network has 2 hidden layers following by an output layer."
   ]
  },
  {
   "cell_type": "code",
   "metadata": {
    "ExecuteTime": {
     "end_time": "2024-10-18T07:35:25.509979Z",
     "start_time": "2024-10-18T07:35:25.503174Z"
    }
   },
   "source": [
    "class NeuralNetwork(torch.nn.Module):\n",
    "    \"\"\"\n",
    "    Simple two layer neural network for regression\n",
    "    \"\"\"\n",
    "    def __init__(self, num_input_features):\n",
    "        super().__init__()\n",
    "        \n",
    "        # layer 1\n",
    "        layer_1_units = 200\n",
    "        self.layer_1 = torch.nn.Linear(in_features=num_input_features,\n",
    "                                       out_features=layer_1_units)\n",
    "        self.activation_1 = torch.nn.ReLU()\n",
    "        \n",
    "        # layer  2\n",
    "        layer_2_units = 100\n",
    "        self.layer_2 = torch.nn.Linear(in_features=layer_1_units,\n",
    "                                       out_features=layer_2_units)\n",
    "        self.activation_2 = torch.nn.ReLU()\n",
    "        \n",
    "        # layer output layer\n",
    "        self.out_layer = torch.nn.Linear(in_features=layer_2_units,\n",
    "                                         out_features=1)\n",
    "        self.out_activation= torch.nn.Sigmoid()\n",
    "\n",
    "    def forward(self, x):\n",
    "        x_1 = self.activation_1( self.layer_1( x ) )\n",
    "        x_2 = self.activation_2( self.layer_2( x_1 ) )\n",
    "        output = self.out_activation(self.out_layer(x_2))\n",
    "        return output"
   ],
   "outputs": [],
   "execution_count": 22
  },
  {
   "cell_type": "code",
   "metadata": {
    "ExecuteTime": {
     "end_time": "2024-10-18T07:35:27.661499Z",
     "start_time": "2024-10-18T07:35:27.645057Z"
    }
   },
   "source": [
    "from torchsummary import summary\n",
    "model = NeuralNetwork(num_input_features=12)\n",
    "summary(model, input_size= [[12]])"
   ],
   "outputs": [
    {
     "name": "stdout",
     "output_type": "stream",
     "text": [
      "----------------------------------------------------------------\n",
      "        Layer (type)               Output Shape         Param #\n",
      "================================================================\n",
      "            Linear-1                  [-1, 200]           2,600\n",
      "              ReLU-2                  [-1, 200]               0\n",
      "            Linear-3                  [-1, 100]          20,100\n",
      "              ReLU-4                  [-1, 100]               0\n",
      "            Linear-5                    [-1, 1]             101\n",
      "           Sigmoid-6                    [-1, 1]               0\n",
      "================================================================\n",
      "Total params: 22,801\n",
      "Trainable params: 22,801\n",
      "Non-trainable params: 0\n",
      "----------------------------------------------------------------\n",
      "Input size (MB): 0.00\n",
      "Forward/backward pass size (MB): 0.00\n",
      "Params size (MB): 0.09\n",
      "Estimated Total Size (MB): 0.09\n",
      "----------------------------------------------------------------\n"
     ]
    }
   ],
   "execution_count": 23
  },
  {
   "cell_type": "markdown",
   "metadata": {},
   "source": [
    "### make predictions"
   ]
  },
  {
   "cell_type": "code",
   "metadata": {
    "scrolled": true,
    "ExecuteTime": {
     "end_time": "2024-10-18T07:41:34.881510Z",
     "start_time": "2024-10-18T07:41:34.877953Z"
    }
   },
   "source": [
    "x = torch.rand((100,12))\n",
    "                  \n",
    "predicted_proba = model.forward(x)"
   ],
   "outputs": [],
   "execution_count": 24
  },
  {
   "cell_type": "code",
   "metadata": {
    "ExecuteTime": {
     "end_time": "2024-10-18T07:41:35.225161Z",
     "start_time": "2024-10-18T07:41:35.222572Z"
    }
   },
   "source": [
    "predicted_proba.shape # p(y=1|x)"
   ],
   "outputs": [
    {
     "data": {
      "text/plain": [
       "torch.Size([100, 1])"
      ]
     },
     "execution_count": 25,
     "metadata": {},
     "output_type": "execute_result"
    }
   ],
   "execution_count": 25
  },
  {
   "cell_type": "code",
   "metadata": {
    "scrolled": true,
    "ExecuteTime": {
     "end_time": "2024-10-18T07:41:35.482700Z",
     "start_time": "2024-10-18T07:41:35.479605Z"
    }
   },
   "source": [
    "predicted_proba"
   ],
   "outputs": [
    {
     "data": {
      "text/plain": [
       "tensor([[0.5326],\n",
       "        [0.5365],\n",
       "        [0.5364],\n",
       "        [0.5415],\n",
       "        [0.5260],\n",
       "        [0.5356],\n",
       "        [0.5378],\n",
       "        [0.5488],\n",
       "        [0.5412],\n",
       "        [0.5327],\n",
       "        [0.5372],\n",
       "        [0.5414],\n",
       "        [0.5482],\n",
       "        [0.5403],\n",
       "        [0.5450],\n",
       "        [0.5457],\n",
       "        [0.5372],\n",
       "        [0.5328],\n",
       "        [0.5452],\n",
       "        [0.5454],\n",
       "        [0.5420],\n",
       "        [0.5458],\n",
       "        [0.5353],\n",
       "        [0.5382],\n",
       "        [0.5375],\n",
       "        [0.5432],\n",
       "        [0.5383],\n",
       "        [0.5294],\n",
       "        [0.5475],\n",
       "        [0.5354],\n",
       "        [0.5348],\n",
       "        [0.5317],\n",
       "        [0.5279],\n",
       "        [0.5460],\n",
       "        [0.5279],\n",
       "        [0.5354],\n",
       "        [0.5442],\n",
       "        [0.5428],\n",
       "        [0.5442],\n",
       "        [0.5304],\n",
       "        [0.5405],\n",
       "        [0.5501],\n",
       "        [0.5288],\n",
       "        [0.5389],\n",
       "        [0.5397],\n",
       "        [0.5471],\n",
       "        [0.5434],\n",
       "        [0.5446],\n",
       "        [0.5402],\n",
       "        [0.5374],\n",
       "        [0.5422],\n",
       "        [0.5396],\n",
       "        [0.5365],\n",
       "        [0.5281],\n",
       "        [0.5359],\n",
       "        [0.5416],\n",
       "        [0.5235],\n",
       "        [0.5375],\n",
       "        [0.5296],\n",
       "        [0.5336],\n",
       "        [0.5416],\n",
       "        [0.5426],\n",
       "        [0.5377],\n",
       "        [0.5335],\n",
       "        [0.5467],\n",
       "        [0.5446],\n",
       "        [0.5361],\n",
       "        [0.5378],\n",
       "        [0.5326],\n",
       "        [0.5331],\n",
       "        [0.5333],\n",
       "        [0.5304],\n",
       "        [0.5468],\n",
       "        [0.5542],\n",
       "        [0.5340],\n",
       "        [0.5423],\n",
       "        [0.5417],\n",
       "        [0.5379],\n",
       "        [0.5336],\n",
       "        [0.5431],\n",
       "        [0.5404],\n",
       "        [0.5258],\n",
       "        [0.5492],\n",
       "        [0.5359],\n",
       "        [0.5495],\n",
       "        [0.5351],\n",
       "        [0.5392],\n",
       "        [0.5367],\n",
       "        [0.5378],\n",
       "        [0.5355],\n",
       "        [0.5347],\n",
       "        [0.5447],\n",
       "        [0.5512],\n",
       "        [0.5251],\n",
       "        [0.5337],\n",
       "        [0.5390],\n",
       "        [0.5379],\n",
       "        [0.5418],\n",
       "        [0.5279],\n",
       "        [0.5430]], grad_fn=<SigmoidBackward0>)"
      ]
     },
     "execution_count": 26,
     "metadata": {},
     "output_type": "execute_result"
    }
   ],
   "execution_count": 26
  },
  {
   "cell_type": "code",
   "metadata": {
    "ExecuteTime": {
     "end_time": "2024-10-18T07:41:36.495750Z",
     "start_time": "2024-10-18T07:41:36.492559Z"
    }
   },
   "source": [
    "# make predictions\n",
    "thr = 0.5\n",
    "predictions = (predicted_proba > thr) * 1\n",
    "predictions"
   ],
   "outputs": [
    {
     "data": {
      "text/plain": [
       "tensor([[1],\n",
       "        [1],\n",
       "        [1],\n",
       "        [1],\n",
       "        [1],\n",
       "        [1],\n",
       "        [1],\n",
       "        [1],\n",
       "        [1],\n",
       "        [1],\n",
       "        [1],\n",
       "        [1],\n",
       "        [1],\n",
       "        [1],\n",
       "        [1],\n",
       "        [1],\n",
       "        [1],\n",
       "        [1],\n",
       "        [1],\n",
       "        [1],\n",
       "        [1],\n",
       "        [1],\n",
       "        [1],\n",
       "        [1],\n",
       "        [1],\n",
       "        [1],\n",
       "        [1],\n",
       "        [1],\n",
       "        [1],\n",
       "        [1],\n",
       "        [1],\n",
       "        [1],\n",
       "        [1],\n",
       "        [1],\n",
       "        [1],\n",
       "        [1],\n",
       "        [1],\n",
       "        [1],\n",
       "        [1],\n",
       "        [1],\n",
       "        [1],\n",
       "        [1],\n",
       "        [1],\n",
       "        [1],\n",
       "        [1],\n",
       "        [1],\n",
       "        [1],\n",
       "        [1],\n",
       "        [1],\n",
       "        [1],\n",
       "        [1],\n",
       "        [1],\n",
       "        [1],\n",
       "        [1],\n",
       "        [1],\n",
       "        [1],\n",
       "        [1],\n",
       "        [1],\n",
       "        [1],\n",
       "        [1],\n",
       "        [1],\n",
       "        [1],\n",
       "        [1],\n",
       "        [1],\n",
       "        [1],\n",
       "        [1],\n",
       "        [1],\n",
       "        [1],\n",
       "        [1],\n",
       "        [1],\n",
       "        [1],\n",
       "        [1],\n",
       "        [1],\n",
       "        [1],\n",
       "        [1],\n",
       "        [1],\n",
       "        [1],\n",
       "        [1],\n",
       "        [1],\n",
       "        [1],\n",
       "        [1],\n",
       "        [1],\n",
       "        [1],\n",
       "        [1],\n",
       "        [1],\n",
       "        [1],\n",
       "        [1],\n",
       "        [1],\n",
       "        [1],\n",
       "        [1],\n",
       "        [1],\n",
       "        [1],\n",
       "        [1],\n",
       "        [1],\n",
       "        [1],\n",
       "        [1],\n",
       "        [1],\n",
       "        [1],\n",
       "        [1],\n",
       "        [1]])"
      ]
     },
     "execution_count": 27,
     "metadata": {},
     "output_type": "execute_result"
    }
   ],
   "execution_count": 27
  },
  {
   "cell_type": "markdown",
   "metadata": {},
   "source": [
    "### optimise network\n",
    "perfom a single iteration of sgd."
   ]
  },
  {
   "cell_type": "markdown",
   "metadata": {},
   "source": [
    "#### Loss\n",
    "Then we can use the binary cross entropy loss as the **loss function** IS THE NEGATIVE LOG-LIKELIHOOD.\n",
    "\n",
    "<figure>\n",
    "  <img style=\"float: left;\" src=\"./figures/binary_ce.png\" width=\"1500\"/>\n",
    "</figure>\n",
    "\n"
   ]
  },
  {
   "cell_type": "markdown",
   "metadata": {},
   "source": [
    "Where\n",
    "$$\\hat{Y} = f(x) = p(y=1|x)$$"
   ]
  },
  {
   "cell_type": "code",
   "metadata": {
    "ExecuteTime": {
     "end_time": "2024-10-18T08:09:38.782082Z",
     "start_time": "2024-10-18T08:09:38.774188Z"
    }
   },
   "source": [
    "model = NeuralNetwork(num_input_features=12)\n",
    "loss_fn = torch.nn.BCELoss()\n",
    "\n",
    "# to make the optimization pytorch has different optimizers. \n",
    "lr = 1.1\n",
    "optimizer = torch.optim.SGD(model.parameters(), lr=lr)"
   ],
   "outputs": [],
   "execution_count": 29
  },
  {
   "cell_type": "code",
   "metadata": {
    "ExecuteTime": {
     "end_time": "2024-10-18T08:09:40.155653Z",
     "start_time": "2024-10-18T08:09:40.151278Z"
    }
   },
   "source": [
    "model.layer_2.weight"
   ],
   "outputs": [
    {
     "data": {
      "text/plain": [
       "Parameter containing:\n",
       "tensor([[-0.0424,  0.0144,  0.0636,  ..., -0.0021,  0.0353, -0.0604],\n",
       "        [-0.0414,  0.0431, -0.0270,  ..., -0.0362,  0.0128,  0.0238],\n",
       "        [-0.0229,  0.0454, -0.0582,  ...,  0.0459, -0.0146,  0.0663],\n",
       "        ...,\n",
       "        [ 0.0486, -0.0335,  0.0080,  ..., -0.0267,  0.0380,  0.0399],\n",
       "        [ 0.0234, -0.0341,  0.0357,  ...,  0.0275,  0.0351, -0.0316],\n",
       "        [ 0.0433,  0.0562, -0.0449,  ..., -0.0268, -0.0137, -0.0293]],\n",
       "       requires_grad=True)"
      ]
     },
     "execution_count": 30,
     "metadata": {},
     "output_type": "execute_result"
    }
   ],
   "execution_count": 30
  },
  {
   "cell_type": "code",
   "metadata": {
    "ExecuteTime": {
     "end_time": "2024-10-18T08:10:08.164681Z",
     "start_time": "2024-10-18T08:10:08.149090Z"
    }
   },
   "source": [
    "x = torch.rand((100, 12))\n",
    "y = torch.randint(0, 1, (100, 1), dtype = torch.float)\n",
    "                  \n",
    "predicted_proba = model.forward(x)\n",
    "loss = loss_fn(predicted_proba, y)\n",
    "                  \n",
    "loss.backward()\n",
    "optimizer.step() # The optimiser automaticaly update the weights using the gradients.\n",
    "\n",
    "optimizer.zero_grad() # reset the gradients"
   ],
   "outputs": [],
   "execution_count": 31
  },
  {
   "cell_type": "code",
   "metadata": {
    "ExecuteTime": {
     "end_time": "2024-10-18T08:10:13.788174Z",
     "start_time": "2024-10-18T08:10:13.784847Z"
    }
   },
   "source": [
    "model.layer_2.weight"
   ],
   "outputs": [
    {
     "data": {
      "text/plain": [
       "Parameter containing:\n",
       "tensor([[-0.0437,  0.0144,  0.0635,  ..., -0.0021,  0.0353, -0.0634],\n",
       "        [-0.0410,  0.0432, -0.0270,  ..., -0.0362,  0.0128,  0.0255],\n",
       "        [-0.0224,  0.0454, -0.0581,  ...,  0.0459, -0.0146,  0.0675],\n",
       "        ...,\n",
       "        [ 0.0524, -0.0333,  0.0083,  ..., -0.0267,  0.0380,  0.0488],\n",
       "        [ 0.0234, -0.0341,  0.0357,  ...,  0.0275,  0.0351, -0.0316],\n",
       "        [ 0.0433,  0.0562, -0.0449,  ..., -0.0268, -0.0137, -0.0292]],\n",
       "       requires_grad=True)"
      ]
     },
     "execution_count": 32,
     "metadata": {},
     "output_type": "execute_result"
    }
   ],
   "execution_count": 32
  },
  {
   "cell_type": "markdown",
   "metadata": {},
   "source": [
    "## Additional Tips\n",
    "Some additional tips for the projects:\n",
    "\n",
    "### 1. Multi-Class Classification\n",
    "Used when the model needs to predict one label from multiple classes.\n",
    "1. The output layer must have **as many outputs as the number of classes**.\n",
    "2. Use the **softmax activation function**.\n",
    "3. The loss function should be **Cross-Entropy**.\n",
    "\n",
    "### 2. Regression\n",
    "Used for predicting continuous values based on input features.\n",
    "1. The output is usually **one dimension** i.e 1 node.\n",
    "2. We use a **linear activation function**, i.e., no activation.\n",
    "3. The loss function is the **Mean Squared Error**.\n",
    "\n",
    "\n",
    "For the learning rate, values typically range from 1e-5 to 1e-3."
   ]
  },
  {
   "cell_type": "markdown",
   "metadata": {},
   "source": [
    "# Training Loop\n",
    "\n",
    "When we train neural network we usually train our model using batches of training example.\n",
    "\n",
    "\n",
    "<figure>\n",
    "  <img style=\"float: left;\" src=\"./figures/batches.png\" width=\"1100\"/>\n",
    "</figure>\n",
    "\n",
    "\n",
    "\n",
    "Batching method is performed for different reasons.\n",
    "First of all in we have a huge dataset we cannot fit all the data in our memery.\n",
    "Moreover, using batches requires less time to fit the model as in the same time you can perform more update in the weights of the model. One drawback of using batches is that we approximate the gradient directions, so having very small batch size can affect the coverage of your model.\n",
    "\n",
    "So batch size is an additional hyperparameter of our training algorithm."
   ]
  },
  {
   "metadata": {},
   "cell_type": "markdown",
   "source": "![Neural Network](./figures/train_loop.png){:width=\"1000px\"}"
  },
  {
   "cell_type": "markdown",
   "metadata": {},
   "source": [
    "lets use pytorch to batch our data. \n",
    "\n",
    "In summary PyTorch provides two main data classes: **DataLoader** and **Dataset** to handle your data. \n",
    "\n",
    "**Dataset**  stores the samples and their corresponding labels, and **DataLoader** wraps an iterable around the Dataset to enable easy access to the batches.\n",
    "\n",
    "you can read more at: https://pytorch.org/tutorials/beginner/basics/data_tutorial.html"
   ]
  },
  {
   "cell_type": "code",
   "metadata": {
    "ExecuteTime": {
     "end_time": "2024-10-18T08:23:46.601254Z",
     "start_time": "2024-10-18T08:23:46.598012Z"
    }
   },
   "source": [
    "# covert data into tensors\n",
    "train_x_tensor = torch.tensor(X_train.values, dtype=torch.float)\n",
    "train_y_tensor = torch.tensor(y_train.values, dtype=torch.float)\n",
    "\n",
    "# use the dataset class wrapper for tensors\n",
    "train_tensor_dataset = torch.utils.data.TensorDataset(train_x_tensor, train_y_tensor)# there are more coplex dataset\n",
    "                                                                                     # i.e images or text data\n",
    "\n",
    "# pass the dataset class into Dataloader to batch and shuffle your data\n",
    "train_dataloader = torch.utils.data.DataLoader(train_tensor_dataset,\n",
    "                                               batch_size=64,\n",
    "                                               shuffle=True)"
   ],
   "outputs": [],
   "execution_count": 44
  },
  {
   "cell_type": "code",
   "metadata": {
    "ExecuteTime": {
     "end_time": "2024-10-18T08:23:46.872430Z",
     "start_time": "2024-10-18T08:23:46.807981Z"
    }
   },
   "source": [
    "for i, batch in enumerate(train_dataloader):\n",
    "    batch_x, batch_y = batch # get next iteam"
   ],
   "outputs": [],
   "execution_count": 45
  },
  {
   "cell_type": "code",
   "metadata": {
    "ExecuteTime": {
     "end_time": "2024-10-18T08:23:47.025714Z",
     "start_time": "2024-10-18T08:23:47.023539Z"
    }
   },
   "source": [
    "batch_x.shape"
   ],
   "outputs": [
    {
     "data": {
      "text/plain": [
       "torch.Size([60, 13])"
      ]
     },
     "execution_count": 46,
     "metadata": {},
     "output_type": "execute_result"
    }
   ],
   "execution_count": 46
  },
  {
   "cell_type": "code",
   "metadata": {
    "ExecuteTime": {
     "end_time": "2024-10-18T08:23:47.416605Z",
     "start_time": "2024-10-18T08:23:47.414805Z"
    }
   },
   "source": [
    "# convert val data to tensor for later\n",
    "val_x_tensor = torch.tensor(X_val.values, dtype=torch.float)\n",
    "val_y_tensor = torch.tensor(y_val.values, dtype=torch.float)"
   ],
   "outputs": [],
   "execution_count": 47
  },
  {
   "cell_type": "code",
   "metadata": {
    "ExecuteTime": {
     "end_time": "2024-10-18T08:23:47.700406Z",
     "start_time": "2024-10-18T08:23:47.697136Z"
    }
   },
   "source": [
    "val_x_tensor"
   ],
   "outputs": [
    {
     "data": {
      "text/plain": [
       "tensor([[ 1.2238, -0.2442,  4.2097,  ..., -0.9108,  0.7181,  1.4127],\n",
       "        [ 0.8591,  2.4729, -0.2314,  ..., -0.9108,  0.7181,  0.0793],\n",
       "        [-0.3807, -0.2442, -0.2314,  ..., -0.2955, -1.3925,  0.0793],\n",
       "        ...,\n",
       "        [ 0.4945, -0.2442, -0.2314,  ..., -0.9108,  0.7181,  2.0794],\n",
       "        [ 1.1509, -0.2442, -0.2314,  ..., -0.2955,  0.7181,  0.0793],\n",
       "        [-1.1100, -0.2442, -0.2314,  ...,  0.3198,  0.7181,  0.0793]])"
      ]
     },
     "execution_count": 48,
     "metadata": {},
     "output_type": "execute_result"
    }
   ],
   "execution_count": 48
  },
  {
   "cell_type": "markdown",
   "metadata": {},
   "source": [
    "# Define training loop"
   ]
  },
  {
   "cell_type": "markdown",
   "metadata": {},
   "source": [
    "\n",
    "<figure>\n",
    "  <img style=\"float: left;\" src=\"./figures/train_loop.png\" width=\"400\"/>\n",
    "</figure>"
   ]
  },
  {
   "cell_type": "code",
   "metadata": {
    "ExecuteTime": {
     "end_time": "2024-10-18T08:23:48.956123Z",
     "start_time": "2024-10-18T08:23:48.952673Z"
    }
   },
   "source": [
    "def training_step(model, input_data, optimizer, loss_fn):\n",
    "    # reset gradients of the optimizer\n",
    "    optimizer.zero_grad()\n",
    "    \n",
    "    # unfold data\n",
    "    x_batch, y_batch = input_data\n",
    "    \n",
    "    # get predictions\n",
    "    y_pred_propa = model.forward(x_batch)\n",
    "    \n",
    "    # calculate loss\n",
    "    loss = loss_fn(y_pred_propa, y_batch)\n",
    "\n",
    "    # compute gradients \n",
    "    loss.backward()\n",
    "    \n",
    "    # optimise network\n",
    "    optimizer.step()\n",
    "    \n",
    "    # compute metrics for monitoring\n",
    "    with torch.no_grad(): \n",
    "        y_pred = (y_pred_propa>0.5) * 1\n",
    "    train_acc = torch.sum(y_pred == y_batch) / y_batch.shape[0]\n",
    "\n",
    "    return loss.data.numpy(), train_acc.data.numpy()"
   ],
   "outputs": [],
   "execution_count": 49
  },
  {
   "cell_type": "code",
   "metadata": {
    "ExecuteTime": {
     "end_time": "2024-10-18T08:23:49.155819Z",
     "start_time": "2024-10-18T08:23:49.153340Z"
    }
   },
   "source": [
    "def evaluation_step(model, input_data, loss_fn):\n",
    "    # when we use torch.no_grad pytorch didnt store information\n",
    "    # that is required to calculate gradients so is fasterr \n",
    "    with torch.no_grad(): \n",
    "        x_batch, y_batch = input_data\n",
    "        y_pred_proba = model(x_batch)\n",
    "    loss = loss_fn(y_pred_proba, y_batch)\n",
    "\n",
    "    # compute metrics\n",
    "    y_pred = (y_pred_proba>0.5) * 1\n",
    "    acc = torch.sum(y_pred == y_batch) / y_batch.shape[0]\n",
    "    return loss.data.numpy(), acc.data.numpy()"
   ],
   "outputs": [],
   "execution_count": 50
  },
  {
   "cell_type": "code",
   "metadata": {
    "ExecuteTime": {
     "end_time": "2024-10-18T08:23:49.525736Z",
     "start_time": "2024-10-18T08:23:49.523176Z"
    }
   },
   "source": [
    "model = NeuralNetwork(num_input_features=13)\n",
    "\n",
    "lr = 0.02\n",
    "optimizer = torch.optim.SGD(model.parameters(), lr=lr)\n",
    "loss_fn = torch.nn.BCELoss() # binary cross entropy"
   ],
   "outputs": [],
   "execution_count": 51
  },
  {
   "cell_type": "code",
   "metadata": {
    "ExecuteTime": {
     "end_time": "2024-10-18T08:23:49.965578Z",
     "start_time": "2024-10-18T08:23:49.963874Z"
    }
   },
   "source": [
    "# parameters of the training loop\n",
    "epochs = 400"
   ],
   "outputs": [],
   "execution_count": 52
  },
  {
   "cell_type": "code",
   "metadata": {
    "scrolled": true,
    "ExecuteTime": {
     "end_time": "2024-10-18T08:24:42.692491Z",
     "start_time": "2024-10-18T08:23:50.986869Z"
    }
   },
   "source": [
    "# -------------------- Train  Loop----------------------------\n",
    "train_history = []\n",
    "val_history = []\n",
    "for epoch in range(epochs): # iterate over epoch    \n",
    "\n",
    "    # -------------------- 1. Training on each epoch ----------------------------\n",
    "    accumulated_loss,accumulated_accuracy = 0, 0 # monitor loss and metrics during training\n",
    "    for step, batch_data in enumerate(train_dataloader): # iterate over batch\n",
    "        loss, accuracy = training_step(model,batch_data,optimizer,loss_fn) # train model using a single batch\n",
    "        accumulated_loss = (step * accumulated_loss + loss)/(step+1)\n",
    "        accumulated_accuracy =  (step * accumulated_accuracy + accuracy)/(step+1)\n",
    "        \n",
    "    # store the loss and the metrics at the end of each epoch\n",
    "    train_history += [{\"loss\":accumulated_loss, \"accuracy\":accumulated_accuracy, \"epoch\": epoch}]\n",
    "    \n",
    "    # -------------------- 2. Monitor Error on Validation set ----------------------------\n",
    "    val_loss, val_accuracy = evaluation_step(model, (val_x_tensor, val_y_tensor), loss_fn)\n",
    "    val_history += [{\"loss\":val_loss, \"accuracy\":val_accuracy, \"epoch\": epoch}]\n",
    "    \n",
    "    # -------------------- 3. Display Performance every several epochs ----------------------------\n",
    "    if epoch % 10 == 0:\n",
    "        print(f\"Epoch {epoch}/{epochs}:  loss:{accumulated_loss:.3f}, accuracy-:{accumulated_accuracy:.3f}, val_loss:{val_loss:.3f}, val_accuracy->{val_accuracy:.3f}\")"
   ],
   "outputs": [
    {
     "name": "stdout",
     "output_type": "stream",
     "text": [
      "Epoch 0/400:  loss:0.469, accuracy-:0.787, val_loss:0.399, val_accuracy->0.822\n",
      "Epoch 10/400:  loss:0.333, accuracy-:0.842, val_loss:0.340, val_accuracy->0.836\n",
      "Epoch 20/400:  loss:0.327, accuracy-:0.845, val_loss:0.336, val_accuracy->0.841\n",
      "Epoch 30/400:  loss:0.325, accuracy-:0.849, val_loss:0.333, val_accuracy->0.845\n",
      "Epoch 40/400:  loss:0.321, accuracy-:0.850, val_loss:0.332, val_accuracy->0.846\n",
      "Epoch 50/400:  loss:0.317, accuracy-:0.852, val_loss:0.331, val_accuracy->0.844\n",
      "Epoch 60/400:  loss:0.314, accuracy-:0.853, val_loss:0.329, val_accuracy->0.847\n",
      "Epoch 70/400:  loss:0.311, accuracy-:0.855, val_loss:0.330, val_accuracy->0.843\n",
      "Epoch 80/400:  loss:0.308, accuracy-:0.857, val_loss:0.327, val_accuracy->0.845\n",
      "Epoch 90/400:  loss:0.302, accuracy-:0.857, val_loss:0.327, val_accuracy->0.843\n",
      "Epoch 100/400:  loss:0.299, accuracy-:0.859, val_loss:0.332, val_accuracy->0.842\n",
      "Epoch 110/400:  loss:0.296, accuracy-:0.859, val_loss:0.334, val_accuracy->0.838\n",
      "Epoch 120/400:  loss:0.293, accuracy-:0.860, val_loss:0.332, val_accuracy->0.840\n",
      "Epoch 130/400:  loss:0.291, accuracy-:0.860, val_loss:0.335, val_accuracy->0.844\n",
      "Epoch 140/400:  loss:0.288, accuracy-:0.862, val_loss:0.338, val_accuracy->0.844\n",
      "Epoch 150/400:  loss:0.286, accuracy-:0.863, val_loss:0.340, val_accuracy->0.831\n",
      "Epoch 160/400:  loss:0.284, accuracy-:0.864, val_loss:0.338, val_accuracy->0.840\n",
      "Epoch 170/400:  loss:0.282, accuracy-:0.865, val_loss:0.342, val_accuracy->0.834\n",
      "Epoch 180/400:  loss:0.280, accuracy-:0.865, val_loss:0.354, val_accuracy->0.829\n",
      "Epoch 190/400:  loss:0.277, accuracy-:0.866, val_loss:0.340, val_accuracy->0.842\n",
      "Epoch 200/400:  loss:0.276, accuracy-:0.866, val_loss:0.348, val_accuracy->0.838\n",
      "Epoch 210/400:  loss:0.274, accuracy-:0.867, val_loss:0.354, val_accuracy->0.837\n",
      "Epoch 220/400:  loss:0.272, accuracy-:0.870, val_loss:0.352, val_accuracy->0.838\n",
      "Epoch 230/400:  loss:0.271, accuracy-:0.869, val_loss:0.350, val_accuracy->0.837\n",
      "Epoch 240/400:  loss:0.269, accuracy-:0.871, val_loss:0.351, val_accuracy->0.839\n",
      "Epoch 250/400:  loss:0.266, accuracy-:0.872, val_loss:0.350, val_accuracy->0.836\n",
      "Epoch 260/400:  loss:0.265, accuracy-:0.871, val_loss:0.363, val_accuracy->0.834\n",
      "Epoch 270/400:  loss:0.264, accuracy-:0.873, val_loss:0.359, val_accuracy->0.839\n",
      "Epoch 280/400:  loss:0.261, accuracy-:0.873, val_loss:0.373, val_accuracy->0.832\n",
      "Epoch 290/400:  loss:0.260, accuracy-:0.874, val_loss:0.364, val_accuracy->0.836\n",
      "Epoch 300/400:  loss:0.257, accuracy-:0.878, val_loss:0.369, val_accuracy->0.835\n",
      "Epoch 310/400:  loss:0.256, accuracy-:0.876, val_loss:0.374, val_accuracy->0.820\n",
      "Epoch 320/400:  loss:0.254, accuracy-:0.877, val_loss:0.366, val_accuracy->0.833\n",
      "Epoch 330/400:  loss:0.253, accuracy-:0.878, val_loss:0.376, val_accuracy->0.830\n",
      "Epoch 340/400:  loss:0.252, accuracy-:0.877, val_loss:0.389, val_accuracy->0.838\n",
      "Epoch 350/400:  loss:0.250, accuracy-:0.880, val_loss:0.378, val_accuracy->0.837\n",
      "Epoch 360/400:  loss:0.248, accuracy-:0.881, val_loss:0.377, val_accuracy->0.826\n",
      "Epoch 370/400:  loss:0.248, accuracy-:0.879, val_loss:0.368, val_accuracy->0.834\n",
      "Epoch 380/400:  loss:0.247, accuracy-:0.881, val_loss:0.384, val_accuracy->0.835\n",
      "Epoch 390/400:  loss:0.245, accuracy-:0.883, val_loss:0.386, val_accuracy->0.830\n"
     ]
    }
   ],
   "execution_count": 53
  },
  {
   "cell_type": "code",
   "metadata": {
    "ExecuteTime": {
     "end_time": "2024-10-18T08:30:48.330774Z",
     "start_time": "2024-10-18T08:30:48.327337Z"
    }
   },
   "source": [
    "val_history_df = pd.DataFrame(val_history)\n",
    "train_history_df = pd.DataFrame(train_history)"
   ],
   "outputs": [],
   "execution_count": 56
  },
  {
   "cell_type": "markdown",
   "metadata": {},
   "source": [
    "#  Overfitting\n",
    "\n",
    "**Overfitting** refers to the phenomenon when our model performs well on the training set but exhibits poor performance on the testing set.\n",
    "\n",
    "Since neural networks have a large number of parameters can memories the examples, resulting in bad performance during testing.  \n",
    "\n",
    "This occurs when the model exploits pattern between the data (X) and the labels (Y) that is not in the testing data."
   ]
  },
  {
   "cell_type": "markdown",
   "metadata": {},
   "source": [
    "<figure>\n",
    "  <img style=\"float: left;\" src=\"./figures/overfiting.jpg\" width=\"800\"/>\n",
    "</figure>"
   ]
  },
  {
   "cell_type": "markdown",
   "metadata": {},
   "source": [
    "### Learning Curves\n",
    "\n",
    "One way to prevent overfiting is to monitor the performance of our algorithm on the validation set.\n",
    "\n",
    "Learning curves track the performance of the model during training by measuring various metrics at regular optimization steps.   \n",
    "\n",
    "Learning curves provide valuable insights into the model's behavior, allowing us to detect overfitting.\n",
    "\n",
    "To identify overfitting, we typically compare the learning curves of the training and validation sets."
   ]
  },
  {
   "cell_type": "markdown",
   "metadata": {},
   "source": "![Epoch Error Curve Fitting](./figures/epoch-error-curve-fitting.png)"
  },
  {
   "cell_type": "code",
   "metadata": {
    "ExecuteTime": {
     "end_time": "2024-10-18T08:30:51.225983Z",
     "start_time": "2024-10-18T08:30:51.127783Z"
    }
   },
   "source": [
    "plt.figure()\n",
    "plt.plot(train_history_df[\"epoch\"],train_history_df[\"loss\"], label = \"Training set\")\n",
    "plt.plot(val_history_df[\"epoch\"],val_history_df[\"loss\"], label = \"Validation set\")\n",
    "plt.title(\"Learning Curve\")\n",
    "plt.ylabel(\"Cross Entropy Loss\")\n",
    "plt.xlabel(\"Epoch\")\n",
    "plt.legend()"
   ],
   "outputs": [
    {
     "data": {
      "text/plain": [
       "<matplotlib.legend.Legend at 0x168660c50>"
      ]
     },
     "execution_count": 57,
     "metadata": {},
     "output_type": "execute_result"
    },
    {
     "data": {
      "text/plain": [
       "<Figure size 640x480 with 1 Axes>"
      ],
      "image/png": "[encoded data removed]"
     },
     "metadata": {},
     "output_type": "display_data"
    }
   ],
   "execution_count": 57
  },
  {
   "cell_type": "code",
   "metadata": {
    "ExecuteTime": {
     "end_time": "2024-10-18T08:30:52.304575Z",
     "start_time": "2024-10-18T08:30:52.215964Z"
    }
   },
   "source": [
    "plt.figure()\n",
    "plt.plot(train_history_df[\"epoch\"],train_history_df[\"accuracy\"], label = \"Training set\")\n",
    "plt.plot(val_history_df[\"epoch\"],val_history_df[\"accuracy\"], label = \"Validation set\")\n",
    "plt.title(\"Learning Curve\")\n",
    "plt.ylabel(\"Accuracy\")\n",
    "plt.xlabel(\"Epoch\")\n",
    "plt.legend()"
   ],
   "outputs": [
    {
     "data": {
      "text/plain": [
       "<matplotlib.legend.Legend at 0x1686ce9d0>"
      ]
     },
     "execution_count": 58,
     "metadata": {},
     "output_type": "execute_result"
    },
    {
     "data": {
      "text/plain": [
       "<Figure size 640x480 with 1 Axes>"
      ],
      "image/png": "[encoded data removed]"
     },
     "metadata": {},
     "output_type": "display_data"
    }
   ],
   "execution_count": 58
  },
  {
   "cell_type": "markdown",
   "metadata": {},
   "source": [
    "# Assignment\n",
    "\n",
    "In this assignment, we will explore the effects of different techniques to reduce overfitting when training a neural network.\n",
    "\n",
    "1. Early Stopping\n",
    "2. Reducing Model Parameters\n",
    "3. Weight Regularization"
   ]
  },
  {
   "cell_type": "markdown",
   "metadata": {},
   "source": [
    "# A. Early stopping\n",
    "Early stopping is an optimization technique used to reduce overfitting without compromising on model accuracy. The main idea behind early stopping is to stop training before a model starts to over-fit.\n",
    "\n",
    "\n",
    "To use early stopping, you watch for the validation loss. If it stops improving for several consecutive epochs , indicated by the \"patient\" parameter, you stop training.\n",
    "\n",
    "**Steps:**\n",
    "   1) Implement Early Stopping.\n",
    "       A) stop after the model is not improving the Validation loss for \"patient\"consecutive epochs\n",
    "       B) stop the best weights!\n",
    "   2) Train your model using early stopping.\n",
    "   3) Set the best weights after training stops.\n",
    "   3) Check different patient parameters. For example, you can set patient = {5 , 100}. Can the patient parameter affect the coverage of your network? What you observe in the training curves?"
   ]
  },
  {
   "cell_type": "markdown",
   "metadata": {},
   "source": [
    "# Solution"
   ]
  },
  {
   "cell_type": "code",
   "metadata": {
    "ExecuteTime": {
     "end_time": "2024-10-18T09:23:38.775753Z",
     "start_time": "2024-10-18T09:23:38.770387Z"
    }
   },
   "source": [
    "# -------------------- Train  Loop----------------------------\n",
    "def train_loop(patient, epochs, model, optimizer, loss_fn, early_stop):\n",
    "    # use this!\n",
    "    best_loss = np.inf\n",
    "    consecutive_epoch = 0\n",
    "    best_epoch = 0\n",
    "    best_weights = None\n",
    "\n",
    "    train_history = []\n",
    "    val_history = []\n",
    "    for epoch in range(epochs): # iterate over epoch    \n",
    "\n",
    "        # -------------------- Training on each epoch ----------------------------\n",
    "        total_step = len(train_dataloader)\n",
    "        accumulated_loss = 0 # monitor loss during training\n",
    "        accumulated_accuracy = 0 # monitor  accuracy during training\n",
    "        accuracy_list = []\n",
    "        for step in range(total_step): # iterate over batch\n",
    "            batch_data = next(iter(train_dataloader)) # get a batch\n",
    "            loss, accuracy = training_step(model,batch_data,optimizer,loss_fn) # train model using a single batch\n",
    "            accuracy_list += [accuracy]\n",
    "            accumulated_loss = (step * accumulated_loss + loss)/(step+1)\n",
    "            accumulated_accuracy =  (step * accumulated_accuracy + accuracy)/(step+1)\n",
    "\n",
    "        train_history += [{\"loss\":accumulated_loss, \"accuracy\":accumulated_accuracy, \"epoch\": epoch, \"set\":\"train\"}]\n",
    "\n",
    "        # -------------------- Monitor Error Validation set ----------------------------\n",
    "        val_data = (val_x_tensor, val_y_tensor)\n",
    "        val_loss, val_accuracy = evaluation_step(model, val_data, loss_fn)\n",
    "        val_history += [{\"loss\":val_loss, \"accuracy\":val_accuracy, \"epoch\": epoch, \"set\":\"val\"}]\n",
    "        if epoch % 10 == 0:\n",
    "            print(f\"Epoch {epoch}/{epochs}:  loss:{accumulated_loss:.3f}, accuracy-:{accumulated_accuracy:.3f}, val_loss:{val_loss:.3f}, val_accuracy->{val_accuracy:.3f}\")\n",
    "\n",
    "        # -------------------- Early Stoping ----------------------------\n",
    "        # Add you code here. Remember to strore the weights\n",
    "        \n",
    "        if val_loss < best_loss:\n",
    "            best_loss = val_loss\n",
    "            best_epoch = epoch\n",
    "            best_weights = model.state_dict()\n",
    "            consecutive_epoch = 0\n",
    "        else:\n",
    "            consecutive_epoch += 1\n",
    "            if consecutive_epoch >= patient and early_stop:\n",
    "                print(f\"Early stopping at epoch {epoch}\")\n",
    "                break\n",
    "        \n",
    "        \n",
    "    val_history_df = pd.DataFrame(val_history)\n",
    "    train_history_df = pd.DataFrame(train_history)\n",
    "    return model, val_history_df, train_history_df, best_loss, best_epoch, best_weights"
   ],
   "outputs": [],
   "execution_count": 81
  },
  {
   "metadata": {
    "ExecuteTime": {
     "end_time": "2024-10-18T09:23:54.988698Z",
     "start_time": "2024-10-18T09:23:39.126853Z"
    }
   },
   "cell_type": "code",
   "source": [
    "# train\n",
    "model = NeuralNetwork(num_input_features=13)\n",
    "lr = 0.02\n",
    "optimizer = torch.optim.SGD(model.parameters(), lr=lr)\n",
    "loss_fn = torch.nn.BCELoss() \n",
    "train_history = []\n",
    "val_history = []\n",
    "ES_final_model, val_history_df, train_history_df, best_loss, best_epoch, best_weights \\\n",
    "    = train_loop(patient=10, epochs=400, model=model, optimizer=optimizer, loss_fn=loss_fn, early_stop=True)\n",
    "ES_final_model.load_state_dict(best_weights)\n",
    "\n",
    "plt.figure()\n",
    "plt.plot(train_history_df[\"epoch\"],train_history_df[\"loss\"], label = \"Training set\")\n",
    "plt.plot(val_history_df[\"epoch\"],val_history_df[\"loss\"], label = \"Validation set\")\n",
    "plt.title(\"Learning Curve\")\n",
    "plt.ylabel(\"Cross Entropy Loss\")\n",
    "plt.xlabel(\"Epoch\")\n",
    "plt.legend()"
   ],
   "outputs": [
    {
     "name": "stdout",
     "output_type": "stream",
     "text": [
      "Epoch 0/400:  loss:0.536, accuracy-:0.757, val_loss:0.461, val_accuracy->0.778\n",
      "Epoch 10/400:  loss:0.332, accuracy-:0.844, val_loss:0.340, val_accuracy->0.840\n",
      "Epoch 20/400:  loss:0.332, accuracy-:0.842, val_loss:0.335, val_accuracy->0.842\n",
      "Epoch 30/400:  loss:0.323, accuracy-:0.844, val_loss:0.333, val_accuracy->0.842\n",
      "Epoch 40/400:  loss:0.319, accuracy-:0.848, val_loss:0.333, val_accuracy->0.846\n",
      "Epoch 50/400:  loss:0.320, accuracy-:0.849, val_loss:0.330, val_accuracy->0.846\n",
      "Epoch 60/400:  loss:0.317, accuracy-:0.848, val_loss:0.328, val_accuracy->0.846\n",
      "Epoch 70/400:  loss:0.308, accuracy-:0.854, val_loss:0.329, val_accuracy->0.848\n",
      "Epoch 80/400:  loss:0.311, accuracy-:0.854, val_loss:0.328, val_accuracy->0.845\n",
      "Epoch 90/400:  loss:0.309, accuracy-:0.853, val_loss:0.324, val_accuracy->0.847\n",
      "Epoch 100/400:  loss:0.309, accuracy-:0.851, val_loss:0.325, val_accuracy->0.847\n",
      "Early stopping at epoch 100\n"
     ]
    },
    {
     "data": {
      "text/plain": [
       "<matplotlib.legend.Legend at 0x16b090c50>"
      ]
     },
     "execution_count": 82,
     "metadata": {},
     "output_type": "execute_result"
    },
    {
     "data": {
      "text/plain": [
       "<Figure size 640x480 with 1 Axes>"
      ],
      "image/png": "[encoded data removed]"
     },
     "metadata": {},
     "output_type": "display_data"
    }
   ],
   "execution_count": 82
  },
  {
   "cell_type": "markdown",
   "metadata": {},
   "source": [
    "# B. Reduce the Size of the Network\n",
    "\n",
    "The capacity (total number of parameters) of the model affects the training process. If the parameters are too numerous compared to the difficulty of the underlying problem, it's very easy to overfit.\n",
    "\n",
    "To address this issue, reduce the total number of parameters in the model by decreasing the number of units in each layer, and then comment on the results.\n",
    "\n",
    "**Steps:**\n",
    "1. Reduce the size of the network by lowering the number of units. You can use 60 units for the first layer and 20 units for the second one.\n",
    "2. Train your model without early stopping.\n",
    "3. Compare the learning curve of this model with the learning curve of the larger model we trained without early stopping (used in section Learning Curves and Overfitting)."
   ]
  },
  {
   "cell_type": "markdown",
   "metadata": {},
   "source": [
    "# Solution"
   ]
  },
  {
   "cell_type": "code",
   "metadata": {
    "ExecuteTime": {
     "end_time": "2024-10-18T09:24:26.794301Z",
     "start_time": "2024-10-18T09:24:26.790656Z"
    }
   },
   "source": [
    "class smallerNeuralNetwork(torch.nn.Module):\n",
    "    \"\"\"\n",
    "    Simple two layer neural network for regression\n",
    "    \"\"\"\n",
    "    def __init__(self, num_input_features):\n",
    "        super().__init__()\n",
    "        \n",
    "        # layer 1\n",
    "        layer_1_units = 60\n",
    "        self.layer_1 = torch.nn.Linear(in_features=num_input_features,\n",
    "                                       out_features=layer_1_units)\n",
    "        self.activation_1 = torch.nn.ReLU()\n",
    "        \n",
    "        # layer  2\n",
    "        layer_2_units = 20\n",
    "        self.layer_2 = torch.nn.Linear(in_features=layer_1_units,\n",
    "                                       out_features=layer_2_units)\n",
    "        self.activation_2 = torch.nn.ReLU()\n",
    "        \n",
    "        # layer output layer\n",
    "        self.out_layer = torch.nn.Linear(in_features=layer_2_units,\n",
    "                                         out_features=1)\n",
    "        self.out_activation= torch.nn.Sigmoid()\n",
    "\n",
    "    def forward(self, x):\n",
    "        x_1 = self.activation_1( self.layer_1( x ) )\n",
    "        x_2 = self.activation_2( self.layer_2( x_1 ) )\n",
    "        output = self.out_activation(self.out_layer(x_2))\n",
    "        return output"
   ],
   "outputs": [],
   "execution_count": 83
  },
  {
   "cell_type": "code",
   "metadata": {
    "ExecuteTime": {
     "end_time": "2024-10-18T09:25:31.081048Z",
     "start_time": "2024-10-18T09:24:27.962848Z"
    }
   },
   "source": [
    "model = smallerNeuralNetwork(num_input_features=13)\n",
    "optimizer = torch.optim.SGD(model.parameters(), lr=lr)\n",
    "loss_fn = torch.nn.BCELoss() # binary cross entropy\n",
    "small_final_model, val_history_df, train_history_df, best_loss, best_epoch, best_weights \\\n",
    "    = train_loop(patient=10, epochs=400, model=model, optimizer=optimizer, loss_fn=loss_fn, early_stop=False)\n",
    "\n",
    "small_final_model.load_state_dict(best_weights)\n",
    "\n",
    "plt.figure()\n",
    "plt.plot(train_history_df[\"epoch\"],train_history_df[\"loss\"], label = \"Training set\")\n",
    "plt.plot(val_history_df[\"epoch\"],val_history_df[\"loss\"], label = \"Validation set\")\n",
    "plt.title(\"Learning Curve\")\n",
    "plt.ylabel(\"Cross Entropy Loss\")\n",
    "plt.xlabel(\"Epoch\")\n",
    "plt.legend()"
   ],
   "outputs": [
    {
     "name": "stdout",
     "output_type": "stream",
     "text": [
      "Epoch 0/400:  loss:0.513, accuracy-:0.738, val_loss:0.427, val_accuracy->0.805\n",
      "Epoch 10/400:  loss:0.337, accuracy-:0.841, val_loss:0.340, val_accuracy->0.840\n",
      "Epoch 20/400:  loss:0.325, accuracy-:0.845, val_loss:0.335, val_accuracy->0.844\n",
      "Epoch 30/400:  loss:0.322, accuracy-:0.848, val_loss:0.333, val_accuracy->0.844\n",
      "Epoch 40/400:  loss:0.319, accuracy-:0.847, val_loss:0.330, val_accuracy->0.846\n",
      "Epoch 50/400:  loss:0.317, accuracy-:0.849, val_loss:0.329, val_accuracy->0.848\n",
      "Epoch 60/400:  loss:0.312, accuracy-:0.852, val_loss:0.329, val_accuracy->0.846\n",
      "Epoch 70/400:  loss:0.318, accuracy-:0.850, val_loss:0.327, val_accuracy->0.848\n",
      "Epoch 80/400:  loss:0.312, accuracy-:0.851, val_loss:0.326, val_accuracy->0.850\n",
      "Epoch 90/400:  loss:0.311, accuracy-:0.852, val_loss:0.326, val_accuracy->0.848\n",
      "Epoch 100/400:  loss:0.307, accuracy-:0.852, val_loss:0.329, val_accuracy->0.848\n",
      "Epoch 110/400:  loss:0.307, accuracy-:0.854, val_loss:0.324, val_accuracy->0.849\n",
      "Epoch 120/400:  loss:0.305, accuracy-:0.851, val_loss:0.328, val_accuracy->0.843\n",
      "Epoch 130/400:  loss:0.300, accuracy-:0.857, val_loss:0.327, val_accuracy->0.842\n",
      "Epoch 140/400:  loss:0.301, accuracy-:0.856, val_loss:0.326, val_accuracy->0.848\n",
      "Epoch 150/400:  loss:0.299, accuracy-:0.854, val_loss:0.327, val_accuracy->0.851\n",
      "Epoch 160/400:  loss:0.295, accuracy-:0.859, val_loss:0.325, val_accuracy->0.845\n",
      "Epoch 170/400:  loss:0.297, accuracy-:0.857, val_loss:0.331, val_accuracy->0.846\n",
      "Epoch 180/400:  loss:0.302, accuracy-:0.856, val_loss:0.328, val_accuracy->0.848\n",
      "Epoch 190/400:  loss:0.294, accuracy-:0.857, val_loss:0.333, val_accuracy->0.841\n",
      "Epoch 200/400:  loss:0.297, accuracy-:0.855, val_loss:0.337, val_accuracy->0.839\n",
      "Epoch 210/400:  loss:0.299, accuracy-:0.854, val_loss:0.332, val_accuracy->0.843\n",
      "Epoch 220/400:  loss:0.299, accuracy-:0.853, val_loss:0.329, val_accuracy->0.845\n",
      "Epoch 230/400:  loss:0.294, accuracy-:0.860, val_loss:0.330, val_accuracy->0.845\n",
      "Epoch 240/400:  loss:0.293, accuracy-:0.859, val_loss:0.329, val_accuracy->0.847\n",
      "Epoch 250/400:  loss:0.290, accuracy-:0.861, val_loss:0.329, val_accuracy->0.847\n",
      "Epoch 260/400:  loss:0.288, accuracy-:0.862, val_loss:0.334, val_accuracy->0.846\n",
      "Epoch 270/400:  loss:0.294, accuracy-:0.857, val_loss:0.337, val_accuracy->0.842\n",
      "Epoch 280/400:  loss:0.286, accuracy-:0.862, val_loss:0.334, val_accuracy->0.843\n",
      "Epoch 290/400:  loss:0.290, accuracy-:0.861, val_loss:0.336, val_accuracy->0.843\n",
      "Epoch 300/400:  loss:0.291, accuracy-:0.856, val_loss:0.332, val_accuracy->0.842\n",
      "Epoch 310/400:  loss:0.295, accuracy-:0.858, val_loss:0.341, val_accuracy->0.833\n",
      "Epoch 320/400:  loss:0.290, accuracy-:0.859, val_loss:0.335, val_accuracy->0.841\n",
      "Epoch 330/400:  loss:0.286, accuracy-:0.862, val_loss:0.333, val_accuracy->0.843\n",
      "Epoch 340/400:  loss:0.287, accuracy-:0.861, val_loss:0.332, val_accuracy->0.845\n",
      "Epoch 350/400:  loss:0.291, accuracy-:0.859, val_loss:0.335, val_accuracy->0.842\n",
      "Epoch 360/400:  loss:0.284, accuracy-:0.864, val_loss:0.333, val_accuracy->0.845\n",
      "Epoch 370/400:  loss:0.284, accuracy-:0.864, val_loss:0.334, val_accuracy->0.843\n",
      "Epoch 380/400:  loss:0.288, accuracy-:0.863, val_loss:0.338, val_accuracy->0.841\n",
      "Epoch 390/400:  loss:0.286, accuracy-:0.864, val_loss:0.335, val_accuracy->0.841\n"
     ]
    },
    {
     "data": {
      "text/plain": [
       "<matplotlib.legend.Legend at 0x16adf0c50>"
      ]
     },
     "execution_count": 84,
     "metadata": {},
     "output_type": "execute_result"
    },
    {
     "data": {
      "text/plain": [
       "<Figure size 640x480 with 1 Axes>"
      ],
      "image/png": "[encoded data removed]"
     },
     "metadata": {},
     "output_type": "display_data"
    }
   ],
   "execution_count": 84
  },
  {
   "metadata": {},
   "cell_type": "markdown",
   "source": "We can see that the model with fewer parameters is less likely to overfit than the model with more parameters. The CEL of the validation goes up to 0.35 while in the model with more parameter it goes up to 0.4"
  },
  {
   "cell_type": "markdown",
   "metadata": {},
   "source": [
    "# C. Weight Regularization\n",
    "\n",
    "Weight Regularization is another very famous technique to reduce overfitting.\n",
    "The concept of regularization is to add a constraint in the loss function to keep the weights of the model small.\n",
    "\n",
    "To get the intuition, weights regularization discourages the model from fitting the training data too closely and forces it to focus on the most important features. By constraining the model's weights, it can generalize better to new data because it's less likely to memorize the training examples and is more likely to capture underlying patterns and relationships in the data.\n",
    "\n",
    "A very famous and easy regularization is the L2-regularization where we modify the loss function as follows:\n",
    "\n",
    "$$ \\text{Total Loss} = \\mathbb{E}_{x,y \\sim P_{data}} \\left[ loss(f_w(x),y) \\right] + \\lambda \\sum_{j=1}^{p} w_j^2 $$\n",
    "\n",
    "Where $\\lambda$ is a scaling paramter, $loss$ in the loss function, $w$ the parameters of the model. Finally, $p$ indicates the set of different parameters\n",
    "\n",
    "In pytorch is very easy to apply L2-regularization. You can do that using the weight_decay ($\\lambda$) parameter of the optimizer class."
   ]
  },
  {
   "cell_type": "markdown",
   "metadata": {},
   "source": [
    "```python\n",
    "torch.optim.SGD(model.parameters(), lr=lr, weight_decay=λ)\n"
   ]
  },
  {
   "cell_type": "markdown",
   "metadata": {},
   "source": [
    "**Steps :**\n",
    "1) Use $\\lambda = 0.01$ and train your model using L2 regularization, as explained begore.  \n",
    "Use the model architeture with the more paramter and dont aply early stoping to see the effect.\n",
    "3) Compare with the initial training without early stoping (used in section Learning Curves and Overfitting) and comment on the results."
   ]
  },
  {
   "cell_type": "markdown",
   "metadata": {},
   "source": [
    "# Solution"
   ]
  },
  {
   "cell_type": "code",
   "metadata": {
    "ExecuteTime": {
     "end_time": "2024-10-18T09:26:35.294012Z",
     "start_time": "2024-10-18T09:25:31.081857Z"
    }
   },
   "source": [
    "model = NeuralNetwork(num_input_features=13)\n",
    "lambda_ = 0.01\n",
    "optimizer = torch.optim.SGD(model.parameters(), lr=lr, weight_decay=lambda_)\n",
    "loss_fn = torch.nn.BCELoss() \n",
    "L2_final_model, val_history_df, train_history_df, best_loss, best_epoch, best_weights \\\n",
    "    = train_loop(patient=10, epochs=400, model=model, optimizer=optimizer, loss_fn=loss_fn, early_stop=False)\n",
    "L2_final_model.load_state_dict(best_weights)"
   ],
   "outputs": [
    {
     "name": "stdout",
     "output_type": "stream",
     "text": [
      "Epoch 0/400:  loss:0.508, accuracy-:0.766, val_loss:0.436, val_accuracy->0.790\n",
      "Epoch 10/400:  loss:0.346, accuracy-:0.835, val_loss:0.347, val_accuracy->0.837\n",
      "Epoch 20/400:  loss:0.340, accuracy-:0.838, val_loss:0.345, val_accuracy->0.841\n",
      "Epoch 30/400:  loss:0.336, accuracy-:0.842, val_loss:0.345, val_accuracy->0.838\n",
      "Epoch 40/400:  loss:0.338, accuracy-:0.842, val_loss:0.344, val_accuracy->0.842\n",
      "Epoch 50/400:  loss:0.333, accuracy-:0.841, val_loss:0.344, val_accuracy->0.840\n",
      "Epoch 60/400:  loss:0.336, accuracy-:0.843, val_loss:0.344, val_accuracy->0.839\n",
      "Epoch 70/400:  loss:0.338, accuracy-:0.839, val_loss:0.344, val_accuracy->0.840\n",
      "Epoch 80/400:  loss:0.334, accuracy-:0.844, val_loss:0.343, val_accuracy->0.840\n",
      "Epoch 90/400:  loss:0.339, accuracy-:0.838, val_loss:0.344, val_accuracy->0.840\n",
      "Epoch 100/400:  loss:0.336, accuracy-:0.843, val_loss:0.343, val_accuracy->0.839\n",
      "Epoch 110/400:  loss:0.336, accuracy-:0.842, val_loss:0.343, val_accuracy->0.839\n",
      "Epoch 120/400:  loss:0.341, accuracy-:0.837, val_loss:0.344, val_accuracy->0.838\n",
      "Epoch 130/400:  loss:0.342, accuracy-:0.837, val_loss:0.344, val_accuracy->0.841\n",
      "Epoch 140/400:  loss:0.332, accuracy-:0.842, val_loss:0.343, val_accuracy->0.837\n",
      "Epoch 150/400:  loss:0.335, accuracy-:0.842, val_loss:0.343, val_accuracy->0.838\n",
      "Epoch 160/400:  loss:0.336, accuracy-:0.841, val_loss:0.344, val_accuracy->0.840\n",
      "Epoch 170/400:  loss:0.331, accuracy-:0.846, val_loss:0.342, val_accuracy->0.841\n",
      "Epoch 180/400:  loss:0.335, accuracy-:0.841, val_loss:0.342, val_accuracy->0.839\n",
      "Epoch 190/400:  loss:0.330, accuracy-:0.843, val_loss:0.344, val_accuracy->0.841\n",
      "Epoch 200/400:  loss:0.334, accuracy-:0.842, val_loss:0.343, val_accuracy->0.838\n",
      "Epoch 210/400:  loss:0.339, accuracy-:0.839, val_loss:0.343, val_accuracy->0.840\n",
      "Epoch 220/400:  loss:0.334, accuracy-:0.843, val_loss:0.342, val_accuracy->0.842\n",
      "Epoch 230/400:  loss:0.332, accuracy-:0.843, val_loss:0.343, val_accuracy->0.842\n",
      "Epoch 240/400:  loss:0.339, accuracy-:0.841, val_loss:0.343, val_accuracy->0.839\n",
      "Epoch 250/400:  loss:0.340, accuracy-:0.840, val_loss:0.343, val_accuracy->0.838\n",
      "Epoch 260/400:  loss:0.338, accuracy-:0.843, val_loss:0.343, val_accuracy->0.841\n",
      "Epoch 270/400:  loss:0.333, accuracy-:0.843, val_loss:0.342, val_accuracy->0.836\n",
      "Epoch 280/400:  loss:0.334, accuracy-:0.843, val_loss:0.343, val_accuracy->0.839\n",
      "Epoch 290/400:  loss:0.341, accuracy-:0.839, val_loss:0.343, val_accuracy->0.838\n",
      "Epoch 300/400:  loss:0.337, accuracy-:0.841, val_loss:0.344, val_accuracy->0.839\n",
      "Epoch 310/400:  loss:0.336, accuracy-:0.840, val_loss:0.344, val_accuracy->0.843\n",
      "Epoch 320/400:  loss:0.343, accuracy-:0.837, val_loss:0.343, val_accuracy->0.838\n",
      "Epoch 330/400:  loss:0.334, accuracy-:0.841, val_loss:0.343, val_accuracy->0.839\n",
      "Epoch 340/400:  loss:0.338, accuracy-:0.841, val_loss:0.343, val_accuracy->0.836\n",
      "Epoch 350/400:  loss:0.338, accuracy-:0.842, val_loss:0.343, val_accuracy->0.840\n",
      "Epoch 360/400:  loss:0.332, accuracy-:0.844, val_loss:0.344, val_accuracy->0.839\n",
      "Epoch 370/400:  loss:0.334, accuracy-:0.842, val_loss:0.343, val_accuracy->0.840\n",
      "Epoch 380/400:  loss:0.333, accuracy-:0.842, val_loss:0.342, val_accuracy->0.840\n",
      "Epoch 390/400:  loss:0.334, accuracy-:0.842, val_loss:0.343, val_accuracy->0.839\n"
     ]
    },
    {
     "data": {
      "text/plain": [
       "<All keys matched successfully>"
      ]
     },
     "execution_count": 85,
     "metadata": {},
     "output_type": "execute_result"
    }
   ],
   "execution_count": 85
  },
  {
   "cell_type": "code",
   "metadata": {
    "ExecuteTime": {
     "end_time": "2024-10-18T09:26:35.380768Z",
     "start_time": "2024-10-18T09:26:35.294574Z"
    }
   },
   "source": [
    "plt.figure()\n",
    "plt.plot(train_history_df[\"epoch\"],train_history_df[\"loss\"], label = \"Training set\")\n",
    "plt.plot(val_history_df[\"epoch\"],val_history_df[\"loss\"], label = \"Validation set\")\n",
    "plt.title(\"Learning Curve\")\n",
    "plt.ylabel(\"Cross Entropy Loss\")\n",
    "plt.xlabel(\"Epoch\")\n",
    "plt.legend()"
   ],
   "outputs": [
    {
     "data": {
      "text/plain": [
       "<matplotlib.legend.Legend at 0x16b338c50>"
      ]
     },
     "execution_count": 86,
     "metadata": {},
     "output_type": "execute_result"
    },
    {
     "data": {
      "text/plain": [
       "<Figure size 640x480 with 1 Axes>"
      ],
      "image/png": "[encoded data removed]"
     },
     "metadata": {},
     "output_type": "display_data"
    }
   ],
   "execution_count": 86
  },
  {
   "metadata": {},
   "cell_type": "markdown",
   "source": "It did help to reduce the overfitting. the training set the loss for the training set never got as low as the model without regularization."
  },
  {
   "cell_type": "markdown",
   "metadata": {},
   "source": [
    "#### comments\n",
    "Adding regulation term can also help us to prevent overting.  \n",
    "As all the previus methods we introduce one new hyperparameter that we have to fit.  \n",
    "finaly in practive we using all the aforemention method."
   ]
  },
  {
   "cell_type": "markdown",
   "metadata": {},
   "source": [
    "# C. Test set perfomance\n",
    "\n",
    "mesure the accuracy of the different model on the test set you create before.\n",
    "\n",
    "Make sure you normalise you data using the \"scaler\" we define at the begining of the notebook."
   ]
  },
  {
   "cell_type": "code",
   "metadata": {
    "ExecuteTime": {
     "end_time": "2024-10-18T09:28:04.858954Z",
     "start_time": "2024-10-18T09:28:04.848946Z"
    }
   },
   "source": [
    "# step 1. select data point from test set\n",
    "#already done earlier\n",
    "# step 2. use scaler to transform\n",
    "#already done earlier\n",
    "# step 3. transform datat to tensor\n",
    "X_test_tensor = torch.tensor(X_test.values, dtype=torch.float)\n",
    "y_test_tensor = torch.tensor(y_test.values, dtype=torch.float)\n",
    "# step 4. get the predicted propabilities\n",
    "final_model = [ES_final_model, small_final_model, L2_final_model]\n",
    "names = [\"Early Stopping\", \"Reduced Model\", \"L2 Regularization\"]\n",
    "for i, model in enumerate(final_model):\n",
    "    predicted_prob = model(X_test_tensor)  \n",
    "    # step 5. get predictions from propabilitiers\n",
    "    predictions = (predicted_prob > 0.5) * 1\n",
    "    # step 6. get accuracy\n",
    "    accuracy = torch.sum(predictions == y_test_tensor) / y_test_tensor.shape[0]\n",
    "    print(f\"Accuracy of the model {names[i]}: {accuracy}\")"
   ],
   "outputs": [
    {
     "name": "stdout",
     "output_type": "stream",
     "text": [
      "Accuracy of the model Early Stopping: 0.8471828699111938\n",
      "Accuracy of the model Reduced Model: 0.8382866382598877\n",
      "Accuracy of the model L2 Regularization: 0.8457990288734436\n"
     ]
    }
   ],
   "execution_count": 88
  },
  {
   "metadata": {},
   "cell_type": "markdown",
   "source": "Surprisingly the early stop model was able to get the best accuracy on the test set."
  },
  {
   "metadata": {},
   "cell_type": "code",
   "outputs": [],
   "execution_count": null,
   "source": ""
  }
 ],
 "metadata": {
  "kernelspec": {
   "display_name": "Python 3 (ipykernel)",
   "language": "python",
   "name": "python3"
  },
  "language_info": {
   "codemirror_mode": {
    "name": "ipython",
    "version": 3
   },
   "file_extension": ".py",
   "mimetype": "text/x-python",
   "name": "python",
   "nbconvert_exporter": "python",
   "pygments_lexer": "ipython3",
   "version": "3.9.18"
  }
 },
 "nbformat": 4,
 "nbformat_minor": 1
}
