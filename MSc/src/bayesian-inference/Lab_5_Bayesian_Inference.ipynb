{
 "cells": [
  {
   "cell_type": "markdown",
   "metadata": {
    "collapsed": true,
    "jupyter": {
     "outputs_hidden": true
    }
   },
   "source": [
    "# Lab 5 - Bayesian Inference\n",
    "\n",
    "In the 5th lab of the course, we will study Bayesian Inference in practice.\n",
    "\n",
    "We will explore the use of Bayesian inference thought a Decision-Making example."
   ]
  },
  {
   "cell_type": "markdown",
   "metadata": {},
   "source": [
    "# Assignment: Bayesian Decision-Making\n",
    "\n",
    "## N Meteorologist Problem\n",
    "\n",
    "In this assignment, we explore the challenge of dealing with predictions from N different meteorologist, each forecasting whether it will rain the next day. Specifically, each meteorology predicts the propability\n",
    "of rain for the following day.\n",
    "\n",
    "To be more precise, we can interpret each meteorologist as a model that predicts whether it will rain or not. Mathematically, this is expressed as $P(y | M_i)$ for each $i \\in M$, where $M$ is the set of possible meteorologists. Here, the random variable $y$ indicates whether it will rain or not (where $y = 1$ means rain and $y = 0$ means no rain). The output of each model, $P(y = 1 | M_i)$, represents the probability of rain for the next day.\n",
    "\n",
    "For the purposes of this exercise, we assume that we have $N = 3$ different meteorologist for simplicity.  \n",
    "The set $M$ is defined as $M = \\{M1, M2, M3\\}$."
   ]
  },
  {
   "cell_type": "markdown",
   "metadata": {},
   "source": [
    "# Step 1.1 Marginal Probability\n",
    "\n",
    "Let's assume that, for the first day, we have no clue about which meteorology is the best. In the Bayesian interpretation, this means our prior belief is the same for every meteorology. In other words, our belief is $P(M_i) = 1/N$ for every $i \\in M$.\n",
    "\n",
    "Furthermore, the predicted probability of rain for the different meteorological stations, $P(y=1|M)$, is given by the following list of numbers: $[0.1, 0.5, 0.7]$.\n",
    "\n",
    "One way to produce our final estimation of rain is to use the Bayesian Marginal prediction:\n",
    "\n",
    "$$p_{\\text{marginal}}(y) =  \\sum_{i \\in M} p(y \\mid M_i) \\cdot P(M_i)$$\n",
    "\n",
    "The marginal prediction is the average of the predictions of each meteorology weighted by our belief.  \n",
    "In other words, it is weighted by how much we trust each meteorology.\n",
    "\n",
    "After obtaining the marginal prediction $p_{\\text{marginal}}(y)$, we can select our final prediction (or action) $a$ that maximizes the marginal prediction:\n",
    "\n",
    "$$a = \\arg \\max_{y} \\; p_{\\text{marginal}}(y)$$\n"
   ]
  },
  {
   "cell_type": "markdown",
   "metadata": {},
   "source": [
    "**Complete the following steps**:  \n",
    "A) Define a vector with the initial prior belief over the models p(M).  \n",
    "B) Create a function to calculate the marginal prediction $p_{\\text{marginal}}(y)$ for specific y.   \n",
    "C) Make your final action (or prediction) that maximise the Bayesian marginal prediction.\n"
   ]
  },
  {
   "cell_type": "code",
   "execution_count": 7,
   "metadata": {},
   "outputs": [],
   "source": [
    "def get_marginal_prediction(y, prior, p_y_m):\n",
    "    # fill your code\n",
    "    \n",
    "    return marginal_prediction"
   ]
  },
  {
   "cell_type": "code",
   "execution_count": 11,
   "metadata": {},
   "outputs": [],
   "source": [
    "import numpy as np\n",
    "\n",
    "propability_rain_model = np.array([0.1, 0.5, 0.7]) # p( y=1 | M )\n",
    "propability_model = np.array([1-propability_rain_model, propability_rain_model]) # p(y|M)"
   ]
  },
  {
   "cell_type": "code",
   "execution_count": 12,
   "metadata": {},
   "outputs": [],
   "source": [
    "# A) define prior\n",
    "number_of_meteorologist = 3# fill your code\n",
    "prior = [1/number_of_meteorologist]*number_of_meteorologist  # fill your code"
   ]
  },
  {
   "cell_type": "code",
   "execution_count": 13,
   "metadata": {},
   "outputs": [
    {
     "data": {
      "text/plain": [
       "[0.3333333333333333, 0.3333333333333333, 0.3333333333333333]"
      ]
     },
     "execution_count": 13,
     "metadata": {},
     "output_type": "execute_result"
    }
   ],
   "source": [
    "prior"
   ]
  },
  {
   "cell_type": "code",
   "execution_count": null,
   "metadata": {},
   "outputs": [],
   "source": [
    "# B) calculate marginal prediction\n",
    "p_y_marginal = get_marginal_prediction# fill your code"
   ]
  },
  {
   "cell_type": "code",
   "execution_count": 53,
   "metadata": {},
   "outputs": [],
   "source": [
    "# C) calculate the prediction that maximise the marginal predictions\n",
    "final_actions = # fill your code"
   ]
  },
  {
   "cell_type": "code",
   "execution_count": 1,
   "metadata": {
    "ExecuteTime": {
     "end_time": "2024-10-24T12:32:34.090261Z",
     "start_time": "2024-10-24T12:32:33.987659Z"
    }
   },
   "outputs": [
    {
     "ename": "NameError",
     "evalue": "name 'final_actions' is not defined",
     "output_type": "error",
     "traceback": [
      "\u001b[0;31m---------------------------------------------------------------------------\u001b[0m",
      "\u001b[0;31mNameError\u001b[0m                                 Traceback (most recent call last)",
      "Cell \u001b[0;32mIn[1], line 1\u001b[0m\n\u001b[0;32m----> 1\u001b[0m \u001b[38;5;28mprint\u001b[39m(\u001b[38;5;124m\"\u001b[39m\u001b[38;5;124mOur final prediction is :\u001b[39m\u001b[38;5;124m\"\u001b[39m, \u001b[43mfinal_actions\u001b[49m)\n",
      "\u001b[0;31mNameError\u001b[0m: name 'final_actions' is not defined"
     ]
    }
   ],
   "source": [
    "print(\"Our final prediction is :\", final_actions)"
   ]
  },
  {
   "cell_type": "markdown",
   "metadata": {},
   "source": [
    "# Step 1.2 Decision According to Utility\n",
    "\n",
    "In some applications, our decisions (or actions) significantly affect people.\n",
    "\n",
    "Consider the case of wrongly predicting the weather. Wrongly predicting bad weather affects people less. In contrast, wrongly predicting good weather may have a significant impact on people.\n",
    "\n",
    "One way to adjust our actions according to the effect on the user is to define an additional utility function $U(a, y)$ that outputs a scalar indicating how much our final actions are affected by the outcome $y$.\n",
    "\n",
    "We can then select the action $a$ that maximizes the expected utility $u(a) = E_{y \\sim p_m(y)}[U(a,y)]$ according to our model $p_m$ to estimate the outcome $y$.\n",
    "\n",
    "The expected utility is defined as follows:\n",
    "$$ u(a) = E_{y \\sim p_m(y)}[U(a,y)] = \\sum_y U[a,y] p_m(y) $$\n",
    "\n",
    "And the final action $a^{\\star}$ is the one that maximizes the expected utility:\n",
    "$$ a^{\\star} = \\arg \\max_{y} \\;  u(a) = \\arg \\max_{y} \\;  \\sum_y U[a,y] p_m(y)  $$\n",
    "\n",
    "In our example, we have the following utility function $U[a,y]$:\n",
    "\n",
    "$$\n",
    "U[a,y] = \\begin{bmatrix}\n",
    "           1  & -10 \\\\\n",
    "          -1 & 1\n",
    "        \\end{bmatrix}\n",
    "$$\n",
    "\n",
    "So, if our prediction (or action) is correct, i.e., $a = y$ (diagonal of the matrix), then we get a utility of 1.  \n",
    "If our action is 0 (no rain) and it's actually raining ($y=1$), then we incur a big penalty of -10.  \n",
    "If our action is 1 (rain) and it's actually not raining ($y=0$), then we incur a small penalty.\n"
   ]
  },
  {
   "cell_type": "markdown",
   "metadata": {},
   "source": [
    "**Complete the following steps**:  \n",
    "A) Fill the function bellow, that calculates the expected utility of an action $a$ according to a utility function U, and a model $p_m$  \n",
    "B) Produce the final action $a^{\\star}$ that maximise the expected utility according to the marginal model, and the utility function defined above.  \n",
    "C) Comment of the result."
   ]
  },
  {
   "cell_type": "code",
   "execution_count": 5,
   "metadata": {},
   "outputs": [],
   "source": [
    "def get_expected_utility(action , model , U):\n",
    "    \"\"\"\n",
    "    Calculate the expected utility of an action a, according to a model, for specific utility function U\n",
    "    \"\"\"\n",
    "        \n",
    "    return utility"
   ]
  },
  {
   "cell_type": "code",
   "execution_count": 6,
   "metadata": {},
   "outputs": [],
   "source": [
    "U = np.array([[1, -10],\n",
    "              [-1, 1]])"
   ]
  },
  {
   "cell_type": "code",
   "execution_count": 7,
   "metadata": {},
   "outputs": [],
   "source": [
    "# find the best \n",
    "u_a_1 = # fill your code\n",
    "u_a_0 = # fill your code\n",
    "\n",
    "final_actions_utility = # fill your code "
   ]
  },
  {
   "cell_type": "code",
   "execution_count": 8,
   "metadata": {},
   "outputs": [
    {
     "data": {
      "text/plain": [
       "(2,)"
      ]
     },
     "execution_count": 8,
     "metadata": {},
     "output_type": "execute_result"
    }
   ],
   "source": [
    "p_y_marginal.shape"
   ]
  },
  {
   "cell_type": "code",
   "execution_count": 9,
   "metadata": {},
   "outputs": [
    {
     "name": "stdout",
     "output_type": "stream",
     "text": [
      "Our final prediction is : 1\n"
     ]
    }
   ],
   "source": [
    "print(\"Our final prediction is :\", final_actions_utility)"
   ]
  },
  {
   "cell_type": "markdown",
   "metadata": {},
   "source": [
    "# Step 1.3 Updating Belief\n",
    "\n",
    "After collecting our data $D$, in our example, if it actually rains ($y_{\\text{true}}$), it makes sense to update our belief $p(M)$ about the best model.\n",
    "\n",
    "Using the Bayesian interpretation, we can update the belief $p(M)$ by calculating the posterior distribution:\n",
    "\n",
    "$$ p(M_i|y_{\\text{true}}) = \\frac{p(y_{\\text{true}}|M_i) \\cdot p(M_i)}{p(y_{\\text{true}})} $$\n",
    "\n",
    "$$ = \\frac{p(y_{\\text{true}}|M_i) \\cdot p(M_i)}{\\sum_{j \\in M} p(y_{\\text{true}}|M_j) \\cdot p(M_j)} $$\n",
    "\n",
    "Then, until we observe some new data, we can use the posterior as our new prior $p(M)$.\n"
   ]
  },
  {
   "cell_type": "markdown",
   "metadata": {},
   "source": [
    "**Complete the following steps**:  \n",
    "A) Create a function that calculate the posterior probability distribution.  \n",
    "B) Calculate the posterior is the case that the true outcome is y = 1 (rain).  \n",
    "C) Compare the values of the posterior with the values of the prior, comment on the results.  \n",
    "D) Set the prior to be equal to the posterior, in order to update your belief for the next predictions.  "
   ]
  },
  {
   "cell_type": "code",
   "execution_count": 10,
   "metadata": {},
   "outputs": [],
   "source": [
    "# A)\n",
    "def get_posterior(prior, P, outcome):\n",
    "    \"\"\"\n",
    "    Calculate the posterior given a prior belief, a set of predictions, an outcome\n",
    "    - prior: belief vector so that prior[i] is the probability of model i being correct\n",
    "    - P: p(y|m) P[y][m] is the probability the m-th model assigns to the y-th outcome\n",
    "    - outcome: actual outcome\n",
    "    \"\"\"\n",
    "\n",
    "    # fill your code\n",
    "    return posterior"
   ]
  },
  {
   "cell_type": "code",
   "execution_count": 11,
   "metadata": {},
   "outputs": [
    {
     "data": {
      "text/plain": [
       "array([0.33333333, 0.33333333, 0.33333333])"
      ]
     },
     "execution_count": 11,
     "metadata": {},
     "output_type": "execute_result"
    }
   ],
   "source": [
    "y_true = 1\n",
    "prior"
   ]
  },
  {
   "cell_type": "code",
   "execution_count": 12,
   "metadata": {},
   "outputs": [],
   "source": [
    "# B) calculate the posterior, based on the true outcome, and the old model\n",
    "posterior = # fill your code"
   ]
  },
  {
   "cell_type": "code",
   "execution_count": 13,
   "metadata": {},
   "outputs": [
    {
     "name": "stdout",
     "output_type": "stream",
     "text": [
      "Prior distribution: [0.33333333 0.33333333 0.33333333]\n",
      "Posterior distribution: [0.07692308 0.38461538 0.53846154]\n"
     ]
    }
   ],
   "source": [
    "# C) compare prior and posterior\n",
    "print(\"Prior distribution:\", prior)\n",
    "print(\"Posterior distribution:\", posterior)\n",
    "\n",
    "# try to add some comment? what you observe?"
   ]
  },
  {
   "cell_type": "code",
   "execution_count": 14,
   "metadata": {},
   "outputs": [],
   "source": [
    "# D) update prior\n",
    "prior = # fill your code"
   ]
  },
  {
   "cell_type": "markdown",
   "metadata": {},
   "source": [
    "# Step 1.3 Sequential decision making\n",
    "\n",
    "To wrap up everything above, consider the case that we sequentially have to estimation our actions $a$ based on our belief about the model p(m). \n",
    "\n",
    "For 3 consecutive days we get sequential prediction from the different meteorologist.\n",
    "After each day we also observe the true outcome, so we update our prior to make the action of the next day.\n",
    "\n",
    "The predictions and the true outcome is given in the following code block.\n",
    "\n"
   ]
  },
  {
   "cell_type": "markdown",
   "metadata": {},
   "source": [
    "**Complete the following steps**:  \n",
    "Iterate over the different days and:  \n",
    "A) Calculate the marginal prediction  \n",
    "B) Select the action that maximise the marginal prediction  \n",
    "C) Select the action that maximise the expected utility based on the marginal model  \n",
    "D) Update the prior using the posterior of the true outcome  \n",
    "E) Comment on the final results"
   ]
  },
  {
   "cell_type": "code",
   "execution_count": 18,
   "metadata": {
    "jupyter": {
     "source_hidden": true
    }
   },
   "outputs": [],
   "source": [
    "T = 3 # number of time steps\n",
    "n_models = 3 # number of models\n",
    "\n",
    "# build predictions for each station of rain probability\n",
    "predictions = np.array( \n",
    "                       [[0.1, 0.4, 0.7], # day 1\n",
    "                        [0.1, 0.1, 0.8], # day 2\n",
    "                        [0.3, 0.6, 0.9]] # day 3\n",
    "                      )\n",
    "\n",
    "\n",
    "true_y = [0, 0, 1];\n",
    "n_outcomes = 2 # 0 = no rain, 1 = rain"
   ]
  },
  {
   "cell_type": "code",
   "execution_count": 2,
   "metadata": {},
   "outputs": [
    {
     "ename": "NameError",
     "evalue": "name 'T' is not defined",
     "output_type": "error",
     "traceback": [
      "\u001b[0;31m---------------------------------------------------------------------------\u001b[0m",
      "\u001b[0;31mNameError\u001b[0m                                 Traceback (most recent call last)",
      "Cell \u001b[0;32mIn[2], line 1\u001b[0m\n\u001b[0;32m----> 1\u001b[0m \u001b[38;5;28;01mfor\u001b[39;00m t \u001b[38;5;129;01min\u001b[39;00m \u001b[38;5;28mrange\u001b[39m(\u001b[43mT\u001b[49m):\n\u001b[1;32m      2\u001b[0m     \n\u001b[1;32m      3\u001b[0m    \u001b[38;5;66;03m# fill your code\u001b[39;00m\n\u001b[1;32m      6\u001b[0m     \u001b[38;5;28mprint\u001b[39m(\u001b[38;5;124mf\u001b[39m\u001b[38;5;124m\"\u001b[39m\u001b[38;5;124m-------iteration day \u001b[39m\u001b[38;5;132;01m{\u001b[39;00mt\u001b[38;5;132;01m}\u001b[39;00m\u001b[38;5;124m\"\u001b[39m)\n\u001b[1;32m      7\u001b[0m     \u001b[38;5;28mprint\u001b[39m(\u001b[38;5;124m\"\u001b[39m\u001b[38;5;124mPrior  p(m) = \u001b[39m\u001b[38;5;124m\"\u001b[39m, old_prior)\n",
      "\u001b[0;31mNameError\u001b[0m: name 'T' is not defined"
     ]
    }
   ],
   "source": [
    "for t in range(T):\n",
    "    \n",
    "   # fill your code\n",
    "    \n",
    "    \n",
    "    print(f\"-------iteration day {t}\")\n",
    "    print(\"Prior  p(m) = \", old_prior)\n",
    "    print(\"Predictions p(y=1|m) = \",predictions[t] )\n",
    "    print(\"True outcome = \",true_y[t] )\n",
    "    print(\"Marginal prediction, p_marginal(y=1) = \", p_y_1_marginal)\n",
    "    print(\"Action that maximise the marginal model:\", action_marginal)\n",
    "    print(\"Action that maximise the expected utility U according to the marginal model:\", final_actions_utility)\n",
    "    print(\"Posterior:\", posterior)\n",
    "    print(\"\\n\")"
   ]
  },
  {
   "cell_type": "markdown",
   "metadata": {},
   "source": [
    "**E) What is the best model according to the posterior distribution after process?**"
   ]
  },
  {
   "cell_type": "markdown",
   "metadata": {},
   "source": [
    "# Step 1.4 Decision Based on Maximum a posteriori (MAP)\n",
    "\n",
    "Another way to make decisions is to select the model that performs the best according to our posterior distribution.\n",
    "\n",
    "More specifically, in each step, we can choose the model that maximizes the posterior:\n",
    "      $$m^{\\star} = \\arg \\max_{m} p(m|Data) $$\n",
    "\n",
    "And then obtain the best action according to that model $p(m|Data)$ instead of the marginal model.\n",
    "1. Obtain the action with the maximum probability according to the best model $p(y|m^{\\star})$.\n",
    "2. The second option is to select the action that maximizes the expected utility based on the best model $p(y|m^{\\star})$.\n"
   ]
  },
  {
   "cell_type": "markdown",
   "metadata": {},
   "source": [
    "**Complete the following steps**:   \n",
    "A) Select the model $m^{\\star}$ with the maximum posterior (MAP estimator)   \n",
    "B) Calculate the action that with the maximum probability according to the model $p(y|m^{\\star})$  \n",
    "C) Calculate the action that with the maximum expected utility, according to the model $p(y|m^{\\star} )$  "
   ]
  },
  {
   "cell_type": "code",
   "execution_count": 3,
   "metadata": {},
   "outputs": [],
   "source": [
    "predictions = [0.3, 0.3, 0.6]"
   ]
  },
  {
   "cell_type": "code",
   "execution_count": 4,
   "metadata": {},
   "outputs": [
    {
     "ename": "SyntaxError",
     "evalue": "invalid syntax (2333744060.py, line 2)",
     "output_type": "error",
     "traceback": [
      "\u001b[0;36m  Cell \u001b[0;32mIn[4], line 2\u001b[0;36m\u001b[0m\n\u001b[0;31m    map_estimator = # fill your code\u001b[0m\n\u001b[0m                    ^\u001b[0m\n\u001b[0;31mSyntaxError\u001b[0m\u001b[0;31m:\u001b[0m invalid syntax\n"
     ]
    }
   ],
   "source": [
    "#A)\n",
    "map_estimator = # fill your code"
   ]
  },
  {
   "cell_type": "code",
   "execution_count": 5,
   "metadata": {},
   "outputs": [
    {
     "ename": "SyntaxError",
     "evalue": "invalid syntax (3017826174.py, line 2)",
     "output_type": "error",
     "traceback": [
      "\u001b[0;36m  Cell \u001b[0;32mIn[5], line 2\u001b[0;36m\u001b[0m\n\u001b[0;31m    p_y_1 =  # fill your code\u001b[0m\n\u001b[0m             ^\u001b[0m\n\u001b[0;31mSyntaxError\u001b[0m\u001b[0;31m:\u001b[0m invalid syntax\n"
     ]
    }
   ],
   "source": [
    "# B)\n",
    "p_y_1 =  # fill your code\n",
    "p_y_map = # fill your code\n",
    "\n",
    "action_marginal = # fill your code\n",
    "action_marginal"
   ]
  },
  {
   "cell_type": "code",
   "execution_count": 6,
   "metadata": {},
   "outputs": [
    {
     "ename": "SyntaxError",
     "evalue": "invalid syntax (1875327689.py, line 2)",
     "output_type": "error",
     "traceback": [
      "\u001b[0;36m  Cell \u001b[0;32mIn[6], line 2\u001b[0;36m\u001b[0m\n\u001b[0;31m    u_a_1 = # fill your code\u001b[0m\n\u001b[0m            ^\u001b[0m\n\u001b[0;31mSyntaxError\u001b[0m\u001b[0;31m:\u001b[0m invalid syntax\n"
     ]
    }
   ],
   "source": [
    "# C)\n",
    "u_a_1 = # fill your code\n",
    "u_a_0 = # fill your code\n",
    "\n",
    "final_actions_utility = # fill your code\n",
    "final_actions_utility"
   ]
  }
 ],
 "metadata": {
  "kernelspec": {
   "display_name": "Python 3 (ipykernel)",
   "language": "python",
   "name": "python3"
  },
  "language_info": {
   "codemirror_mode": {
    "name": "ipython",
    "version": 3
   },
   "file_extension": ".py",
   "mimetype": "text/x-python",
   "name": "python",
   "nbconvert_exporter": "python",
   "pygments_lexer": "ipython3",
   "version": "3.8.10"
  }
 },
 "nbformat": 4,
 "nbformat_minor": 4
}
