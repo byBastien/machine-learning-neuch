{
 "cells": [
  {
   "cell_type": "markdown",
   "metadata": {
    "collapsed": true
   },
   "source": [
    "# Lab 5 - Bayesian Inference\n",
    "\n",
    "In the 5th lab of the course, we will study Bayesian Inference in practice.\n",
    "\n",
    "We will explore the use of Bayesian inference thought a Decision Making example."
   ]
  },
  {
   "cell_type": "markdown",
   "metadata": {},
   "source": [
    "# Assignment: Bayesian Decision-Making\n",
    "\n",
    "## N Meteorologist Problem\n",
    "\n",
    "In this assignment, we explore the challenge of dealing with predictions from N different meteorologist, each forecasting whether it will rain the next day. Specifically, each meteorology predicts the propability\n",
    "of rain for the following day.\n",
    "\n",
    "To be more precise, we can interpret each meteorology as a model that predicts whether it will rain or not. Mathematically, this is expressed as $P(y | M_i)$ for each $i \\in M$, where $M$ is the set of possible meteorologist. Here, the random variable $y$ indicates whether it will rain or not (where $y = 1$ means rain and $y = 0$ means no rain). The output of each model, $P(y = 1 | M_i)$, represents the probability of rain for the next day.\n",
    "\n",
    "For the purposes of this exercise, we assume that we have $N = 3$ different meteorologist for simplicity.  \n",
    "The set $M$ is defined as $M = \\{M1, M2, M3\\}$."
   ]
  },
  {
   "cell_type": "code",
   "metadata": {
    "ExecuteTime": {
     "end_time": "2024-11-01T09:58:12.853742Z",
     "start_time": "2024-11-01T09:58:12.851792Z"
    }
   },
   "source": [
    "import numpy as np\n",
    "\n",
    "# probability of raining for each meteorologist 10% rain for M1, 50% for M2, 70% for M3\n",
    "probability_rain = np.array([0.1, 0.5, 0.7]) # p( y=1 | M )\n",
    "\n",
    "probability_model = np.array([1-probability_rain, probability_rain]) # p(y|M)"
   ],
   "outputs": [],
   "execution_count": 13
  },
  {
   "cell_type": "code",
   "metadata": {
    "ExecuteTime": {
     "end_time": "2024-11-01T09:58:13.670327Z",
     "start_time": "2024-11-01T09:58:13.667904Z"
    }
   },
   "source": [
    "probability_model"
   ],
   "outputs": [
    {
     "data": {
      "text/plain": [
       "array([[0.9, 0.5, 0.3],\n",
       "       [0.1, 0.5, 0.7]])"
      ]
     },
     "execution_count": 14,
     "metadata": {},
     "output_type": "execute_result"
    }
   ],
   "execution_count": 14
  },
  {
   "metadata": {
    "ExecuteTime": {
     "end_time": "2024-11-01T09:58:14.202332Z",
     "start_time": "2024-11-01T09:58:14.200900Z"
    }
   },
   "cell_type": "code",
   "source": "",
   "outputs": [],
   "execution_count": 14
  },
  {
   "cell_type": "code",
   "metadata": {
    "ExecuteTime": {
     "end_time": "2024-11-01T09:58:14.465469Z",
     "start_time": "2024-11-01T09:58:14.463191Z"
    }
   },
   "source": "probability_model[0,0] # P(y=0|M) Model 1 no rain",
   "outputs": [
    {
     "data": {
      "text/plain": [
       "0.9"
      ]
     },
     "execution_count": 15,
     "metadata": {},
     "output_type": "execute_result"
    }
   ],
   "execution_count": 15
  },
  {
   "cell_type": "code",
   "metadata": {
    "ExecuteTime": {
     "end_time": "2024-11-01T09:58:14.661828Z",
     "start_time": "2024-11-01T09:58:14.659504Z"
    }
   },
   "source": "probability_model[1,0] # P(y=1|M) Model 1 rain",
   "outputs": [
    {
     "data": {
      "text/plain": [
       "0.1"
      ]
     },
     "execution_count": 16,
     "metadata": {},
     "output_type": "execute_result"
    }
   ],
   "execution_count": 16
  },
  {
   "cell_type": "markdown",
   "metadata": {},
   "source": [
    "# Step 1.1 Marginal Probability\n",
    "\n",
    "### Marginal Model\n",
    "In the Bayesian interpretation, we assume that we have **a belief** $P_\\beta(M_i)$ about which model $M_i$ is true.\n",
    "\n",
    "One way to estimate the probability of rain is to use the Bayesian Marginal Model:\n",
    "\n",
    "$$p_{\\text{marginal}}(y) =  \\sum_{i \\in M} p(y \\mid M_i) \\cdot P_\\beta(M_i)$$\n",
    "\n",
    "The marginal prediction is the average the probability from each meteorological model, weighted by our belief.  \n",
    "In other words, it is weighted by how much we trust each model.\n",
    "\n",
    "### Decision-Making Problem\n",
    "Now imagine that you have to decide whether it is going to rain and inform some friends.  \n",
    "Let's denote your decision with $a$: if it's going to rain, $a = 1$, and if it's not, $a = 0$.\n",
    "\n",
    "Given the $p_{\\text{marginal}}(y)$, we can select the final action $a$ that maximizes the marginal model:\n",
    "\n",
    "$$a = \\arg \\max_{y} \\; p_{\\text{marginal}}(y)$$"
   ]
  },
  {
   "cell_type": "markdown",
   "metadata": {},
   "source": [
    "**Complete the following steps**:  \n",
    "Let's assume that, on the first day, we have no information about which meteorological model is the best.  \n",
    "In other words, our prior belief is $P_\\beta(M_i) = \\text{Prior}(M_i) = 1/N$ for every $i \\in M$.  \n",
    "\n",
    "Additionally, the predicted probability of rain from the different meteorological stations, $P(y=1 \\mid M_i)$, is given by the following list: $[0.1, 0.5, 0.7]$.\n",
    "\n",
    "A) Define a vector representing the initial prior belief over the models $P_\\beta(M_i)$.  \n",
    "B) Create a function to calculate the marginal model $p_{\\text{marginal}}(y)$ for a each $y$.   \n",
    "C) Make your final decision (or prediction) based on the maximum probability of the Bayesian marginal model."
   ]
  },
  {
   "cell_type": "code",
   "metadata": {
    "ExecuteTime": {
     "end_time": "2024-11-01T09:58:15.167442Z",
     "start_time": "2024-11-01T09:58:15.165525Z"
    }
   },
   "source": [
    "import numpy as np\n",
    "\n",
    "# probability of raining for each meteorologist\n",
    "probability_rain = np.array([0.1, 0.5, 0.7]) # p( y=1 | M )\n",
    "\n",
    "probability_model = np.array([1-probability_rain, probability_rain]) # p(y|M)"
   ],
   "outputs": [],
   "execution_count": 17
  },
  {
   "cell_type": "code",
   "metadata": {
    "ExecuteTime": {
     "end_time": "2024-11-01T09:58:15.518349Z",
     "start_time": "2024-11-01T09:58:15.516614Z"
    }
   },
   "source": [
    "# A) define prior\n",
    "number_of_meteorologist = 3\n",
    "prior = np.array([1]*number_of_meteorologist)/number_of_meteorologist  # fill your code\n",
    "belief = prior"
   ],
   "outputs": [],
   "execution_count": 18
  },
  {
   "metadata": {
    "ExecuteTime": {
     "end_time": "2024-11-01T09:58:15.762375Z",
     "start_time": "2024-11-01T09:58:15.759949Z"
    }
   },
   "cell_type": "code",
   "source": "prior",
   "outputs": [
    {
     "data": {
      "text/plain": [
       "array([0.33333333, 0.33333333, 0.33333333])"
      ]
     },
     "execution_count": 19,
     "metadata": {},
     "output_type": "execute_result"
    }
   ],
   "execution_count": 19
  },
  {
   "cell_type": "code",
   "metadata": {
    "ExecuteTime": {
     "end_time": "2024-11-01T09:58:16.026607Z",
     "start_time": "2024-11-01T09:58:16.024416Z"
    }
   },
   "source": [
    "def get_marginal_probability(y, belief, p_y_m):\n",
    "    # fill your code\n",
    "    marginal_probability = 0\n",
    "    for i in range(len(belief)):\n",
    "        marginal_probability += p_y_m[y,i]*belief[i]\n",
    "    \n",
    "    return marginal_probability"
   ],
   "outputs": [],
   "execution_count": 20
  },
  {
   "cell_type": "code",
   "metadata": {
    "ExecuteTime": {
     "end_time": "2024-11-01T09:58:16.251321Z",
     "start_time": "2024-11-01T09:58:16.249142Z"
    }
   },
   "source": [
    "# B) calculate marginal prediction\n",
    "p_y0_marginal = get_marginal_probability(0,belief,probability_model) # fill your code # marginal probability of not raining\n",
    "p_y1_marginal =  get_marginal_probability(1,belief,probability_model)# fill your code # marginal probability of raining\n",
    "p_y_marginal = [p_y0_marginal, p_y1_marginal] # the whole model"
   ],
   "outputs": [],
   "execution_count": 21
  },
  {
   "cell_type": "code",
   "metadata": {
    "ExecuteTime": {
     "end_time": "2024-11-01T09:58:16.491733Z",
     "start_time": "2024-11-01T09:58:16.489223Z"
    }
   },
   "source": [
    "p_y_marginal"
   ],
   "outputs": [
    {
     "data": {
      "text/plain": [
       "[0.5666666666666667, 0.4333333333333333]"
      ]
     },
     "execution_count": 22,
     "metadata": {},
     "output_type": "execute_result"
    }
   ],
   "execution_count": 22
  },
  {
   "cell_type": "code",
   "metadata": {
    "ExecuteTime": {
     "end_time": "2024-11-01T09:58:16.785019Z",
     "start_time": "2024-11-01T09:58:16.783164Z"
    }
   },
   "source": [
    "# C) calculate the action that the maximum the marginal probability\n",
    "final_decition = np.argmax(p_y_marginal) # fill your code"
   ],
   "outputs": [],
   "execution_count": 23
  },
  {
   "cell_type": "code",
   "metadata": {
    "ExecuteTime": {
     "end_time": "2024-11-01T09:58:16.967509Z",
     "start_time": "2024-11-01T09:58:16.965614Z"
    }
   },
   "source": [
    "print(\"Our final prediction is :\", final_decition)"
   ],
   "outputs": [
    {
     "name": "stdout",
     "output_type": "stream",
     "text": [
      "Our final prediction is : 0\n"
     ]
    }
   ],
   "execution_count": 24
  },
  {
   "cell_type": "markdown",
   "metadata": {},
   "source": [
    "# Step 1.2 Decision According to Utility\n",
    "\n",
    "In some applications, our predictions (or actions $a$) can significantly effect users.\n",
    "\n",
    "Consider a scenario where your friends plan a hike based on your weather prediction $a$.\n",
    "For example if our predictions is rain $a=1$ they dont go for hike.\n",
    "\n",
    "If we wrongly predict bad weather, the impact of your decision is small, as they simply miss the hike.   \n",
    "However, incorrectly predicting good weather can have a greater impact, as your friends may end up hiking in unfavorable conditions, which could affect their safety.\n",
    "\n",
    "One way to adjust our actions according to the effect on the user is to define an additional utility function $U(a, y)$ that outputs a scalar indicating how much our final actions are affected by the outcome $y$.\n",
    "\n",
    "We can then select the action $a$ that maximizes the expected utility $u(a) = E_{y \\sim p_m(y)}[U(a,y)]$ according to our model $p_m$ to estimate the outcome $y$.\n",
    "\n",
    "The expected utility is defined as follows:\n",
    "$$ u(a) = E_{y \\sim p_m(y)}[U(a,y)] = \\sum_y U[a,y] p_m(y) $$\n",
    "\n",
    "And the final action $a$ is the one that maximizes the expected utility:\n",
    "$$ a = \\arg \\max_{a} \\;  u(a) = \\arg \\max_{a} \\;  \\sum_y U[a,y] p_m(y)  $$\n",
    "\n"
   ]
  },
  {
   "cell_type": "markdown",
   "metadata": {},
   "source": [
    "In our example, we have the following utility function $U[a,y]$:\n",
    "\n",
    "$$\n",
    "U[a,y] = \\begin{bmatrix}\n",
    "           1  & -10 \\\\\n",
    "          -1 & 1\n",
    "        \\end{bmatrix}\n",
    "$$\n",
    "\n",
    "So, if our prediction (or action) is correct, i.e., $a = y$ (diagonal of the matrix), then we get a utility of 1.  \n",
    "If our action is 0 (no rain) and it's actually raining ($y=1$), then we incur a big penalty of -10.  \n",
    "If our action is 1 (rain) and it's actually not raining ($y=0$), then we incur a small penalty.\n",
    "\n",
    "\n",
    "**Complete the following steps**:  \n",
    "A) Fill the function bellow, that calculates the expected utility of an action $a$ according to a utility function U, and a model $p_m$  \n",
    "B) Produce the final action $a$ that maximise the expected utility according to the marginal model, and the utility function defined above.  \n",
    "C) Comment on the result. Did you get a different result from before? "
   ]
  },
  {
   "cell_type": "code",
   "metadata": {
    "ExecuteTime": {
     "end_time": "2024-11-01T09:58:19.390407Z",
     "start_time": "2024-11-01T09:58:19.387889Z"
    }
   },
   "source": [
    "def get_expected_utility(action , model , U):\n",
    "    \"\"\"\n",
    "    Calculate the expected utility of an decision a, according to a model, for specific utility function U\n",
    "    \"\"\"\n",
    "    expected_utility = np.sum([U[action][i]*model[i] for i in range(len(model))]) # fill your code\n",
    "    \n",
    "    return expected_utility"
   ],
   "outputs": [],
   "execution_count": 25
  },
  {
   "cell_type": "code",
   "metadata": {
    "ExecuteTime": {
     "end_time": "2024-11-01T09:58:21.096551Z",
     "start_time": "2024-11-01T09:58:21.094848Z"
    }
   },
   "source": [
    "U = np.array([[1, -10],\n",
    "              [-1, 1]])"
   ],
   "outputs": [],
   "execution_count": 26
  },
  {
   "cell_type": "code",
   "metadata": {
    "ExecuteTime": {
     "end_time": "2024-11-01T09:58:43.758972Z",
     "start_time": "2024-11-01T09:58:43.756551Z"
    }
   },
   "source": [
    "# find the best \n",
    "expected_utility_a_0 = get_expected_utility(0,probability_model,U)# fill your code, calculate expected utility of action a=0 based on the marginal model\n",
    "expected_utility_a_1 = get_expected_utility(1, probability_model,U)# fill your code, calculate expected utility of action a=1 based on the marginal model\n",
    "expected_utility = [expected_utility_a_0, expected_utility_a_1] # the whole model"
   ],
   "outputs": [],
   "execution_count": 27
  },
  {
   "cell_type": "code",
   "metadata": {
    "ExecuteTime": {
     "end_time": "2024-11-01T09:58:44.097331Z",
     "start_time": "2024-11-01T09:58:44.095403Z"
    }
   },
   "source": [
    "decition_e_utility = np.argmax(expected_utility) # fill your code\n",
    "print(\"Our final prediction is :\", decition_e_utility)"
   ],
   "outputs": [
    {
     "name": "stdout",
     "output_type": "stream",
     "text": [
      "Our final prediction is : 1\n"
     ]
    }
   ],
   "execution_count": 28
  },
  {
   "cell_type": "markdown",
   "metadata": {},
   "source": [
    "# Step 1.3 Updating Belief\n",
    "\n",
    "Imagine that after the first day, you observe that is actually rains, i.e, $y_{\\text{true}}$=1.  \n",
    "Then it makes sense to update our belief $P_{\\beta}(M)$ about the best model, depending on well the metrologies predicts the weather.\n",
    "\n",
    "We can update the belief $P_{\\beta}(M)$ by calculating the posterior distribution:\n",
    "\n",
    "$$ p(M_i|y_{\\text{true}}) = \\frac{p(y_{\\text{true}}|M_i) \\cdot p(M_i)}{p(y_{\\text{true}})} $$\n",
    "\n",
    "$$ = \\frac{p(y_{\\text{true}}|M_i) \\cdot p(M_i)}{\\sum_{j \\in M} p(y_{\\text{true}}|M_j) \\cdot p(M_j)} $$\n",
    "\n",
    "Then, until we observe some new data, we can use the posterior as our new belief until we observe an new outcome that will change again our belief."
   ]
  },
  {
   "cell_type": "markdown",
   "metadata": {},
   "source": [
    "**Complete the following steps**:  \n",
    "A) Create a function that calculate the posterior probability distribution.  \n",
    "B) Calculate the posterior is the case that the true outcome is y = 1 (rain).  \n",
    "C) Compare the values of the posterior with the values of the prior, comment on the results.  \n",
    "D) Set the belief to be equal to the posterior.  "
   ]
  },
  {
   "cell_type": "code",
   "metadata": {
    "ExecuteTime": {
     "end_time": "2024-11-01T10:03:01.777067Z",
     "start_time": "2024-11-01T10:03:01.774356Z"
    }
   },
   "source": [
    "# A)\n",
    "def get_posterior(prior, P, y_true):\n",
    "    \"\"\"\n",
    "    Calculate the posterior given a prior belief, a set of predictions, an outcome\n",
    "    - prior: belief vector so that prior[i] is the probability of model i being correct\n",
    "    - P: p(y|m) P[y][m] is the probability the m-th model assigns to the y-th outcome\n",
    "    - outcome: actual outcome\n",
    "    \"\"\"\n",
    "    # fill your code\n",
    "    n_models = len(prior)\n",
    "    ## fill in\n",
    "    posterior = np.zeros(n_models)\n",
    "    posterior = P[y_true, :] * prior / sum(P[y_true, :] * prior)\n",
    "    return posterior"
   ],
   "outputs": [],
   "execution_count": 29
  },
  {
   "cell_type": "code",
   "metadata": {
    "ExecuteTime": {
     "end_time": "2024-11-01T10:03:02.178361Z",
     "start_time": "2024-11-01T10:03:02.175579Z"
    }
   },
   "source": [
    "y_true = 1\n",
    "prior"
   ],
   "outputs": [
    {
     "data": {
      "text/plain": [
       "array([0.33333333, 0.33333333, 0.33333333])"
      ]
     },
     "execution_count": 30,
     "metadata": {},
     "output_type": "execute_result"
    }
   ],
   "execution_count": 30
  },
  {
   "cell_type": "code",
   "metadata": {
    "ExecuteTime": {
     "end_time": "2024-11-01T10:03:02.414837Z",
     "start_time": "2024-11-01T10:03:02.411861Z"
    }
   },
   "source": [
    "# B) calculate the posterior, based on the true outcome y_true, and the old model\n",
    "posterior = get_posterior(prior=prior, P=probability_model, y_true=1) # fill your code\n",
    "posterior"
   ],
   "outputs": [
    {
     "data": {
      "text/plain": [
       "array([0.07692308, 0.38461538, 0.53846154])"
      ]
     },
     "execution_count": 31,
     "metadata": {},
     "output_type": "execute_result"
    }
   ],
   "execution_count": 31
  },
  {
   "metadata": {
    "ExecuteTime": {
     "end_time": "2024-11-01T10:03:03.133938Z",
     "start_time": "2024-11-01T10:03:03.130856Z"
    }
   },
   "cell_type": "code",
   "source": "probability_model",
   "outputs": [
    {
     "data": {
      "text/plain": [
       "array([[0.9, 0.5, 0.3],\n",
       "       [0.1, 0.5, 0.7]])"
      ]
     },
     "execution_count": 32,
     "metadata": {},
     "output_type": "execute_result"
    }
   ],
   "execution_count": 32
  },
  {
   "cell_type": "code",
   "metadata": {
    "ExecuteTime": {
     "end_time": "2024-11-01T10:03:03.945094Z",
     "start_time": "2024-11-01T10:03:03.941412Z"
    }
   },
   "source": [
    "# C) compare prior and posterior\n",
    "print(\"Prior distribution:\", prior)\n",
    "print(\"Posterior distribution:\", posterior)\n",
    "\n",
    "# try to add some comment? what you observe?\n",
    "## We trust M1 less because it predicted to not rain with 90% and was wrong, thats why the trust went down to 0.125\n",
    "## Model 3 was the most accurate, so the trust went up to 0.5 from 0.33\n",
    "## Model 2 said it was 50% chance of rain and it rained, so the trust went up to 0.416 from 0.33"
   ],
   "outputs": [
    {
     "name": "stdout",
     "output_type": "stream",
     "text": [
      "Prior distribution: [0.33333333 0.33333333 0.33333333]\n",
      "Posterior distribution: [0.07692308 0.38461538 0.53846154]\n"
     ]
    }
   ],
   "execution_count": 33
  },
  {
   "cell_type": "code",
   "metadata": {
    "ExecuteTime": {
     "end_time": "2024-11-01T10:03:04.166744Z",
     "start_time": "2024-11-01T10:03:04.165112Z"
    }
   },
   "source": [
    "# D) update belief\n",
    "belief = posterior# fill your code"
   ],
   "outputs": [],
   "execution_count": 34
  },
  {
   "cell_type": "markdown",
   "metadata": {},
   "source": [
    "# Step 1.3 Sequential decision-making\n",
    "\n",
    "To wrap up everything above, consider the case that we sequentially have to produce our actions $a$ based on our belief about the model $P_{\\beta}(m)$ and the predictions of the meteorologist. \n",
    "\n",
    "Consider for example, 3 consecutive days we sequential get prediction from the different meteorologist.  \n",
    "At each day we have to produce a predictions (or action $a$).  \n",
    "After each day we also observe the true outcome, so we update our belief to make the decisions the next day."
   ]
  },
  {
   "cell_type": "markdown",
   "metadata": {},
   "source": [
    "**Complete the following steps**:  \n",
    "Iterate over the different days and:  \n",
    "A) Calculate the marginal prediction model based on the current belief  \n",
    "B) Select the action that maximise the marginal prediction model    \n",
    "C) Select the action that maximise the expected utility based on the marginal prediction model     \n",
    "D) Calculate posterior based on the true outcome and use it as a belief for the next day.  \n",
    "F) Comment on the final results"
   ]
  },
  {
   "cell_type": "code",
   "metadata": {
    "ExecuteTime": {
     "end_time": "2024-11-01T10:03:08.684276Z",
     "start_time": "2024-11-01T10:03:08.681031Z"
    }
   },
   "source": [
    "T = 3 # number of time steps\n",
    "n_models = 3 # number of models\n",
    "\n",
    "# build predictions for each station of rain probability\n",
    "predictions = np.array( \n",
    "                       [[0.1, 0.4, 0.7], # day 1\n",
    "                        [0.1, 0.1, 0.8], # day 2\n",
    "                        [0.3, 0.6, 0.9]] # day 3\n",
    "                      )\n",
    "\n",
    "\n",
    "true_y = [0, 0, 1];\n",
    "n_outcomes = 2 # 0 = no rain, 1 = rain"
   ],
   "outputs": [],
   "execution_count": 35
  },
  {
   "cell_type": "code",
   "metadata": {
    "ExecuteTime": {
     "end_time": "2024-11-01T10:03:09.990112Z",
     "start_time": "2024-11-01T10:03:09.985608Z"
    }
   },
   "source": [
    "prior = np.array([1]*n_models)/n_models\n",
    "belief = prior\n",
    "for t in range(T):\n",
    "    # A) get marginal model based on the belief\n",
    "    probability_rain = predictions[t]\n",
    "    probability_model = np.array([1-probability_rain, probability_rain])\n",
    "    p_y0_marginal = get_marginal_probability(0, belief, probability_model)\n",
    "    p_y_1_marginal = get_marginal_probability(1, belief, probability_model)\n",
    "    \n",
    "    p_y_marginal = [p_y0_marginal, p_y_1_marginal]\n",
    "    \n",
    "    # B) Select the action that maximizes the marginal prediction model  \n",
    "    action_marginal = np.argmax(p_y_marginal) \n",
    "    \n",
    "    # C) Select the action that maximizes the expected utility  \n",
    "    actions_expected_utility = [get_expected_utility(0, p_y_marginal, U), get_expected_utility(1, p_y_marginal, U)]\n",
    "    final_actions_utility = np.argmax(actions_expected_utility)\n",
    "    \n",
    "    # D) Calculate posterior based on the true outcome and use it as a belief for the next day.\n",
    "    old_prior = belief\n",
    "    posterior = get_posterior(belief, probability_model, true_y[t])\n",
    "    belief = posterior\n",
    "    \n",
    "    print(f\"-------iteration day {t}\")\n",
    "    print(\"Prior  p(m) = \", old_prior)\n",
    "    print(\"Predictions p(y=1|m) = \", predictions[t])\n",
    "    print(\"True outcome = \", true_y[t])\n",
    "    print(\"Marginal prediction, p_marginal(y=1) = \", p_y_1_marginal)\n",
    "    print(\"Action that maximise the marginal model:\", action_marginal)\n",
    "    print(\"Action that maximise the expected utility U according to the marginal model:\", final_actions_utility)\n",
    "    print(\"Posterior:\", posterior)\n",
    "    print(\"\\n\")"
   ],
   "outputs": [
    {
     "name": "stdout",
     "output_type": "stream",
     "text": [
      "-------iteration day 0\n",
      "Prior  p(m) =  [0.33333333 0.33333333 0.33333333]\n",
      "Predictions p(y=1|m) =  [0.1 0.4 0.7]\n",
      "True outcome =  0\n",
      "Marginal prediction, p_marginal(y=1) =  0.39999999999999997\n",
      "Action that maximise the marginal model: 0\n",
      "Action that maximise the expected utility U according to the marginal model: 1\n",
      "Posterior: [0.5        0.33333333 0.16666667]\n",
      "\n",
      "\n",
      "-------iteration day 1\n",
      "Prior  p(m) =  [0.5        0.33333333 0.16666667]\n",
      "Predictions p(y=1|m) =  [0.1 0.1 0.8]\n",
      "True outcome =  0\n",
      "Marginal prediction, p_marginal(y=1) =  0.2166666666666667\n",
      "Action that maximise the marginal model: 0\n",
      "Action that maximise the expected utility U according to the marginal model: 1\n",
      "Posterior: [0.57446809 0.38297872 0.04255319]\n",
      "\n",
      "\n",
      "-------iteration day 2\n",
      "Prior  p(m) =  [0.57446809 0.38297872 0.04255319]\n",
      "Predictions p(y=1|m) =  [0.3 0.6 0.9]\n",
      "True outcome =  1\n",
      "Marginal prediction, p_marginal(y=1) =  0.4404255319148936\n",
      "Action that maximise the marginal model: 0\n",
      "Action that maximise the expected utility U according to the marginal model: 1\n",
      "Posterior: [0.39130435 0.52173913 0.08695652]\n",
      "\n",
      "\n"
     ]
    }
   ],
   "execution_count": 36
  },
  {
   "cell_type": "markdown",
   "metadata": {},
   "source": [
    "**E) What is the best meteorologist according to the posterior distribution after process?**"
   ]
  },
  {
   "metadata": {},
   "cell_type": "markdown",
   "source": "The second one is the best one. It leads to the right thing every time. But is not confident with the predictions."
  },
  {
   "cell_type": "markdown",
   "metadata": {},
   "source": [
    "# Step 1.4 Decision Based on Maximum a posteriori (MAP)\n",
    "\n",
    "Another way to make decisions is to select the model (\"meteorologist\") that performs the best according to our posterior distribution.\n",
    "\n",
    "More specifically, in each step, we can choose the model that maximizes the posterior:\n",
    "      $$m^{\\star} = \\arg \\max_{m} p(m|Data) $$\n",
    "\n",
    "And then obtain the best action according to that model $p(m|Data)$ instead of the marginal model.\n",
    "1. Obtain the action with the maximum probability according to the best model $p(y|m^{\\star})$.\n",
    "2. The second option is to select the action that maximizes the expected utility based on the best model $p(y|m^{\\star})$."
   ]
  },
  {
   "cell_type": "markdown",
   "metadata": {},
   "source": [
    "**Complete the following steps**:   \n",
    "A) Select the model $m^{\\star}$ with the maximum posterior (MAP estimator)   \n",
    "B) Calculate the action that with the maximum probability according to the model $p(y|m^{\\star})$  \n",
    "C) Calculate the action that with the maximum expected utility, according to the model $p(y|m^{\\star} )$  "
   ]
  },
  {
   "cell_type": "code",
   "metadata": {
    "ExecuteTime": {
     "end_time": "2024-11-01T10:04:39.323797Z",
     "start_time": "2024-11-01T10:04:39.321360Z"
    }
   },
   "source": [
    "predictions = [0.3, 0.3, 0.6]"
   ],
   "outputs": [],
   "execution_count": 37
  },
  {
   "cell_type": "code",
   "metadata": {
    "ExecuteTime": {
     "end_time": "2024-11-01T10:04:39.731252Z",
     "start_time": "2024-11-01T10:04:39.729157Z"
    }
   },
   "source": [
    "#A) \n",
    "map_estimator = np.argmax(posterior) # fill your code"
   ],
   "outputs": [],
   "execution_count": 38
  },
  {
   "cell_type": "code",
   "metadata": {
    "ExecuteTime": {
     "end_time": "2024-11-01T10:04:40.124749Z",
     "start_time": "2024-11-01T10:04:40.122139Z"
    }
   },
   "source": [
    "# B)\n",
    "p_y_1 = predictions[map_estimator] # fill your code\n",
    "p_y_map = [1-p_y_1, p_y_1]\n",
    "\n",
    "action_marginal = np.argmax(p_y_map) # fill your code\n",
    "action_marginal"
   ],
   "outputs": [
    {
     "data": {
      "text/plain": [
       "0"
      ]
     },
     "execution_count": 39,
     "metadata": {},
     "output_type": "execute_result"
    }
   ],
   "execution_count": 39
  },
  {
   "cell_type": "code",
   "metadata": {
    "ExecuteTime": {
     "end_time": "2024-11-01T10:04:40.748767Z",
     "start_time": "2024-11-01T10:04:40.746237Z"
    }
   },
   "source": [
    "# C) expected utility\n",
    "u_a_1 = get_expected_utility(1,p_y_map , U) # fill your code\n",
    "u_a_0 = get_expected_utility(0, p_y_map, U) # fill your code\n",
    "\n",
    "final_actions_utility = np.argmax([u_a_0, u_a_1]) # fill your code\n",
    "final_actions_utility"
   ],
   "outputs": [
    {
     "data": {
      "text/plain": [
       "1"
      ]
     },
     "execution_count": 40,
     "metadata": {},
     "output_type": "execute_result"
    }
   ],
   "execution_count": 40
  },
  {
   "metadata": {
    "ExecuteTime": {
     "end_time": "2024-10-26T12:33:17.069009Z",
     "start_time": "2024-10-26T12:33:17.067345Z"
    }
   },
   "cell_type": "code",
   "source": "",
   "outputs": [],
   "execution_count": 39
  },
  {
   "metadata": {},
   "cell_type": "code",
   "outputs": [],
   "execution_count": null,
   "source": ""
  }
 ],
 "metadata": {
  "kernelspec": {
   "display_name": "Python 3 (ipykernel)",
   "language": "python",
   "name": "python3"
  },
  "language_info": {
   "codemirror_mode": {
    "name": "ipython",
    "version": 3
   },
   "file_extension": ".py",
   "mimetype": "text/x-python",
   "name": "python",
   "nbconvert_exporter": "python",
   "pygments_lexer": "ipython3",
   "version": "3.9.18"
  }
 },
 "nbformat": 4,
 "nbformat_minor": 1
}
