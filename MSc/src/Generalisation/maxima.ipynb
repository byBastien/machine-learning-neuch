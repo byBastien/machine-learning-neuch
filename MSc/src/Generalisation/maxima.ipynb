{
 "cells": [
  {
   "cell_type": "markdown",
   "metadata": {},
   "source": [
    "# One fundamental reason for generalisation error\n",
    "\n",
    "In machine learning, one typically discusses generalisation error in terms of a difference in performance when developing a machine learning system and deploying it in real life. \n",
    "\n",
    "In particular, the system has many variables (*parameters* tuned automtically by the learning algorithm and so-called *hyperparameters* adjusted either by hand or a meta-algorithm). These are optimised to maximise a particular utility function (or, eqiuvalently to minimise a cost function).\n",
    "\n",
    "However this utility is typically calculated over some finite set of data, while in reality, we would like to optimise performance for the real-life distribution. Thus, there is a mismatch in objectives: the utility function we are maximising is not the same as the one we would like to be maximising. \n",
    "\n",
    "Since the distance between the two functions depends on the amount of data we have, this leads to a \"generalisation error\". The more examples we have, the better we can tune our system.\n",
    "\n",
    "There are two other sources of error. Firstly, there might be an amount of inherent unpredictability in the problem we are trying to model. Secondly, the model space we are exploring through our parameter search may not include the best possible model for the problem.\n"
   ]
  },
  {
   "cell_type": "code",
   "execution_count": 2,
   "metadata": {},
   "outputs": [],
   "source": [
    "import numpy as np"
   ]
  },
  {
   "cell_type": "code",
   "execution_count": 3,
   "metadata": {},
   "outputs": [],
   "source": [
    "def true_function(x):\n",
    "    return (-x*x + 2*x)"
   ]
  },
  {
   "cell_type": "code",
   "execution_count": 4,
   "metadata": {},
   "outputs": [],
   "source": [
    "def train_function(x):\n",
    "    return (-2*(x-2)*(x-2)+3)"
   ]
  },
  {
   "cell_type": "code",
   "execution_count": 5,
   "metadata": {},
   "outputs": [],
   "source": [
    "X = np.linspace(-5,5)"
   ]
  },
  {
   "cell_type": "code",
   "execution_count": 15,
   "metadata": {},
   "outputs": [
    {
     "data": {
      "text/plain": [
       "[<matplotlib.lines.Line2D at 0x7fda5ec6a2e0>]"
      ]
     },
     "execution_count": 15,
     "metadata": {},
     "output_type": "execute_result"
    },
    {
     "data": {
      "image/png": "[encoded data removed]",
      "text/plain": [
       "<Figure size 432x288 with 1 Axes>"
      ]
     },
     "metadata": {
      "needs_background": "light"
     },
     "output_type": "display_data"
    }
   ],
   "source": [
    "import matplotlib.pyplot as plt\n",
    "x_true = X[np.argmax(true_function(X))]\n",
    "x_train = X[np.argmax(train_function(X))]\n",
    "plt.plot(X, true_function(X))\n",
    "plt.plot(X, train_function(X))\n",
    "plt.plot(x_true, true_function(x_true),'o')\n",
    "plt.plot(x_train, train_function(x_train),'v')"
   ]
  },
  {
   "cell_type": "code",
   "execution_count": 8,
   "metadata": {},
   "outputs": [],
   "source": []
  },
  {
   "cell_type": "code",
   "execution_count": null,
   "metadata": {},
   "outputs": [],
   "source": []
  },
  {
   "cell_type": "code",
   "execution_count": null,
   "metadata": {},
   "outputs": [],
   "source": []
  }
 ],
 "metadata": {
  "kernelspec": {
   "display_name": "Python 3",
   "language": "python",
   "name": "python3"
  },
  "language_info": {
   "codemirror_mode": {
    "name": "ipython",
    "version": 3
   },
   "file_extension": ".py",
   "mimetype": "text/x-python",
   "name": "python",
   "nbconvert_exporter": "python",
   "pygments_lexer": "ipython3",
   "version": "3.8.10"
  }
 },
 "nbformat": 4,
 "nbformat_minor": 4
}
