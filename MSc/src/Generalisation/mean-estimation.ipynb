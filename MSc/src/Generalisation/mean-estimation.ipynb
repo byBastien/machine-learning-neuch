{
 "cells": [
  {
   "cell_type": "code",
   "execution_count": 1,
   "metadata": {},
   "outputs": [],
   "source": [
    "import numpy as np\n",
    "rng = np.random.default_rng()\n",
    "n_iter = 10000\n",
    "max_samples = 100\n",
    "mu = 0.1\n",
    "smoothing = 1"
   ]
  },
  {
   "cell_type": "code",
   "execution_count": 2,
   "metadata": {},
   "outputs": [],
   "source": [
    "def empirical_mean_estimator(data):\n",
    "    return np.mean(data)"
   ]
  },
  {
   "cell_type": "code",
   "execution_count": 3,
   "metadata": {},
   "outputs": [],
   "source": [
    "def laplace_mean_estimator(data):\n",
    "    return (smoothing + np.sum(data))/(2*smoothing + len(data))"
   ]
  },
  {
   "cell_type": "code",
   "execution_count": 4,
   "metadata": {},
   "outputs": [
    {
     "name": "stdout",
     "output_type": "stream",
     "text": [
      "0.1 0.0 0.08333333333333333\n"
     ]
    }
   ],
   "source": [
    "data = rng.choice([0,1],p=[1-mu,mu], size=10)\n",
    "empirical_mean = empirical_mean_estimator(data)\n",
    "laplace_mean = laplace_mean_estimator(data)\n",
    "print(mu, empirical_mean, laplace_mean)"
   ]
  },
  {
   "cell_type": "code",
   "execution_count": 5,
   "metadata": {},
   "outputs": [],
   "source": [
    "def do_experiment(estimator, mu, n_samples, n_iter):\n",
    "    \n",
    "    bias = 0\n",
    "    meansq = 0\n",
    "    mean = 0\n",
    "    for t in range(n_iter):\n",
    "        estimate = estimator(rng.choice([0,1],p=[1-mu,mu], size=n_samples))\n",
    "        bias += estimate - mu\n",
    "        meansq += estimate*estimate\n",
    "        mean += estimate\n",
    "    mean /= n_iter\n",
    "    bias /= n_iter #mean - mu\n",
    "    meansq /= n_iter\n",
    "    variance = meansq - mean*mean\n",
    "    return bias, variance"
   ]
  },
  {
   "cell_type": "code",
   "execution_count": null,
   "metadata": {},
   "outputs": [],
   "source": [
    "bias = np.zeros(max_samples)\n",
    "variance = np.zeros(max_samples)\n",
    "for n_samples in range(max_samples):\n",
    "    bias[n_samples], variance[n_samples] = do_experiment(empirical_mean_estimator, mu, 1 + n_samples, n_iter)\n",
    "    "
   ]
  },
  {
   "cell_type": "code",
   "execution_count": null,
   "metadata": {},
   "outputs": [],
   "source": [
    "import matplotlib.pyplot as plt\n",
    "plt.plot(bias)\n",
    "plt.plot(variance)\n",
    "plt.legend([\"Bias\", \"Variance\"])\n",
    "plt.title(\"Empirical estimator\")"
   ]
  },
  {
   "cell_type": "code",
   "execution_count": null,
   "metadata": {},
   "outputs": [],
   "source": [
    "lbias = np.zeros(max_samples)\n",
    "lvariance = np.zeros(max_samples)\n",
    "for n_samples in range(max_samples):\n",
    "    lbias[n_samples], lvariance[n_samples] = do_experiment(laplace_mean_estimator, mu, 1 + n_samples, n_iter)\n",
    "    "
   ]
  },
  {
   "cell_type": "markdown",
   "metadata": {},
   "source": [
    "# The Laplace estimator\n",
    "\n",
    "The Laplace estimator can be written as\n",
    "$\\hat{\\mu} = (1 + s) / (2 + T)$ so in expectation\n",
    "$E[\\hat{\\mu}] = (1 + \\mu) / (2 + T)$. Consequently, the bias is\n",
    "$E[\\hat{\\mu}] - \\mu = [1 + \\mu - 2\\mu - T\\mu]/(2+T) = [1 - (T+1)\\mu]/(2+T)$.\n",
    "When $\\mu = 0$, then the bias is $1 / (2 + T)$. When it is $\\mu=1/2$, then it is zero.\n",
    "This is because the Laplace estimator biases the mean estimate towards $1/2$.\n",
    "So, we can overall say that $Bias = O(1/T)$ for the Laplace estimator.\n",
    "\n",
    "However, as it also makes the estimator smoother, it reduces the variance.\n",
    "\n"
   ]
  },
  {
   "cell_type": "code",
   "execution_count": null,
   "metadata": {},
   "outputs": [],
   "source": [
    "import matplotlib.pyplot as plt\n",
    "plt.plot(lbias)\n",
    "plt.plot(lvariance)\n",
    "plt.legend([\"Bias\", \"Variance\"])\n",
    "plt.title(\"Laplace estimator\")"
   ]
  },
  {
   "cell_type": "code",
   "execution_count": null,
   "metadata": {},
   "outputs": [],
   "source": [
    "import matplotlib.pyplot as plt\n",
    "plt.plot(bias)\n",
    "plt.plot(lbias)\n",
    "plt.legend([\"Empirical\", \"Laplace\"])\n",
    "plt.title(\"Bias\")"
   ]
  },
  {
   "cell_type": "code",
   "execution_count": null,
   "metadata": {},
   "outputs": [],
   "source": [
    "plt.plot(variance)\n",
    "plt.loglog(lvariance)\n",
    "plt.legend([\"Empirical\", \"Laplace\"])\n",
    "plt.title(\"Variance\")"
   ]
  },
  {
   "cell_type": "code",
   "execution_count": null,
   "metadata": {},
   "outputs": [],
   "source": []
  },
  {
   "cell_type": "code",
   "execution_count": null,
   "metadata": {},
   "outputs": [],
   "source": []
  }
 ],
 "metadata": {
  "kernelspec": {
   "display_name": "Python 3",
   "language": "python",
   "name": "python3"
  },
  "language_info": {
   "codemirror_mode": {
    "name": "ipython",
    "version": 3
   },
   "file_extension": ".py",
   "mimetype": "text/x-python",
   "name": "python",
   "nbconvert_exporter": "python",
   "pygments_lexer": "ipython3",
   "version": "3.8.10"
  }
 },
 "nbformat": 4,
 "nbformat_minor": 4
}
