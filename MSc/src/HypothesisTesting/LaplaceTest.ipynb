{
 "cells": [
  {
   "cell_type": "code",
   "execution_count": 1,
   "metadata": {},
   "outputs": [],
   "source": [
    "import numpy as np\n"
   ]
  },
  {
   "cell_type": "code",
   "execution_count": 29,
   "metadata": {},
   "outputs": [],
   "source": [
    "rng = np.random.default_rng()"
   ]
  },
  {
   "cell_type": "code",
   "execution_count": 30,
   "metadata": {},
   "outputs": [],
   "source": [
    "n_samples=10000\n",
    "X = rng.laplace(size=n_samples) "
   ]
  },
  {
   "cell_type": "markdown",
   "metadata": {},
   "source": [
    "# The CDF of Laplace\n",
    "\n",
    "Consider a standard Laplace distribution with density\n",
    "$f(x) = 1/2 e^{-|x|}$.\n",
    "\n",
    "Then, the probability that $x \\leq -\\theta$, with $\\theta > 0$, is\n",
    "$$CDF(-\\theta) = P(x < - \\theta) = \\int_{-\\infty}^{-\\theta} \\frac{1}{2} e^{-|x|} =  \\int_{-\\infty}^{-\\theta} \\frac{1}{2} e^{x} dx$$,\n",
    "because $x$ is negative in this interval.\n",
    "\n",
    "The anti-derivative here is $F(x) = \\frac{1}{2} e^{x}$. So\n",
    "$$CDF(-\\theta) = [F(x)]^{-\\theta}_{-\\infty} = F(-\\theta) - F(-\\infty) =  \\frac{1}{2} [e^{-\\theta} - e^{-\\infty}] = \\frac{1}{2}e^{-\\theta}$$.\n",
    "\n",
    "By symmetry, $P(x > \\theta) = CDF(-\\theta) = \\frac{1}{2}e^{-\\theta}$. Consequently,\n",
    "$P(|x| > \\theta) = e^{-\\theta}$.\n",
    "\n",
    "Since we only reject $H_0$ when $|x| > \\theta$, we can fix the probability $\\alpha$ of doing so by solving the equation for $\\theta$:\n",
    "$\\alpha = P(|x| > \\theta) = e^{-\\theta}$ results in $\\theta = \\ln(2/\\alpha)$.\n",
    "\n"
   ]
  },
  {
   "cell_type": "code",
   "execution_count": 48,
   "metadata": {},
   "outputs": [],
   "source": [
    "# alpha: probability of false negative P(false | h_0)\n",
    "# Return TRUE if H_0 is accepted\n",
    "def laplace_zero_mean_test(x, alpha):\n",
    "    threshold = np.log (1 / alpha)\n",
    "    if (np.abs(x) > threshold):\n",
    "        return True\n",
    "    else:\n",
    "        return False\n",
    "    \n",
    "#\n",
    "def laplace_zero_mean_cdf(x, alpha):\n",
    "    pass\n"
   ]
  },
  {
   "cell_type": "code",
   "execution_count": 49,
   "metadata": {},
   "outputs": [],
   "source": [
    "test = []\n",
    "alpharange = np.arange(0.01,0.5,0.01)\n",
    "for alpha in alpharange:\n",
    "    test.append(np.mean([laplace_zero_mean_test(x[t], alpha) for t in range(n_samples)]))"
   ]
  },
  {
   "cell_type": "code",
   "execution_count": 50,
   "metadata": {},
   "outputs": [
    {
     "data": {
      "text/plain": [
       "Text(0, 0.5, 'error rate')"
      ]
     },
     "execution_count": 50,
     "metadata": {},
     "output_type": "execute_result"
    },
    {
     "data": {
      "image/png": "[encoded data removed]",
      "text/plain": [
       "<Figure size 432x288 with 1 Axes>"
      ]
     },
     "metadata": {
      "needs_background": "light"
     },
     "output_type": "display_data"
    }
   ],
   "source": [
    "import matplotlib.pyplot as plt\n",
    "plt.plot(alpharange, test)\n",
    "plt.grid()\n",
    "plt.xlabel(\"error probability\")\n",
    "plt.ylabel(\"error rate\")"
   ]
  },
  {
   "cell_type": "code",
   "execution_count": 68,
   "metadata": {},
   "outputs": [
    {
     "data": {
      "text/plain": [
       "(array([ 967., 1009.,  969.,  997.,  993., 1022., 1014., 1048.,  984.,\n",
       "         997.]),\n",
       " array([7.80609646e-05, 1.00064840e-01, 2.00051618e-01, 3.00038397e-01,\n",
       "        4.00025176e-01, 5.00011954e-01, 5.99998733e-01, 6.99985512e-01,\n",
       "        7.99972290e-01, 8.99959069e-01, 9.99945848e-01]),\n",
       " <BarContainer object of 10 artists>)"
      ]
     },
     "execution_count": 68,
     "metadata": {},
     "output_type": "execute_result"
    },
    {
     "data": {
      "image/png": "[encoded data removed]",
      "text/plain": [
       "<Figure size 432x288 with 1 Axes>"
      ]
     },
     "metadata": {
      "needs_background": "light"
     },
     "output_type": "display_data"
    }
   ],
   "source": [
    "# By definition, if $\\theta \\sim P$, then the distribution of $p(\\theta) = P(x \\leq \\theta)$ is uniform in $[0,1]$\n",
    "# Here is a short experiment that shows that.\n",
    "import scipy\n",
    "plt.hist(scipy.stats.laplace.cdf(X))"
   ]
  },
  {
   "cell_type": "markdown",
   "metadata": {},
   "source": [
    "# Constructing a Null Hypothesis Test\n",
    "\n",
    "In general, if we want to create a decision rule for deciding if some sample $x$ comes from a distribution $P$, and we want the rule to only fail an $\\alpha$ portion of the time, it suffices to consider some subset $S_1 \\subset X$ of the possible values of $x$ so that we accept $P$ if and only if $x \\notin S_1$. We must construct $S_1$ so that $P(S_1) = \\alpha$, while the corresponding acceptance set is $S_0 = X - \\setminus S_1$ obeys $P(S_0) = 1 - \\alpha$.\n",
    "\n",
    "However, we typically do not want $S_0$ to be arbitrary. We instead want it focus around the high density areas of $P$. For example, for a normal distribution, it should be centered around the mean. This will ensure that the test has high power against the unknown alternative. So, as a rule of thumb, $S_0$ is in the center and $S_1$ in the tails of the distribution.\n",
    "\n",
    "If we have direct access to the CDF of a distribution on the real numbers, then constructing the test is easy. First of all, the probability that any $x$ is below the observed value $x_t$ is\n",
    "$$\n",
    "P(x \\leq x_t) = CDF(x_t) = c_t\n",
    "$$\n",
    "Now, $x_t$ is a random sample with distribution $P$. Hence, the value of the CDF we observe is also a random variable. Note that by definition of the CDF, the distribution of $c_t$ is uniform. In fact\n",
    "$$\n",
    "\\Pr(c_t \\leq c) = c.\n",
    "$$\n",
    "\n",
    "So, to construct a test with a CDF, we merely have to observe $x_t$ and then check if $CDF(x_t) < \\alpha$. This will only happen an $\\alpha$ fraction of the time if $x_t \\sim P$.\n",
    "\n",
    "You can also use the inverse CDF, of course. Find $x^*$ such that $CDF(x^*) = \\alpha$. Then, if $x_t < x^*$,  you can reject $P$.\n",
    "\n"
   ]
  },
  {
   "cell_type": "code",
   "execution_count": null,
   "metadata": {},
   "outputs": [],
   "source": []
  }
 ],
 "metadata": {
  "kernelspec": {
   "display_name": "Python 3",
   "language": "python",
   "name": "python3"
  },
  "language_info": {
   "codemirror_mode": {
    "name": "ipython",
    "version": 3
   },
   "file_extension": ".py",
   "mimetype": "text/x-python",
   "name": "python",
   "nbconvert_exporter": "python",
   "pygments_lexer": "ipython3",
   "version": "3.8.10"
  }
 },
 "nbformat": 4,
 "nbformat_minor": 4
}
